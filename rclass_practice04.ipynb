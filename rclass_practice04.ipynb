{
 "cells": [
  {
   "cell_type": "code",
   "execution_count": 1,
   "metadata": {},
   "outputs": [
    {
     "data": {
      "text/html": [
       "<table>\n",
       "<thead><tr><th scope=col>Tree</th><th scope=col>age</th><th scope=col>circumference</th></tr></thead>\n",
       "<tbody>\n",
       "\t<tr><td>1   </td><td> 118</td><td> 30 </td></tr>\n",
       "\t<tr><td>1   </td><td> 484</td><td> 58 </td></tr>\n",
       "\t<tr><td>1   </td><td> 664</td><td> 87 </td></tr>\n",
       "\t<tr><td>1   </td><td>1004</td><td>115 </td></tr>\n",
       "\t<tr><td>1   </td><td>1231</td><td>120 </td></tr>\n",
       "\t<tr><td>1   </td><td>1372</td><td>142 </td></tr>\n",
       "</tbody>\n",
       "</table>\n"
      ],
      "text/latex": [
       "\\begin{tabular}{r|lll}\n",
       " Tree & age & circumference\\\\\n",
       "\\hline\n",
       "\t 1    &  118 &  30 \\\\\n",
       "\t 1    &  484 &  58 \\\\\n",
       "\t 1    &  664 &  87 \\\\\n",
       "\t 1    & 1004 & 115 \\\\\n",
       "\t 1    & 1231 & 120 \\\\\n",
       "\t 1    & 1372 & 142 \\\\\n",
       "\\end{tabular}\n"
      ],
      "text/markdown": [
       "\n",
       "| Tree | age | circumference |\n",
       "|---|---|---|\n",
       "| 1    |  118 |  30  |\n",
       "| 1    |  484 |  58  |\n",
       "| 1    |  664 |  87  |\n",
       "| 1    | 1004 | 115  |\n",
       "| 1    | 1231 | 120  |\n",
       "| 1    | 1372 | 142  |\n",
       "\n"
      ],
      "text/plain": [
       "  Tree age  circumference\n",
       "1 1     118  30          \n",
       "2 1     484  58          \n",
       "3 1     664  87          \n",
       "4 1    1004 115          \n",
       "5 1    1231 120          \n",
       "6 1    1372 142          "
      ]
     },
     "metadata": {},
     "output_type": "display_data"
    }
   ],
   "source": [
    "# 위는 iris로 돌았으니까 이번에는 Orange로 돌아보자\n",
    "head(Orange)"
   ]
  },
  {
   "cell_type": "code",
   "execution_count": 2,
   "metadata": {},
   "outputs": [
    {
     "data": {
      "text/html": [
       "<table>\n",
       "<thead><tr><th></th><th scope=col>Tree</th><th scope=col>age</th><th scope=col>circumference</th></tr></thead>\n",
       "<tbody>\n",
       "\t<tr><th scope=row>30</th><td>5   </td><td> 484</td><td> 49 </td></tr>\n",
       "\t<tr><th scope=row>31</th><td>5   </td><td> 664</td><td> 81 </td></tr>\n",
       "\t<tr><th scope=row>32</th><td>5   </td><td>1004</td><td>125 </td></tr>\n",
       "\t<tr><th scope=row>33</th><td>5   </td><td>1231</td><td>142 </td></tr>\n",
       "\t<tr><th scope=row>34</th><td>5   </td><td>1372</td><td>174 </td></tr>\n",
       "\t<tr><th scope=row>35</th><td>5   </td><td>1582</td><td>177 </td></tr>\n",
       "</tbody>\n",
       "</table>\n"
      ],
      "text/latex": [
       "\\begin{tabular}{r|lll}\n",
       "  & Tree & age & circumference\\\\\n",
       "\\hline\n",
       "\t30 & 5    &  484 &  49 \\\\\n",
       "\t31 & 5    &  664 &  81 \\\\\n",
       "\t32 & 5    & 1004 & 125 \\\\\n",
       "\t33 & 5    & 1231 & 142 \\\\\n",
       "\t34 & 5    & 1372 & 174 \\\\\n",
       "\t35 & 5    & 1582 & 177 \\\\\n",
       "\\end{tabular}\n"
      ],
      "text/markdown": [
       "\n",
       "| <!--/--> | Tree | age | circumference |\n",
       "|---|---|---|---|\n",
       "| 30 | 5    |  484 |  49  |\n",
       "| 31 | 5    |  664 |  81  |\n",
       "| 32 | 5    | 1004 | 125  |\n",
       "| 33 | 5    | 1231 | 142  |\n",
       "| 34 | 5    | 1372 | 174  |\n",
       "| 35 | 5    | 1582 | 177  |\n",
       "\n"
      ],
      "text/plain": [
       "   Tree age  circumference\n",
       "30 5     484  49          \n",
       "31 5     664  81          \n",
       "32 5    1004 125          \n",
       "33 5    1231 142          \n",
       "34 5    1372 174          \n",
       "35 5    1582 177          "
      ]
     },
     "metadata": {},
     "output_type": "display_data"
    }
   ],
   "source": [
    "tail(Orange)"
   ]
  },
  {
   "cell_type": "code",
   "execution_count": 3,
   "metadata": {},
   "outputs": [
    {
     "data": {
      "text/plain": [
       " Tree       age         circumference  \n",
       " 3:7   Min.   : 118.0   Min.   : 30.0  \n",
       " 1:7   1st Qu.: 484.0   1st Qu.: 65.5  \n",
       " 5:7   Median :1004.0   Median :115.0  \n",
       " 2:7   Mean   : 922.1   Mean   :115.9  \n",
       " 4:7   3rd Qu.:1372.0   3rd Qu.:161.5  \n",
       "       Max.   :1582.0   Max.   :214.0  "
      ]
     },
     "metadata": {},
     "output_type": "display_data"
    }
   ],
   "source": [
    "summary(Orange)"
   ]
  },
  {
   "cell_type": "code",
   "execution_count": 4,
   "metadata": {},
   "outputs": [
    {
     "data": {
      "text/plain": [
       "   Min. 1st Qu.  Median    Mean 3rd Qu.    Max. \n",
       "  118.0   484.0  1004.0   922.1  1372.0  1582.0 "
      ]
     },
     "metadata": {},
     "output_type": "display_data"
    }
   ],
   "source": [
    "summary(Orange$age)"
   ]
  },
  {
   "cell_type": "code",
   "execution_count": 5,
   "metadata": {},
   "outputs": [
    {
     "name": "stdout",
     "output_type": "stream",
     "text": [
      "Classes 'nfnGroupedData', 'nfGroupedData', 'groupedData' and 'data.frame':\t35 obs. of  3 variables:\n",
      " $ Tree         : Ord.factor w/ 5 levels \"3\"<\"1\"<\"5\"<\"2\"<..: 2 2 2 2 2 2 2 4 4 4 ...\n",
      " $ age          : num  118 484 664 1004 1231 ...\n",
      " $ circumference: num  30 58 87 115 120 142 145 33 69 111 ...\n",
      " - attr(*, \"formula\")=Class 'formula'  language circumference ~ age | Tree\n",
      "  .. ..- attr(*, \".Environment\")=<environment: R_EmptyEnv> \n",
      " - attr(*, \"labels\")=List of 2\n",
      "  ..$ x: chr \"Time since December 31, 1968\"\n",
      "  ..$ y: chr \"Trunk circumference\"\n",
      " - attr(*, \"units\")=List of 2\n",
      "  ..$ x: chr \"(days)\"\n",
      "  ..$ y: chr \"(mm)\"\n"
     ]
    }
   ],
   "source": [
    "str(Orange)"
   ]
  },
  {
   "cell_type": "code",
   "execution_count": 6,
   "metadata": {},
   "outputs": [
    {
     "data": {
      "text/html": [
       "<ol class=list-inline>\n",
       "\t<li>35</li>\n",
       "\t<li>3</li>\n",
       "</ol>\n"
      ],
      "text/latex": [
       "\\begin{enumerate*}\n",
       "\\item 35\n",
       "\\item 3\n",
       "\\end{enumerate*}\n"
      ],
      "text/markdown": [
       "1. 35\n",
       "2. 3\n",
       "\n",
       "\n"
      ],
      "text/plain": [
       "[1] 35  3"
      ]
     },
     "metadata": {},
     "output_type": "display_data"
    }
   ],
   "source": [
    "dim(Orange) # 차원 카운트 : Orange는 35행 3열"
   ]
  },
  {
   "cell_type": "code",
   "execution_count": 7,
   "metadata": {},
   "outputs": [
    {
     "data": {
      "text/html": [
       "35"
      ],
      "text/latex": [
       "35"
      ],
      "text/markdown": [
       "35"
      ],
      "text/plain": [
       "[1] 35"
      ]
     },
     "metadata": {},
     "output_type": "display_data"
    }
   ],
   "source": [
    "nrow(Orange)"
   ]
  },
  {
   "cell_type": "code",
   "execution_count": 8,
   "metadata": {},
   "outputs": [
    {
     "data": {
      "text/html": [
       "3"
      ],
      "text/latex": [
       "3"
      ],
      "text/markdown": [
       "3"
      ],
      "text/plain": [
       "[1] 3"
      ]
     },
     "metadata": {},
     "output_type": "display_data"
    }
   ],
   "source": [
    "ncol(Orange)"
   ]
  },
  {
   "cell_type": "code",
   "execution_count": 9,
   "metadata": {},
   "outputs": [
    {
     "data": {
      "text/html": [
       "3"
      ],
      "text/latex": [
       "3"
      ],
      "text/markdown": [
       "3"
      ],
      "text/plain": [
       "[1] 3"
      ]
     },
     "metadata": {},
     "output_type": "display_data"
    }
   ],
   "source": [
    "length(Orange) # 데이터 프레임의 데이터셋 길이 = 열 길이"
   ]
  },
  {
   "cell_type": "code",
   "execution_count": 10,
   "metadata": {},
   "outputs": [
    {
     "data": {
      "text/html": [],
      "text/latex": [],
      "text/markdown": [],
      "text/plain": [
       "character(0)"
      ]
     },
     "metadata": {},
     "output_type": "display_data"
    }
   ],
   "source": [
    "ls() # 선언된 변수 - 본 코드에는 선언된 변수가 없어서 없다."
   ]
  },
  {
   "cell_type": "code",
   "execution_count": null,
   "metadata": {},
   "outputs": [],
   "source": [
    "object.size(Orange)"
   ]
  }
 ],
 "metadata": {
  "kernelspec": {
   "display_name": "R",
   "language": "R",
   "name": "ir"
  },
  "language_info": {
   "codemirror_mode": "r",
   "file_extension": ".r",
   "mimetype": "text/x-r-source",
   "name": "R",
   "pygments_lexer": "r",
   "version": "3.6.1"
  }
 },
 "nbformat": 4,
 "nbformat_minor": 4
}
