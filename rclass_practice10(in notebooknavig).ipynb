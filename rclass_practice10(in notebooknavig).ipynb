{
 "cells": [
  {
   "cell_type": "code",
   "execution_count": 2,
   "id": "historical-traffic",
   "metadata": {},
   "outputs": [],
   "source": [
    "library(readxl)\n",
    "library(dplyr)\n",
    "\n",
    "customer_r <- read_excel(\"r_practice/customer_r.xlsx\")\n",
    "reservation_r <- read_excel(\"r_practice/reservation_r.xlsx\")\n",
    "order_info_r <- read_excel(\"r_practice/order_info_r.xlsx\")\n",
    "item_r <- read_excel(\"r_practice/item_r.xlsx\")"
   ]
  },
  {
   "cell_type": "code",
   "execution_count": 3,
   "id": "embedded-rebecca",
   "metadata": {},
   "outputs": [
    {
     "data": {
      "text/html": [
       "<table>\n",
       "<thead><tr><th scope=col>RESERV_NO</th><th scope=col>amt_daily</th></tr></thead>\n",
       "<tbody>\n",
       "\t<tr><td>2019060301</td><td>140       </td></tr>\n",
       "\t<tr><td>2019060601</td><td>152       </td></tr>\n",
       "\t<tr><td>2019060701</td><td> 48       </td></tr>\n",
       "\t<tr><td>2019061601</td><td>105       </td></tr>\n",
       "\t<tr><td>2019061801</td><td> 48       </td></tr>\n",
       "\t<tr><td>2019062001</td><td> 10       </td></tr>\n",
       "\t<tr><td>2019062201</td><td> 48       </td></tr>\n",
       "\t<tr><td>2019062601</td><td>  8       </td></tr>\n",
       "\t<tr><td>2019062901</td><td> 54       </td></tr>\n",
       "\t<tr><td>2019070101</td><td> 50       </td></tr>\n",
       "\t<tr><td>2019070102</td><td>100       </td></tr>\n",
       "\t<tr><td>2019070302</td><td> 50       </td></tr>\n",
       "\t<tr><td>2019070501</td><td> 48       </td></tr>\n",
       "\t<tr><td>2019070702</td><td> 46       </td></tr>\n",
       "\t<tr><td>2019070801</td><td> 70       </td></tr>\n",
       "\t<tr><td>2019071001</td><td> 48       </td></tr>\n",
       "\t<tr><td>2019071002</td><td>105       </td></tr>\n",
       "\t<tr><td>2019071101</td><td> 58       </td></tr>\n",
       "\t<tr><td>2019071201</td><td> 49       </td></tr>\n",
       "\t<tr><td>2019071401</td><td> 17       </td></tr>\n",
       "\t<tr><td>2019071501</td><td> 36       </td></tr>\n",
       "\t<tr><td>2019071601</td><td> 75       </td></tr>\n",
       "\t<tr><td>2019071602</td><td> 10       </td></tr>\n",
       "\t<tr><td>2019071801</td><td>140       </td></tr>\n",
       "\t<tr><td>2019071901</td><td> 73       </td></tr>\n",
       "\t<tr><td>2019072002</td><td> 10       </td></tr>\n",
       "\t<tr><td>2019072101</td><td>  6       </td></tr>\n",
       "\t<tr><td>2019072102</td><td> 17       </td></tr>\n",
       "\t<tr><td>2019072203</td><td> 50       </td></tr>\n",
       "\t<tr><td>2019072401</td><td>105       </td></tr>\n",
       "\t<tr><td>...</td><td>...</td></tr>\n",
       "\t<tr><td>2019122603</td><td> 35       </td></tr>\n",
       "\t<tr><td>2019122604</td><td>264       </td></tr>\n",
       "\t<tr><td>2019122605</td><td>100       </td></tr>\n",
       "\t<tr><td>2019122701</td><td>100       </td></tr>\n",
       "\t<tr><td>2019122702</td><td> 86       </td></tr>\n",
       "\t<tr><td>2019122703</td><td> 86       </td></tr>\n",
       "\t<tr><td>2019122704</td><td> 48       </td></tr>\n",
       "\t<tr><td>2019122706</td><td> 24       </td></tr>\n",
       "\t<tr><td>2019122801</td><td>215       </td></tr>\n",
       "\t<tr><td>2019122802</td><td> 60       </td></tr>\n",
       "\t<tr><td>2019122803</td><td> 50       </td></tr>\n",
       "\t<tr><td>2019122804</td><td> 86       </td></tr>\n",
       "\t<tr><td>2019122805</td><td> 17       </td></tr>\n",
       "\t<tr><td>2019122806</td><td>240       </td></tr>\n",
       "\t<tr><td>2019122807</td><td> 34       </td></tr>\n",
       "\t<tr><td>2019122808</td><td> 10       </td></tr>\n",
       "\t<tr><td>2019122809</td><td>140       </td></tr>\n",
       "\t<tr><td>2019122810</td><td> 86       </td></tr>\n",
       "\t<tr><td>2019122901</td><td>172       </td></tr>\n",
       "\t<tr><td>2019122902</td><td> 34       </td></tr>\n",
       "\t<tr><td>2019123002</td><td> 51       </td></tr>\n",
       "\t<tr><td>2019123003</td><td>192       </td></tr>\n",
       "\t<tr><td>2019123005</td><td> 70       </td></tr>\n",
       "\t<tr><td>2019123006</td><td> 43       </td></tr>\n",
       "\t<tr><td>2019123101</td><td>140       </td></tr>\n",
       "\t<tr><td>2019123102</td><td>100       </td></tr>\n",
       "\t<tr><td>2019123104</td><td> 30       </td></tr>\n",
       "\t<tr><td>2019123105</td><td>192       </td></tr>\n",
       "\t<tr><td>2019123106</td><td>210       </td></tr>\n",
       "\t<tr><td>2019123107</td><td>172       </td></tr>\n",
       "</tbody>\n",
       "</table>\n"
      ],
      "text/latex": [
       "\\begin{tabular}{r|ll}\n",
       " RESERV\\_NO & amt\\_daily\\\\\n",
       "\\hline\n",
       "\t 2019060301 & 140       \\\\\n",
       "\t 2019060601 & 152       \\\\\n",
       "\t 2019060701 &  48       \\\\\n",
       "\t 2019061601 & 105       \\\\\n",
       "\t 2019061801 &  48       \\\\\n",
       "\t 2019062001 &  10       \\\\\n",
       "\t 2019062201 &  48       \\\\\n",
       "\t 2019062601 &   8       \\\\\n",
       "\t 2019062901 &  54       \\\\\n",
       "\t 2019070101 &  50       \\\\\n",
       "\t 2019070102 & 100       \\\\\n",
       "\t 2019070302 &  50       \\\\\n",
       "\t 2019070501 &  48       \\\\\n",
       "\t 2019070702 &  46       \\\\\n",
       "\t 2019070801 &  70       \\\\\n",
       "\t 2019071001 &  48       \\\\\n",
       "\t 2019071002 & 105       \\\\\n",
       "\t 2019071101 &  58       \\\\\n",
       "\t 2019071201 &  49       \\\\\n",
       "\t 2019071401 &  17       \\\\\n",
       "\t 2019071501 &  36       \\\\\n",
       "\t 2019071601 &  75       \\\\\n",
       "\t 2019071602 &  10       \\\\\n",
       "\t 2019071801 & 140       \\\\\n",
       "\t 2019071901 &  73       \\\\\n",
       "\t 2019072002 &  10       \\\\\n",
       "\t 2019072101 &   6       \\\\\n",
       "\t 2019072102 &  17       \\\\\n",
       "\t 2019072203 &  50       \\\\\n",
       "\t 2019072401 & 105       \\\\\n",
       "\t ... & ...\\\\\n",
       "\t 2019122603 &  35       \\\\\n",
       "\t 2019122604 & 264       \\\\\n",
       "\t 2019122605 & 100       \\\\\n",
       "\t 2019122701 & 100       \\\\\n",
       "\t 2019122702 &  86       \\\\\n",
       "\t 2019122703 &  86       \\\\\n",
       "\t 2019122704 &  48       \\\\\n",
       "\t 2019122706 &  24       \\\\\n",
       "\t 2019122801 & 215       \\\\\n",
       "\t 2019122802 &  60       \\\\\n",
       "\t 2019122803 &  50       \\\\\n",
       "\t 2019122804 &  86       \\\\\n",
       "\t 2019122805 &  17       \\\\\n",
       "\t 2019122806 & 240       \\\\\n",
       "\t 2019122807 &  34       \\\\\n",
       "\t 2019122808 &  10       \\\\\n",
       "\t 2019122809 & 140       \\\\\n",
       "\t 2019122810 &  86       \\\\\n",
       "\t 2019122901 & 172       \\\\\n",
       "\t 2019122902 &  34       \\\\\n",
       "\t 2019123002 &  51       \\\\\n",
       "\t 2019123003 & 192       \\\\\n",
       "\t 2019123005 &  70       \\\\\n",
       "\t 2019123006 &  43       \\\\\n",
       "\t 2019123101 & 140       \\\\\n",
       "\t 2019123102 & 100       \\\\\n",
       "\t 2019123104 &  30       \\\\\n",
       "\t 2019123105 & 192       \\\\\n",
       "\t 2019123106 & 210       \\\\\n",
       "\t 2019123107 & 172       \\\\\n",
       "\\end{tabular}\n"
      ],
      "text/markdown": [
       "\n",
       "| RESERV_NO | amt_daily |\n",
       "|---|---|\n",
       "| 2019060301 | 140        |\n",
       "| 2019060601 | 152        |\n",
       "| 2019060701 |  48        |\n",
       "| 2019061601 | 105        |\n",
       "| 2019061801 |  48        |\n",
       "| 2019062001 |  10        |\n",
       "| 2019062201 |  48        |\n",
       "| 2019062601 |   8        |\n",
       "| 2019062901 |  54        |\n",
       "| 2019070101 |  50        |\n",
       "| 2019070102 | 100        |\n",
       "| 2019070302 |  50        |\n",
       "| 2019070501 |  48        |\n",
       "| 2019070702 |  46        |\n",
       "| 2019070801 |  70        |\n",
       "| 2019071001 |  48        |\n",
       "| 2019071002 | 105        |\n",
       "| 2019071101 |  58        |\n",
       "| 2019071201 |  49        |\n",
       "| 2019071401 |  17        |\n",
       "| 2019071501 |  36        |\n",
       "| 2019071601 |  75        |\n",
       "| 2019071602 |  10        |\n",
       "| 2019071801 | 140        |\n",
       "| 2019071901 |  73        |\n",
       "| 2019072002 |  10        |\n",
       "| 2019072101 |   6        |\n",
       "| 2019072102 |  17        |\n",
       "| 2019072203 |  50        |\n",
       "| 2019072401 | 105        |\n",
       "| ... | ... |\n",
       "| 2019122603 |  35        |\n",
       "| 2019122604 | 264        |\n",
       "| 2019122605 | 100        |\n",
       "| 2019122701 | 100        |\n",
       "| 2019122702 |  86        |\n",
       "| 2019122703 |  86        |\n",
       "| 2019122704 |  48        |\n",
       "| 2019122706 |  24        |\n",
       "| 2019122801 | 215        |\n",
       "| 2019122802 |  60        |\n",
       "| 2019122803 |  50        |\n",
       "| 2019122804 |  86        |\n",
       "| 2019122805 |  17        |\n",
       "| 2019122806 | 240        |\n",
       "| 2019122807 |  34        |\n",
       "| 2019122808 |  10        |\n",
       "| 2019122809 | 140        |\n",
       "| 2019122810 |  86        |\n",
       "| 2019122901 | 172        |\n",
       "| 2019122902 |  34        |\n",
       "| 2019123002 |  51        |\n",
       "| 2019123003 | 192        |\n",
       "| 2019123005 |  70        |\n",
       "| 2019123006 |  43        |\n",
       "| 2019123101 | 140        |\n",
       "| 2019123102 | 100        |\n",
       "| 2019123104 |  30        |\n",
       "| 2019123105 | 192        |\n",
       "| 2019123106 | 210        |\n",
       "| 2019123107 | 172        |\n",
       "\n"
      ],
      "text/plain": [
       "    RESERV_NO  amt_daily\n",
       "1   2019060301 140      \n",
       "2   2019060601 152      \n",
       "3   2019060701  48      \n",
       "4   2019061601 105      \n",
       "5   2019061801  48      \n",
       "6   2019062001  10      \n",
       "7   2019062201  48      \n",
       "8   2019062601   8      \n",
       "9   2019062901  54      \n",
       "10  2019070101  50      \n",
       "11  2019070102 100      \n",
       "12  2019070302  50      \n",
       "13  2019070501  48      \n",
       "14  2019070702  46      \n",
       "15  2019070801  70      \n",
       "16  2019071001  48      \n",
       "17  2019071002 105      \n",
       "18  2019071101  58      \n",
       "19  2019071201  49      \n",
       "20  2019071401  17      \n",
       "21  2019071501  36      \n",
       "22  2019071601  75      \n",
       "23  2019071602  10      \n",
       "24  2019071801 140      \n",
       "25  2019071901  73      \n",
       "26  2019072002  10      \n",
       "27  2019072101   6      \n",
       "28  2019072102  17      \n",
       "29  2019072203  50      \n",
       "30  2019072401 105      \n",
       "... ...        ...      \n",
       "308 2019122603  35      \n",
       "309 2019122604 264      \n",
       "310 2019122605 100      \n",
       "311 2019122701 100      \n",
       "312 2019122702  86      \n",
       "313 2019122703  86      \n",
       "314 2019122704  48      \n",
       "315 2019122706  24      \n",
       "316 2019122801 215      \n",
       "317 2019122802  60      \n",
       "318 2019122803  50      \n",
       "319 2019122804  86      \n",
       "320 2019122805  17      \n",
       "321 2019122806 240      \n",
       "322 2019122807  34      \n",
       "323 2019122808  10      \n",
       "324 2019122809 140      \n",
       "325 2019122810  86      \n",
       "326 2019122901 172      \n",
       "327 2019122902  34      \n",
       "328 2019123002  51      \n",
       "329 2019123003 192      \n",
       "330 2019123005  70      \n",
       "331 2019123006  43      \n",
       "332 2019123101 140      \n",
       "333 2019123102 100      \n",
       "334 2019123104  30      \n",
       "335 2019123105 192      \n",
       "336 2019123106 210      \n",
       "337 2019123107 172      "
      ]
     },
     "metadata": {},
     "output_type": "display_data"
    }
   ],
   "source": [
    "total_amt <- order_info_r %>% \n",
    "group_by(RESERV_NO) %>% \n",
    "summarise(amt_daily=sum(SALES/1000)) %>% \n",
    "arrange(RESERV_NO)\n",
    "\n",
    "total_amt"
   ]
  },
  {
   "cell_type": "code",
   "execution_count": 5,
   "id": "optical-spouse",
   "metadata": {},
   "outputs": [
    {
     "name": "stderr",
     "output_type": "stream",
     "text": [
      "Warning message:\n",
      "\"package 'ggplot2' was built under R version 3.6.3\""
     ]
    }
   ],
   "source": [
    "library(ggplot2)"
   ]
  },
  {
   "cell_type": "code",
   "execution_count": 7,
   "id": "impaired-broad",
   "metadata": {},
   "outputs": [
    {
     "data": {
      "image/png": "[encoded data removed]",
      "text/plain": [
       "plot without title"
      ]
     },
     "metadata": {},
     "output_type": "display_data"
    }
   ],
   "source": [
    "ggplot(total_amt,aes(x=RESERV_NO,y=amt_daily,group=1))+geom_line()"
   ]
  },
  {
   "cell_type": "code",
   "execution_count": 8,
   "id": "native-sixth",
   "metadata": {},
   "outputs": [
    {
     "data": {
      "text/html": [
       "<table>\n",
       "<thead><tr><th scope=col>month</th><th scope=col>amt_monthly</th></tr></thead>\n",
       "<tbody>\n",
       "\t<tr><td>201906</td><td>  613 </td></tr>\n",
       "\t<tr><td>201907</td><td> 1744 </td></tr>\n",
       "\t<tr><td>201908</td><td> 1622 </td></tr>\n",
       "\t<tr><td>201909</td><td> 1586 </td></tr>\n",
       "\t<tr><td>201910</td><td> 3333 </td></tr>\n",
       "\t<tr><td>201911</td><td> 5197 </td></tr>\n",
       "\t<tr><td>201912</td><td>10862 </td></tr>\n",
       "</tbody>\n",
       "</table>\n"
      ],
      "text/latex": [
       "\\begin{tabular}{r|ll}\n",
       " month & amt\\_monthly\\\\\n",
       "\\hline\n",
       "\t 201906 &   613 \\\\\n",
       "\t 201907 &  1744 \\\\\n",
       "\t 201908 &  1622 \\\\\n",
       "\t 201909 &  1586 \\\\\n",
       "\t 201910 &  3333 \\\\\n",
       "\t 201911 &  5197 \\\\\n",
       "\t 201912 & 10862 \\\\\n",
       "\\end{tabular}\n"
      ],
      "text/markdown": [
       "\n",
       "| month | amt_monthly |\n",
       "|---|---|\n",
       "| 201906 |   613  |\n",
       "| 201907 |  1744  |\n",
       "| 201908 |  1622  |\n",
       "| 201909 |  1586  |\n",
       "| 201910 |  3333  |\n",
       "| 201911 |  5197  |\n",
       "| 201912 | 10862  |\n",
       "\n"
      ],
      "text/plain": [
       "  month  amt_monthly\n",
       "1 201906   613      \n",
       "2 201907  1744      \n",
       "3 201908  1622      \n",
       "4 201909  1586      \n",
       "5 201910  3333      \n",
       "6 201911  5197      \n",
       "7 201912 10862      "
      ]
     },
     "metadata": {},
     "output_type": "display_data"
    }
   ],
   "source": [
    "total_amt <- order_info_r %>% \n",
    "mutate(month=substr(RESERV_NO,1,6)) %>% \n",
    "group_by(month) %>% \n",
    "summarise(amt_monthly=sum(SALES/1000))\n",
    "\n",
    "total_amt"
   ]
  },
  {
   "cell_type": "code",
   "execution_count": 10,
   "id": "occupational-stuart",
   "metadata": {},
   "outputs": [
    {
     "data": {
      "image/png": "[encoded data removed]",
      "text/plain": [
       "plot without title"
      ]
     },
     "metadata": {},
     "output_type": "display_data"
    }
   ],
   "source": [
    "ggplot(total_amt,aes(x=month,y=amt_monthly,group=1))+geom_line()"
   ]
  },
  {
   "cell_type": "code",
   "execution_count": 11,
   "id": "brave-immunology",
   "metadata": {},
   "outputs": [
    {
     "data": {
      "image/png": "[encoded data removed]",
      "text/plain": [
       "plot without title"
      ]
     },
     "metadata": {},
     "output_type": "display_data"
    }
   ],
   "source": [
    "ggplot(total_amt,aes(x=month,y=amt_monthly,group=1))+\n",
    "geom_line()+geom_point()"
   ]
  },
  {
   "cell_type": "code",
   "execution_count": 12,
   "id": "everyday-divide",
   "metadata": {},
   "outputs": [
    {
     "data": {
      "image/png": "[encoded data removed]",
      "text/plain": [
       "plot without title"
      ]
     },
     "metadata": {},
     "output_type": "display_data"
    }
   ],
   "source": [
    "ggplot(total_amt,aes(x=month,y=amt_monthly,group=1,label=amt_monthly))+\n",
    "geom_line(color=\"red\",size=1)+geom_point(color=\"darkred\",size=3)+\n",
    "geom_text(vjust=1.5,hjust=0.5)"
   ]
  },
  {
   "cell_type": "code",
   "execution_count": 13,
   "id": "fundamental-transsexual",
   "metadata": {},
   "outputs": [
    {
     "data": {
      "text/html": [
       "<table>\n",
       "<thead><tr><th scope=col>len</th><th scope=col>supp</th><th scope=col>dose</th></tr></thead>\n",
       "<tbody>\n",
       "\t<tr><td> 4.2</td><td>VC  </td><td>0.5 </td></tr>\n",
       "\t<tr><td>11.5</td><td>VC  </td><td>0.5 </td></tr>\n",
       "\t<tr><td> 7.3</td><td>VC  </td><td>0.5 </td></tr>\n",
       "\t<tr><td> 5.8</td><td>VC  </td><td>0.5 </td></tr>\n",
       "\t<tr><td> 6.4</td><td>VC  </td><td>0.5 </td></tr>\n",
       "\t<tr><td>10.0</td><td>VC  </td><td>0.5 </td></tr>\n",
       "</tbody>\n",
       "</table>\n"
      ],
      "text/latex": [
       "\\begin{tabular}{r|lll}\n",
       " len & supp & dose\\\\\n",
       "\\hline\n",
       "\t  4.2 & VC   & 0.5 \\\\\n",
       "\t 11.5 & VC   & 0.5 \\\\\n",
       "\t  7.3 & VC   & 0.5 \\\\\n",
       "\t  5.8 & VC   & 0.5 \\\\\n",
       "\t  6.4 & VC   & 0.5 \\\\\n",
       "\t 10.0 & VC   & 0.5 \\\\\n",
       "\\end{tabular}\n"
      ],
      "text/markdown": [
       "\n",
       "| len | supp | dose |\n",
       "|---|---|---|\n",
       "|  4.2 | VC   | 0.5  |\n",
       "| 11.5 | VC   | 0.5  |\n",
       "|  7.3 | VC   | 0.5  |\n",
       "|  5.8 | VC   | 0.5  |\n",
       "|  6.4 | VC   | 0.5  |\n",
       "| 10.0 | VC   | 0.5  |\n",
       "\n"
      ],
      "text/plain": [
       "  len  supp dose\n",
       "1  4.2 VC   0.5 \n",
       "2 11.5 VC   0.5 \n",
       "3  7.3 VC   0.5 \n",
       "4  5.8 VC   0.5 \n",
       "5  6.4 VC   0.5 \n",
       "6 10.0 VC   0.5 "
      ]
     },
     "metadata": {},
     "output_type": "display_data"
    }
   ],
   "source": [
    "head(ToothGrowth)"
   ]
  },
  {
   "cell_type": "code",
   "execution_count": 14,
   "id": "limited-diameter",
   "metadata": {},
   "outputs": [
    {
     "data": {
      "text/html": [
       "<table>\n",
       "<thead><tr><th scope=col>dose</th><th scope=col>sd</th><th scope=col>len</th></tr></thead>\n",
       "<tbody>\n",
       "\t<tr><td>0.5     </td><td>4.499763</td><td>10.605  </td></tr>\n",
       "\t<tr><td>1.0     </td><td>4.415436</td><td>19.735  </td></tr>\n",
       "\t<tr><td>2.0     </td><td>3.774150</td><td>26.100  </td></tr>\n",
       "</tbody>\n",
       "</table>\n"
      ],
      "text/latex": [
       "\\begin{tabular}{r|lll}\n",
       " dose & sd & len\\\\\n",
       "\\hline\n",
       "\t 0.5      & 4.499763 & 10.605  \\\\\n",
       "\t 1.0      & 4.415436 & 19.735  \\\\\n",
       "\t 2.0      & 3.774150 & 26.100  \\\\\n",
       "\\end{tabular}\n"
      ],
      "text/markdown": [
       "\n",
       "| dose | sd | len |\n",
       "|---|---|---|\n",
       "| 0.5      | 4.499763 | 10.605   |\n",
       "| 1.0      | 4.415436 | 19.735   |\n",
       "| 2.0      | 3.774150 | 26.100   |\n",
       "\n"
      ],
      "text/plain": [
       "  dose sd       len   \n",
       "1 0.5  4.499763 10.605\n",
       "2 1.0  4.415436 19.735\n",
       "3 2.0  3.774150 26.100"
      ]
     },
     "metadata": {},
     "output_type": "display_data"
    }
   ],
   "source": [
    "df <- ToothGrowth %>% \n",
    "group_by(dose) %>% # 투여양(dose)으로 그룹화\n",
    "summarise(sd=sd(len),len=mean(len)) # 표준편차(sd), 평균(mean)\n",
    "\n",
    "df # dose에 따른 표준편차(sd)와 평균(mean)"
   ]
  },
  {
   "cell_type": "code",
   "execution_count": 15,
   "id": "acute-gabriel",
   "metadata": {},
   "outputs": [
    {
     "data": {
      "image/png": "[encoded data removed]",
      "text/plain": [
       "plot without title"
      ]
     },
     "metadata": {},
     "output_type": "display_data"
    }
   ],
   "source": [
    "ggplot(df,aes(dose,len)) +# x축과 y축은 생략 가능\n",
    "geom_line(aes(group=1)) #geom_line : 선그래프"
   ]
  },
  {
   "cell_type": "code",
   "execution_count": 18,
   "id": "russian-latino",
   "metadata": {},
   "outputs": [
    {
     "data": {
      "image/png": "[encoded data removed]",
      "text/plain": [
       "plot without title"
      ]
     },
     "metadata": {},
     "output_type": "display_data"
    }
   ],
   "source": [
    "ggplot(df,aes(dose,len)) +# x축과 y축은 생략 가능\n",
    "geom_line(aes(group=1))+ #geom_line : 선그래프\n",
    "geom_point(size=2) #geom_point : 점"
   ]
  },
  {
   "cell_type": "code",
   "execution_count": 20,
   "id": "fallen-floating",
   "metadata": {},
   "outputs": [
    {
     "name": "stderr",
     "output_type": "stream",
     "text": [
      "`summarise()` has grouped output by 'dose'. You can override using the `.groups` argument.\n"
     ]
    },
    {
     "data": {
      "text/html": [
       "<table>\n",
       "<thead><tr><th scope=col>dose</th><th scope=col>supp</th><th scope=col>sd</th><th scope=col>len</th></tr></thead>\n",
       "<tbody>\n",
       "\t<tr><td>0.5     </td><td>OJ      </td><td>4.459709</td><td>13.23   </td></tr>\n",
       "\t<tr><td>0.5     </td><td>VC      </td><td>2.746634</td><td> 7.98   </td></tr>\n",
       "\t<tr><td>1.0     </td><td>OJ      </td><td>3.910953</td><td>22.70   </td></tr>\n",
       "\t<tr><td>1.0     </td><td>VC      </td><td>2.515309</td><td>16.77   </td></tr>\n",
       "\t<tr><td>2.0     </td><td>OJ      </td><td>2.655058</td><td>26.06   </td></tr>\n",
       "\t<tr><td>2.0     </td><td>VC      </td><td>4.797731</td><td>26.14   </td></tr>\n",
       "</tbody>\n",
       "</table>\n"
      ],
      "text/latex": [
       "\\begin{tabular}{r|llll}\n",
       " dose & supp & sd & len\\\\\n",
       "\\hline\n",
       "\t 0.5      & OJ       & 4.459709 & 13.23   \\\\\n",
       "\t 0.5      & VC       & 2.746634 &  7.98   \\\\\n",
       "\t 1.0      & OJ       & 3.910953 & 22.70   \\\\\n",
       "\t 1.0      & VC       & 2.515309 & 16.77   \\\\\n",
       "\t 2.0      & OJ       & 2.655058 & 26.06   \\\\\n",
       "\t 2.0      & VC       & 4.797731 & 26.14   \\\\\n",
       "\\end{tabular}\n"
      ],
      "text/markdown": [
       "\n",
       "| dose | supp | sd | len |\n",
       "|---|---|---|---|\n",
       "| 0.5      | OJ       | 4.459709 | 13.23    |\n",
       "| 0.5      | VC       | 2.746634 |  7.98    |\n",
       "| 1.0      | OJ       | 3.910953 | 22.70    |\n",
       "| 1.0      | VC       | 2.515309 | 16.77    |\n",
       "| 2.0      | OJ       | 2.655058 | 26.06    |\n",
       "| 2.0      | VC       | 4.797731 | 26.14    |\n",
       "\n"
      ],
      "text/plain": [
       "  dose supp sd       len  \n",
       "1 0.5  OJ   4.459709 13.23\n",
       "2 0.5  VC   2.746634  7.98\n",
       "3 1.0  OJ   3.910953 22.70\n",
       "4 1.0  VC   2.515309 16.77\n",
       "5 2.0  OJ   2.655058 26.06\n",
       "6 2.0  VC   4.797731 26.14"
      ]
     },
     "metadata": {},
     "output_type": "display_data"
    }
   ],
   "source": [
    "df2 <- ToothGrowth %>% \n",
    "group_by(dose,supp) %>% # dose와 supp로 그룹화시킬 거다\n",
    "summarise(sd=sd(len),len=mean(len))\n",
    "\n",
    "df2"
   ]
  },
  {
   "cell_type": "code",
   "execution_count": 21,
   "id": "guilty-control",
   "metadata": {},
   "outputs": [
    {
     "data": {
      "image/png": "[encoded data removed]",
      "text/plain": [
       "plot without title"
      ]
     },
     "metadata": {},
     "output_type": "display_data"
    }
   ],
   "source": [
    "ggplot(df2,aes(dose,len))+\n",
    "geom_line(aes(group=supp))"
   ]
  },
  {
   "cell_type": "code",
   "execution_count": 23,
   "id": "hispanic-particle",
   "metadata": {},
   "outputs": [
    {
     "data": {
      "image/png": "[encoded data removed]",
      "text/plain": [
       "plot without title"
      ]
     },
     "metadata": {},
     "output_type": "display_data"
    }
   ],
   "source": [
    "ggplot(df2,aes(dose,len))+\n",
    "geom_line(aes(group=supp,linetype=supp))+ # supp 별로 다르게\n",
    "geom_point(size=2) # 선그래프의 라인 사이즈가 2"
   ]
  },
  {
   "cell_type": "code",
   "execution_count": 24,
   "id": "obvious-guess",
   "metadata": {},
   "outputs": [
    {
     "data": {
      "image/png": "[encoded data removed]",
      "text/plain": [
       "plot without title"
      ]
     },
     "metadata": {},
     "output_type": "display_data"
    }
   ],
   "source": [
    "ggplot(df2,aes(dose,len)) +\n",
    "    geom_line(aes(group=supp,linetype=supp)) +\n",
    "    geom_point(size=2)+\n",
    "    theme_classic()"
   ]
  },
  {
   "cell_type": "code",
   "execution_count": 25,
   "id": "advanced-cocktail",
   "metadata": {},
   "outputs": [
    {
     "data": {
      "image/png": "[encoded data removed]",
      "text/plain": [
       "plot without title"
      ]
     },
     "metadata": {},
     "output_type": "display_data"
    }
   ],
   "source": [
    "ggplot(total_amt,aes(x=month,y=amt_monthly,group=1,label=amt_monthly))+\n",
    "geom_line(color=\"red\",size=1)+geom_point(color=\"darkred\",size=3)+\n",
    "geom_text(vjust=1.5,hjust=0.5)"
   ]
  },
  {
   "cell_type": "code",
   "execution_count": 26,
   "id": "documented-dallas",
   "metadata": {},
   "outputs": [
    {
     "data": {
      "text/html": [
       "<table>\n",
       "<thead><tr><th scope=col>ORDER_NO</th><th scope=col>ITEM_ID</th><th scope=col>RESERV_NO</th><th scope=col>QUANTITY</th><th scope=col>SALES</th><th scope=col>PRODUCT_NAME</th><th scope=col>PRODUCT_DESC</th><th scope=col>CATEGORY_ID</th><th scope=col>PRICE</th></tr></thead>\n",
       "<tbody>\n",
       "\t<tr><td>191228137840110010</td><td>M0003             </td><td>2019122805        </td><td> 1                </td><td> 17000            </td><td>PIZZA             </td><td>피자              </td><td>FOOD              </td><td>17000             </td></tr>\n",
       "\t<tr><td>191228137837810010</td><td>M0001             </td><td>2019122806        </td><td>10                </td><td>240000            </td><td>SPECIAL_SET       </td><td>온라인_전용상품   </td><td>COMBO             </td><td>24000             </td></tr>\n",
       "\t<tr><td>191228547385810010</td><td>M0003             </td><td>2019122807        </td><td> 2                </td><td> 34000            </td><td>PIZZA             </td><td>피자              </td><td>FOOD              </td><td>17000             </td></tr>\n",
       "\t<tr><td>191228567831310010</td><td>M0008             </td><td>2019122808        </td><td> 1                </td><td> 10000            </td><td>SANDWICH          </td><td>샌드위치          </td><td>FOOD              </td><td>10000             </td></tr>\n",
       "\t<tr><td>191228567430310010</td><td>M0005             </td><td>2019122809        </td><td> 4                </td><td>140000            </td><td>STEAK             </td><td>스테이크          </td><td>FOOD              </td><td>35000             </td></tr>\n",
       "\t<tr><td>191228137860010010</td><td>M0005             </td><td>2019122810        </td><td> 2                </td><td> 70000            </td><td>STEAK             </td><td>스테이크          </td><td>FOOD              </td><td>35000             </td></tr>\n",
       "\t<tr><td>191228137860010010</td><td>M0009             </td><td>2019122810        </td><td> 2                </td><td> 16000            </td><td>WINE              </td><td>와인              </td><td>BEVERAGE          </td><td> 8000             </td></tr>\n",
       "\t<tr><td>191229107864610010</td><td>M0005             </td><td>2019122901        </td><td> 4                </td><td>140000            </td><td>STEAK             </td><td>스테이크          </td><td>FOOD              </td><td>35000             </td></tr>\n",
       "\t<tr><td>191229107864610010</td><td>M0009             </td><td>2019122901        </td><td> 4                </td><td> 32000            </td><td>WINE              </td><td>와인              </td><td>BEVERAGE          </td><td> 8000             </td></tr>\n",
       "\t<tr><td>191229137425710010</td><td>M0003             </td><td>2019122902        </td><td> 2                </td><td> 34000            </td><td>PIZZA             </td><td>피자              </td><td>FOOD              </td><td>17000             </td></tr>\n",
       "\t<tr><td>191230137860610010</td><td>M0003             </td><td>2019123002        </td><td> 3                </td><td> 51000            </td><td>PIZZA             </td><td>피자              </td><td>FOOD              </td><td>17000             </td></tr>\n",
       "\t<tr><td>191230137865010010</td><td>M0001             </td><td>2019123003        </td><td> 8                </td><td>192000            </td><td>SPECIAL_SET       </td><td>온라인_전용상품   </td><td>COMBO             </td><td>24000             </td></tr>\n",
       "\t<tr><td>191230137847710020</td><td>M0005             </td><td>2019123005        </td><td> 2                </td><td> 70000            </td><td>STEAK             </td><td>스테이크          </td><td>FOOD              </td><td>35000             </td></tr>\n",
       "\t<tr><td>191230187379710010</td><td>M0005             </td><td>2019123006        </td><td> 1                </td><td> 35000            </td><td>STEAK             </td><td>스테이크          </td><td>FOOD              </td><td>35000             </td></tr>\n",
       "\t<tr><td>191230187379710010</td><td>M0009             </td><td>2019123006        </td><td> 1                </td><td>  8000            </td><td>WINE              </td><td>와인              </td><td>BEVERAGE          </td><td> 8000             </td></tr>\n",
       "\t<tr><td>191231137450910010</td><td>M0005             </td><td>2019123101        </td><td> 4                </td><td>140000            </td><td>STEAK             </td><td>스테이크          </td><td>FOOD              </td><td>35000             </td></tr>\n",
       "\t<tr><td>191231567834710010</td><td>M0006             </td><td>2019123102        </td><td> 4                </td><td>100000            </td><td>SALAD_BAR         </td><td>샐러드바          </td><td>COMBO             </td><td>25000             </td></tr>\n",
       "\t<tr><td>191231107865610010</td><td>M0008             </td><td>2019123104        </td><td> 3                </td><td> 30000            </td><td>SANDWICH          </td><td>샌드위치          </td><td>FOOD              </td><td>10000             </td></tr>\n",
       "\t<tr><td>191231137864710010</td><td>M0001             </td><td>2019123105        </td><td> 8                </td><td>192000            </td><td>SPECIAL_SET       </td><td>온라인_전용상품   </td><td>COMBO             </td><td>24000             </td></tr>\n",
       "\t<tr><td>191231137864110010</td><td>M0005             </td><td>2019123106        </td><td> 6                </td><td>210000            </td><td>STEAK             </td><td>스테이크          </td><td>FOOD              </td><td>35000             </td></tr>\n",
       "\t<tr><td>191231607864610010</td><td>M0005             </td><td>2019123107        </td><td> 4                </td><td>140000            </td><td>STEAK             </td><td>스테이크          </td><td>FOOD              </td><td>35000             </td></tr>\n",
       "\t<tr><td>191231607864610010</td><td>M0009             </td><td>2019123107        </td><td> 4                </td><td> 32000            </td><td>WINE              </td><td>와인              </td><td>BEVERAGE          </td><td> 8000             </td></tr>\n",
       "\t<tr><td>191216678376100100</td><td>M0005             </td><td>2019121603        </td><td> 6                </td><td>210000            </td><td>STEAK             </td><td>스테이크          </td><td>FOOD              </td><td>35000             </td></tr>\n",
       "\t<tr><td>191216678533100100</td><td>M0005             </td><td>2019121604        </td><td> 4                </td><td>140000            </td><td>STEAK             </td><td>스테이크          </td><td>FOOD              </td><td>35000             </td></tr>\n",
       "\t<tr><td>191216107839010010</td><td>M0001             </td><td>2019121605        </td><td> 3                </td><td> 72000            </td><td>SPECIAL_SET       </td><td>온라인_전용상품   </td><td>COMBO             </td><td>24000             </td></tr>\n",
       "\t<tr><td>191216107298910010</td><td>M0001             </td><td>2019121606        </td><td> 2                </td><td> 48000            </td><td>SPECIAL_SET       </td><td>온라인_전용상품   </td><td>COMBO             </td><td>24000             </td></tr>\n",
       "\t<tr><td>191217378488100100</td><td>M0003             </td><td>2019121701        </td><td> 1                </td><td> 17000            </td><td>PIZZA             </td><td>피자              </td><td>FOOD              </td><td>17000             </td></tr>\n",
       "\t<tr><td>191217378513100100</td><td>M0007             </td><td>2019121702        </td><td> 2                </td><td> 30000            </td><td>SALAD             </td><td>샐러드            </td><td>FOOD              </td><td>15000             </td></tr>\n",
       "\t<tr><td>191217137851110010</td><td>M0001             </td><td>2019121704        </td><td> 9                </td><td>216000            </td><td>SPECIAL_SET       </td><td>온라인_전용상품   </td><td>COMBO             </td><td>24000             </td></tr>\n",
       "\t<tr><td>191217578481100100</td><td>M0005             </td><td>2019121705        </td><td> 3                </td><td>105000            </td><td>STEAK             </td><td>스테이크          </td><td>FOOD              </td><td>35000             </td></tr>\n",
       "\t<tr><td>...</td><td>...</td><td>...</td><td>...</td><td>...</td><td>...</td><td>...</td><td>...</td><td>...</td></tr>\n",
       "\t<tr><td>191208137385810010</td><td>M0006             </td><td>2019120803        </td><td>1                 </td><td> 25000            </td><td>SALAD_BAR         </td><td>샐러드바          </td><td>COMBO             </td><td>25000             </td></tr>\n",
       "\t<tr><td>191208578401100100</td><td>M0008             </td><td>2019120806        </td><td>1                 </td><td> 10000            </td><td>SANDWICH          </td><td>샌드위치          </td><td>FOOD              </td><td>10000             </td></tr>\n",
       "\t<tr><td>191209674238100100</td><td>M0001             </td><td>2019120901        </td><td>9                 </td><td>216000            </td><td>SPECIAL_SET       </td><td>온라인_전용상품   </td><td>COMBO             </td><td>24000             </td></tr>\n",
       "\t<tr><td>191210137850310010</td><td>M0002             </td><td>2019121001        </td><td>3                 </td><td> 36000            </td><td>PASTA             </td><td>파스타            </td><td>FOOD              </td><td>12000             </td></tr>\n",
       "\t<tr><td>191210578543100100</td><td>M0005             </td><td>2019121002        </td><td>2                 </td><td> 70000            </td><td>STEAK             </td><td>스테이크          </td><td>FOOD              </td><td>35000             </td></tr>\n",
       "\t<tr><td>191210578596100100</td><td>M0002             </td><td>2019121003        </td><td>1                 </td><td> 12000            </td><td>PASTA             </td><td>파스타            </td><td>FOOD              </td><td>12000             </td></tr>\n",
       "\t<tr><td>191210517425810010</td><td>M0005             </td><td>2019121004        </td><td>2                 </td><td> 70000            </td><td>STEAK             </td><td>스테이크          </td><td>FOOD              </td><td>35000             </td></tr>\n",
       "\t<tr><td>191210517434110010</td><td>M0008             </td><td>2019121005        </td><td>2                 </td><td> 20000            </td><td>SANDWICH          </td><td>샌드위치          </td><td>FOOD              </td><td>10000             </td></tr>\n",
       "\t<tr><td>191210107298910010</td><td>M0002             </td><td>2019121006        </td><td>2                 </td><td> 24000            </td><td>PASTA             </td><td>파스타            </td><td>FOOD              </td><td>12000             </td></tr>\n",
       "\t<tr><td>191210517412210010</td><td>M0005             </td><td>2019121007        </td><td>4                 </td><td>140000            </td><td>STEAK             </td><td>스테이크          </td><td>FOOD              </td><td>35000             </td></tr>\n",
       "\t<tr><td>191211371966100100</td><td>M0001             </td><td>2019121101        </td><td>2                 </td><td> 48000            </td><td>SPECIAL_SET       </td><td>온라인_전용상품   </td><td>COMBO             </td><td>24000             </td></tr>\n",
       "\t<tr><td>191211137436110010</td><td>M0002             </td><td>2019121102        </td><td>2                 </td><td> 24000            </td><td>PASTA             </td><td>파스타            </td><td>FOOD              </td><td>12000             </td></tr>\n",
       "\t<tr><td>191212547862510010</td><td>M0001             </td><td>2019121202        </td><td>4                 </td><td> 96000            </td><td>SPECIAL_SET       </td><td>온라인_전용상품   </td><td>COMBO             </td><td>24000             </td></tr>\n",
       "\t<tr><td>191212607833610010</td><td>M0005             </td><td>2019121203        </td><td>4                 </td><td>140000            </td><td>STEAK             </td><td>스테이크          </td><td>FOOD              </td><td>35000             </td></tr>\n",
       "\t<tr><td>191212107393010010</td><td>M0004             </td><td>2019121204        </td><td>2                 </td><td> 50000            </td><td>SEA_FOOD          </td><td>씨푸드            </td><td>FOOD              </td><td>25000             </td></tr>\n",
       "\t<tr><td>191213378539100100</td><td>M0005             </td><td>2019121301        </td><td>2                 </td><td> 70000            </td><td>STEAK             </td><td>스테이크          </td><td>FOOD              </td><td>35000             </td></tr>\n",
       "\t<tr><td>191213547302810010</td><td>M0002             </td><td>2019121302        </td><td>4                 </td><td> 48000            </td><td>PASTA             </td><td>파스타            </td><td>FOOD              </td><td>12000             </td></tr>\n",
       "\t<tr><td>191213547404510010</td><td>M0005             </td><td>2019121303        </td><td>1                 </td><td> 35000            </td><td>STEAK             </td><td>스테이크          </td><td>FOOD              </td><td>35000             </td></tr>\n",
       "\t<tr><td>191213181000524010</td><td>M0008             </td><td>2019121304        </td><td>1                 </td><td> 10000            </td><td>SANDWICH          </td><td>샌드위치          </td><td>FOOD              </td><td>10000             </td></tr>\n",
       "\t<tr><td>191214107853910010</td><td>M0006             </td><td>2019121401        </td><td>2                 </td><td> 50000            </td><td>SALAD_BAR         </td><td>샐러드바          </td><td>COMBO             </td><td>25000             </td></tr>\n",
       "\t<tr><td>191214673780100100</td><td>M0005             </td><td>2019121402        </td><td>2                 </td><td> 70000            </td><td>STEAK             </td><td>스테이크          </td><td>FOOD              </td><td>35000             </td></tr>\n",
       "\t<tr><td>191214517862910010</td><td>M0005             </td><td>2019121403        </td><td>2                 </td><td> 70000            </td><td>STEAK             </td><td>스테이크          </td><td>FOOD              </td><td>35000             </td></tr>\n",
       "\t<tr><td>191214607846210010</td><td>M0006             </td><td>2019121404        </td><td>3                 </td><td> 75000            </td><td>SALAD_BAR         </td><td>샐러드바          </td><td>COMBO             </td><td>25000             </td></tr>\n",
       "\t<tr><td>191214607864310010</td><td>M0002             </td><td>2019121405        </td><td>3                 </td><td> 36000            </td><td>PASTA             </td><td>파스타            </td><td>FOOD              </td><td>12000             </td></tr>\n",
       "\t<tr><td>191215137850410010</td><td>M0003             </td><td>2019121501        </td><td>2                 </td><td> 34000            </td><td>PIZZA             </td><td>피자              </td><td>FOOD              </td><td>17000             </td></tr>\n",
       "\t<tr><td>191215547862510010</td><td>M0002             </td><td>2019121502        </td><td>3                 </td><td> 36000            </td><td>PASTA             </td><td>파스타            </td><td>FOOD              </td><td>12000             </td></tr>\n",
       "\t<tr><td>191215547862510010</td><td>M0009             </td><td>2019121502        </td><td>3                 </td><td> 24000            </td><td>WINE              </td><td>와인              </td><td>BEVERAGE          </td><td> 8000             </td></tr>\n",
       "\t<tr><td>191215137422210010</td><td>M0008             </td><td>2019121503        </td><td>1                 </td><td> 10000            </td><td>SANDWICH          </td><td>샌드위치          </td><td>FOOD              </td><td>10000             </td></tr>\n",
       "\t<tr><td>191215181000524010</td><td>M0001             </td><td>2019121504        </td><td>1                 </td><td> 24000            </td><td>SPECIAL_SET       </td><td>온라인_전용상품   </td><td>COMBO             </td><td>24000             </td></tr>\n",
       "\t<tr><td>191216137421910010</td><td>M0007             </td><td>2019121602        </td><td>4                 </td><td> 60000            </td><td>SALAD             </td><td>샐러드            </td><td>FOOD              </td><td>15000             </td></tr>\n",
       "</tbody>\n",
       "</table>\n"
      ],
      "text/latex": [
       "\\begin{tabular}{r|lllllllll}\n",
       " ORDER\\_NO & ITEM\\_ID & RESERV\\_NO & QUANTITY & SALES & PRODUCT\\_NAME & PRODUCT\\_DESC & CATEGORY\\_ID & PRICE\\\\\n",
       "\\hline\n",
       "\t 191228137840110010 & M0003              & 2019122805         &  1                 &  17000             & PIZZA              & 피자               & FOOD               & 17000             \\\\\n",
       "\t 191228137837810010 & M0001              & 2019122806         & 10                 & 240000             & SPECIAL\\_SET      & 온라인\\_전용상품  & COMBO              & 24000             \\\\\n",
       "\t 191228547385810010 & M0003              & 2019122807         &  2                 &  34000             & PIZZA              & 피자               & FOOD               & 17000             \\\\\n",
       "\t 191228567831310010 & M0008              & 2019122808         &  1                 &  10000             & SANDWICH           & 샌드위치           & FOOD               & 10000             \\\\\n",
       "\t 191228567430310010 & M0005              & 2019122809         &  4                 & 140000             & STEAK              & 스테이크           & FOOD               & 35000             \\\\\n",
       "\t 191228137860010010 & M0005              & 2019122810         &  2                 &  70000             & STEAK              & 스테이크           & FOOD               & 35000             \\\\\n",
       "\t 191228137860010010 & M0009              & 2019122810         &  2                 &  16000             & WINE               & 와인               & BEVERAGE           &  8000             \\\\\n",
       "\t 191229107864610010 & M0005              & 2019122901         &  4                 & 140000             & STEAK              & 스테이크           & FOOD               & 35000             \\\\\n",
       "\t 191229107864610010 & M0009              & 2019122901         &  4                 &  32000             & WINE               & 와인               & BEVERAGE           &  8000             \\\\\n",
       "\t 191229137425710010 & M0003              & 2019122902         &  2                 &  34000             & PIZZA              & 피자               & FOOD               & 17000             \\\\\n",
       "\t 191230137860610010 & M0003              & 2019123002         &  3                 &  51000             & PIZZA              & 피자               & FOOD               & 17000             \\\\\n",
       "\t 191230137865010010 & M0001              & 2019123003         &  8                 & 192000             & SPECIAL\\_SET      & 온라인\\_전용상품  & COMBO              & 24000             \\\\\n",
       "\t 191230137847710020 & M0005              & 2019123005         &  2                 &  70000             & STEAK              & 스테이크           & FOOD               & 35000             \\\\\n",
       "\t 191230187379710010 & M0005              & 2019123006         &  1                 &  35000             & STEAK              & 스테이크           & FOOD               & 35000             \\\\\n",
       "\t 191230187379710010 & M0009              & 2019123006         &  1                 &   8000             & WINE               & 와인               & BEVERAGE           &  8000             \\\\\n",
       "\t 191231137450910010 & M0005              & 2019123101         &  4                 & 140000             & STEAK              & 스테이크           & FOOD               & 35000             \\\\\n",
       "\t 191231567834710010 & M0006              & 2019123102         &  4                 & 100000             & SALAD\\_BAR        & 샐러드바           & COMBO              & 25000             \\\\\n",
       "\t 191231107865610010 & M0008              & 2019123104         &  3                 &  30000             & SANDWICH           & 샌드위치           & FOOD               & 10000             \\\\\n",
       "\t 191231137864710010 & M0001              & 2019123105         &  8                 & 192000             & SPECIAL\\_SET      & 온라인\\_전용상품  & COMBO              & 24000             \\\\\n",
       "\t 191231137864110010 & M0005              & 2019123106         &  6                 & 210000             & STEAK              & 스테이크           & FOOD               & 35000             \\\\\n",
       "\t 191231607864610010 & M0005              & 2019123107         &  4                 & 140000             & STEAK              & 스테이크           & FOOD               & 35000             \\\\\n",
       "\t 191231607864610010 & M0009              & 2019123107         &  4                 &  32000             & WINE               & 와인               & BEVERAGE           &  8000             \\\\\n",
       "\t 191216678376100100 & M0005              & 2019121603         &  6                 & 210000             & STEAK              & 스테이크           & FOOD               & 35000             \\\\\n",
       "\t 191216678533100100 & M0005              & 2019121604         &  4                 & 140000             & STEAK              & 스테이크           & FOOD               & 35000             \\\\\n",
       "\t 191216107839010010 & M0001              & 2019121605         &  3                 &  72000             & SPECIAL\\_SET      & 온라인\\_전용상품  & COMBO              & 24000             \\\\\n",
       "\t 191216107298910010 & M0001              & 2019121606         &  2                 &  48000             & SPECIAL\\_SET      & 온라인\\_전용상품  & COMBO              & 24000             \\\\\n",
       "\t 191217378488100100 & M0003              & 2019121701         &  1                 &  17000             & PIZZA              & 피자               & FOOD               & 17000             \\\\\n",
       "\t 191217378513100100 & M0007              & 2019121702         &  2                 &  30000             & SALAD              & 샐러드             & FOOD               & 15000             \\\\\n",
       "\t 191217137851110010 & M0001              & 2019121704         &  9                 & 216000             & SPECIAL\\_SET      & 온라인\\_전용상품  & COMBO              & 24000             \\\\\n",
       "\t 191217578481100100 & M0005              & 2019121705         &  3                 & 105000             & STEAK              & 스테이크           & FOOD               & 35000             \\\\\n",
       "\t ... & ... & ... & ... & ... & ... & ... & ... & ...\\\\\n",
       "\t 191208137385810010 & M0006              & 2019120803         & 1                  &  25000             & SALAD\\_BAR        & 샐러드바           & COMBO              & 25000             \\\\\n",
       "\t 191208578401100100 & M0008              & 2019120806         & 1                  &  10000             & SANDWICH           & 샌드위치           & FOOD               & 10000             \\\\\n",
       "\t 191209674238100100 & M0001              & 2019120901         & 9                  & 216000             & SPECIAL\\_SET      & 온라인\\_전용상품  & COMBO              & 24000             \\\\\n",
       "\t 191210137850310010 & M0002              & 2019121001         & 3                  &  36000             & PASTA              & 파스타             & FOOD               & 12000             \\\\\n",
       "\t 191210578543100100 & M0005              & 2019121002         & 2                  &  70000             & STEAK              & 스테이크           & FOOD               & 35000             \\\\\n",
       "\t 191210578596100100 & M0002              & 2019121003         & 1                  &  12000             & PASTA              & 파스타             & FOOD               & 12000             \\\\\n",
       "\t 191210517425810010 & M0005              & 2019121004         & 2                  &  70000             & STEAK              & 스테이크           & FOOD               & 35000             \\\\\n",
       "\t 191210517434110010 & M0008              & 2019121005         & 2                  &  20000             & SANDWICH           & 샌드위치           & FOOD               & 10000             \\\\\n",
       "\t 191210107298910010 & M0002              & 2019121006         & 2                  &  24000             & PASTA              & 파스타             & FOOD               & 12000             \\\\\n",
       "\t 191210517412210010 & M0005              & 2019121007         & 4                  & 140000             & STEAK              & 스테이크           & FOOD               & 35000             \\\\\n",
       "\t 191211371966100100 & M0001              & 2019121101         & 2                  &  48000             & SPECIAL\\_SET      & 온라인\\_전용상품  & COMBO              & 24000             \\\\\n",
       "\t 191211137436110010 & M0002              & 2019121102         & 2                  &  24000             & PASTA              & 파스타             & FOOD               & 12000             \\\\\n",
       "\t 191212547862510010 & M0001              & 2019121202         & 4                  &  96000             & SPECIAL\\_SET      & 온라인\\_전용상품  & COMBO              & 24000             \\\\\n",
       "\t 191212607833610010 & M0005              & 2019121203         & 4                  & 140000             & STEAK              & 스테이크           & FOOD               & 35000             \\\\\n",
       "\t 191212107393010010 & M0004              & 2019121204         & 2                  &  50000             & SEA\\_FOOD         & 씨푸드             & FOOD               & 25000             \\\\\n",
       "\t 191213378539100100 & M0005              & 2019121301         & 2                  &  70000             & STEAK              & 스테이크           & FOOD               & 35000             \\\\\n",
       "\t 191213547302810010 & M0002              & 2019121302         & 4                  &  48000             & PASTA              & 파스타             & FOOD               & 12000             \\\\\n",
       "\t 191213547404510010 & M0005              & 2019121303         & 1                  &  35000             & STEAK              & 스테이크           & FOOD               & 35000             \\\\\n",
       "\t 191213181000524010 & M0008              & 2019121304         & 1                  &  10000             & SANDWICH           & 샌드위치           & FOOD               & 10000             \\\\\n",
       "\t 191214107853910010 & M0006              & 2019121401         & 2                  &  50000             & SALAD\\_BAR        & 샐러드바           & COMBO              & 25000             \\\\\n",
       "\t 191214673780100100 & M0005              & 2019121402         & 2                  &  70000             & STEAK              & 스테이크           & FOOD               & 35000             \\\\\n",
       "\t 191214517862910010 & M0005              & 2019121403         & 2                  &  70000             & STEAK              & 스테이크           & FOOD               & 35000             \\\\\n",
       "\t 191214607846210010 & M0006              & 2019121404         & 3                  &  75000             & SALAD\\_BAR        & 샐러드바           & COMBO              & 25000             \\\\\n",
       "\t 191214607864310010 & M0002              & 2019121405         & 3                  &  36000             & PASTA              & 파스타             & FOOD               & 12000             \\\\\n",
       "\t 191215137850410010 & M0003              & 2019121501         & 2                  &  34000             & PIZZA              & 피자               & FOOD               & 17000             \\\\\n",
       "\t 191215547862510010 & M0002              & 2019121502         & 3                  &  36000             & PASTA              & 파스타             & FOOD               & 12000             \\\\\n",
       "\t 191215547862510010 & M0009              & 2019121502         & 3                  &  24000             & WINE               & 와인               & BEVERAGE           &  8000             \\\\\n",
       "\t 191215137422210010 & M0008              & 2019121503         & 1                  &  10000             & SANDWICH           & 샌드위치           & FOOD               & 10000             \\\\\n",
       "\t 191215181000524010 & M0001              & 2019121504         & 1                  &  24000             & SPECIAL\\_SET      & 온라인\\_전용상품  & COMBO              & 24000             \\\\\n",
       "\t 191216137421910010 & M0007              & 2019121602         & 4                  &  60000             & SALAD              & 샐러드             & FOOD               & 15000             \\\\\n",
       "\\end{tabular}\n"
      ],
      "text/markdown": [
       "\n",
       "| ORDER_NO | ITEM_ID | RESERV_NO | QUANTITY | SALES | PRODUCT_NAME | PRODUCT_DESC | CATEGORY_ID | PRICE |\n",
       "|---|---|---|---|---|---|---|---|---|\n",
       "| 191228137840110010 | M0003              | 2019122805         |  1                 |  17000             | PIZZA              | 피자               | FOOD               | 17000              |\n",
       "| 191228137837810010 | M0001              | 2019122806         | 10                 | 240000             | SPECIAL_SET        | 온라인_전용상품    | COMBO              | 24000              |\n",
       "| 191228547385810010 | M0003              | 2019122807         |  2                 |  34000             | PIZZA              | 피자               | FOOD               | 17000              |\n",
       "| 191228567831310010 | M0008              | 2019122808         |  1                 |  10000             | SANDWICH           | 샌드위치           | FOOD               | 10000              |\n",
       "| 191228567430310010 | M0005              | 2019122809         |  4                 | 140000             | STEAK              | 스테이크           | FOOD               | 35000              |\n",
       "| 191228137860010010 | M0005              | 2019122810         |  2                 |  70000             | STEAK              | 스테이크           | FOOD               | 35000              |\n",
       "| 191228137860010010 | M0009              | 2019122810         |  2                 |  16000             | WINE               | 와인               | BEVERAGE           |  8000              |\n",
       "| 191229107864610010 | M0005              | 2019122901         |  4                 | 140000             | STEAK              | 스테이크           | FOOD               | 35000              |\n",
       "| 191229107864610010 | M0009              | 2019122901         |  4                 |  32000             | WINE               | 와인               | BEVERAGE           |  8000              |\n",
       "| 191229137425710010 | M0003              | 2019122902         |  2                 |  34000             | PIZZA              | 피자               | FOOD               | 17000              |\n",
       "| 191230137860610010 | M0003              | 2019123002         |  3                 |  51000             | PIZZA              | 피자               | FOOD               | 17000              |\n",
       "| 191230137865010010 | M0001              | 2019123003         |  8                 | 192000             | SPECIAL_SET        | 온라인_전용상품    | COMBO              | 24000              |\n",
       "| 191230137847710020 | M0005              | 2019123005         |  2                 |  70000             | STEAK              | 스테이크           | FOOD               | 35000              |\n",
       "| 191230187379710010 | M0005              | 2019123006         |  1                 |  35000             | STEAK              | 스테이크           | FOOD               | 35000              |\n",
       "| 191230187379710010 | M0009              | 2019123006         |  1                 |   8000             | WINE               | 와인               | BEVERAGE           |  8000              |\n",
       "| 191231137450910010 | M0005              | 2019123101         |  4                 | 140000             | STEAK              | 스테이크           | FOOD               | 35000              |\n",
       "| 191231567834710010 | M0006              | 2019123102         |  4                 | 100000             | SALAD_BAR          | 샐러드바           | COMBO              | 25000              |\n",
       "| 191231107865610010 | M0008              | 2019123104         |  3                 |  30000             | SANDWICH           | 샌드위치           | FOOD               | 10000              |\n",
       "| 191231137864710010 | M0001              | 2019123105         |  8                 | 192000             | SPECIAL_SET        | 온라인_전용상품    | COMBO              | 24000              |\n",
       "| 191231137864110010 | M0005              | 2019123106         |  6                 | 210000             | STEAK              | 스테이크           | FOOD               | 35000              |\n",
       "| 191231607864610010 | M0005              | 2019123107         |  4                 | 140000             | STEAK              | 스테이크           | FOOD               | 35000              |\n",
       "| 191231607864610010 | M0009              | 2019123107         |  4                 |  32000             | WINE               | 와인               | BEVERAGE           |  8000              |\n",
       "| 191216678376100100 | M0005              | 2019121603         |  6                 | 210000             | STEAK              | 스테이크           | FOOD               | 35000              |\n",
       "| 191216678533100100 | M0005              | 2019121604         |  4                 | 140000             | STEAK              | 스테이크           | FOOD               | 35000              |\n",
       "| 191216107839010010 | M0001              | 2019121605         |  3                 |  72000             | SPECIAL_SET        | 온라인_전용상품    | COMBO              | 24000              |\n",
       "| 191216107298910010 | M0001              | 2019121606         |  2                 |  48000             | SPECIAL_SET        | 온라인_전용상품    | COMBO              | 24000              |\n",
       "| 191217378488100100 | M0003              | 2019121701         |  1                 |  17000             | PIZZA              | 피자               | FOOD               | 17000              |\n",
       "| 191217378513100100 | M0007              | 2019121702         |  2                 |  30000             | SALAD              | 샐러드             | FOOD               | 15000              |\n",
       "| 191217137851110010 | M0001              | 2019121704         |  9                 | 216000             | SPECIAL_SET        | 온라인_전용상품    | COMBO              | 24000              |\n",
       "| 191217578481100100 | M0005              | 2019121705         |  3                 | 105000             | STEAK              | 스테이크           | FOOD               | 35000              |\n",
       "| ... | ... | ... | ... | ... | ... | ... | ... | ... |\n",
       "| 191208137385810010 | M0006              | 2019120803         | 1                  |  25000             | SALAD_BAR          | 샐러드바           | COMBO              | 25000              |\n",
       "| 191208578401100100 | M0008              | 2019120806         | 1                  |  10000             | SANDWICH           | 샌드위치           | FOOD               | 10000              |\n",
       "| 191209674238100100 | M0001              | 2019120901         | 9                  | 216000             | SPECIAL_SET        | 온라인_전용상품    | COMBO              | 24000              |\n",
       "| 191210137850310010 | M0002              | 2019121001         | 3                  |  36000             | PASTA              | 파스타             | FOOD               | 12000              |\n",
       "| 191210578543100100 | M0005              | 2019121002         | 2                  |  70000             | STEAK              | 스테이크           | FOOD               | 35000              |\n",
       "| 191210578596100100 | M0002              | 2019121003         | 1                  |  12000             | PASTA              | 파스타             | FOOD               | 12000              |\n",
       "| 191210517425810010 | M0005              | 2019121004         | 2                  |  70000             | STEAK              | 스테이크           | FOOD               | 35000              |\n",
       "| 191210517434110010 | M0008              | 2019121005         | 2                  |  20000             | SANDWICH           | 샌드위치           | FOOD               | 10000              |\n",
       "| 191210107298910010 | M0002              | 2019121006         | 2                  |  24000             | PASTA              | 파스타             | FOOD               | 12000              |\n",
       "| 191210517412210010 | M0005              | 2019121007         | 4                  | 140000             | STEAK              | 스테이크           | FOOD               | 35000              |\n",
       "| 191211371966100100 | M0001              | 2019121101         | 2                  |  48000             | SPECIAL_SET        | 온라인_전용상품    | COMBO              | 24000              |\n",
       "| 191211137436110010 | M0002              | 2019121102         | 2                  |  24000             | PASTA              | 파스타             | FOOD               | 12000              |\n",
       "| 191212547862510010 | M0001              | 2019121202         | 4                  |  96000             | SPECIAL_SET        | 온라인_전용상품    | COMBO              | 24000              |\n",
       "| 191212607833610010 | M0005              | 2019121203         | 4                  | 140000             | STEAK              | 스테이크           | FOOD               | 35000              |\n",
       "| 191212107393010010 | M0004              | 2019121204         | 2                  |  50000             | SEA_FOOD           | 씨푸드             | FOOD               | 25000              |\n",
       "| 191213378539100100 | M0005              | 2019121301         | 2                  |  70000             | STEAK              | 스테이크           | FOOD               | 35000              |\n",
       "| 191213547302810010 | M0002              | 2019121302         | 4                  |  48000             | PASTA              | 파스타             | FOOD               | 12000              |\n",
       "| 191213547404510010 | M0005              | 2019121303         | 1                  |  35000             | STEAK              | 스테이크           | FOOD               | 35000              |\n",
       "| 191213181000524010 | M0008              | 2019121304         | 1                  |  10000             | SANDWICH           | 샌드위치           | FOOD               | 10000              |\n",
       "| 191214107853910010 | M0006              | 2019121401         | 2                  |  50000             | SALAD_BAR          | 샐러드바           | COMBO              | 25000              |\n",
       "| 191214673780100100 | M0005              | 2019121402         | 2                  |  70000             | STEAK              | 스테이크           | FOOD               | 35000              |\n",
       "| 191214517862910010 | M0005              | 2019121403         | 2                  |  70000             | STEAK              | 스테이크           | FOOD               | 35000              |\n",
       "| 191214607846210010 | M0006              | 2019121404         | 3                  |  75000             | SALAD_BAR          | 샐러드바           | COMBO              | 25000              |\n",
       "| 191214607864310010 | M0002              | 2019121405         | 3                  |  36000             | PASTA              | 파스타             | FOOD               | 12000              |\n",
       "| 191215137850410010 | M0003              | 2019121501         | 2                  |  34000             | PIZZA              | 피자               | FOOD               | 17000              |\n",
       "| 191215547862510010 | M0002              | 2019121502         | 3                  |  36000             | PASTA              | 파스타             | FOOD               | 12000              |\n",
       "| 191215547862510010 | M0009              | 2019121502         | 3                  |  24000             | WINE               | 와인               | BEVERAGE           |  8000              |\n",
       "| 191215137422210010 | M0008              | 2019121503         | 1                  |  10000             | SANDWICH           | 샌드위치           | FOOD               | 10000              |\n",
       "| 191215181000524010 | M0001              | 2019121504         | 1                  |  24000             | SPECIAL_SET        | 온라인_전용상품    | COMBO              | 24000              |\n",
       "| 191216137421910010 | M0007              | 2019121602         | 4                  |  60000             | SALAD              | 샐러드             | FOOD               | 15000              |\n",
       "\n"
      ],
      "text/plain": [
       "    ORDER_NO           ITEM_ID RESERV_NO  QUANTITY SALES  PRODUCT_NAME\n",
       "1   191228137840110010 M0003   2019122805  1        17000 PIZZA       \n",
       "2   191228137837810010 M0001   2019122806 10       240000 SPECIAL_SET \n",
       "3   191228547385810010 M0003   2019122807  2        34000 PIZZA       \n",
       "4   191228567831310010 M0008   2019122808  1        10000 SANDWICH    \n",
       "5   191228567430310010 M0005   2019122809  4       140000 STEAK       \n",
       "6   191228137860010010 M0005   2019122810  2        70000 STEAK       \n",
       "7   191228137860010010 M0009   2019122810  2        16000 WINE        \n",
       "8   191229107864610010 M0005   2019122901  4       140000 STEAK       \n",
       "9   191229107864610010 M0009   2019122901  4        32000 WINE        \n",
       "10  191229137425710010 M0003   2019122902  2        34000 PIZZA       \n",
       "11  191230137860610010 M0003   2019123002  3        51000 PIZZA       \n",
       "12  191230137865010010 M0001   2019123003  8       192000 SPECIAL_SET \n",
       "13  191230137847710020 M0005   2019123005  2        70000 STEAK       \n",
       "14  191230187379710010 M0005   2019123006  1        35000 STEAK       \n",
       "15  191230187379710010 M0009   2019123006  1         8000 WINE        \n",
       "16  191231137450910010 M0005   2019123101  4       140000 STEAK       \n",
       "17  191231567834710010 M0006   2019123102  4       100000 SALAD_BAR   \n",
       "18  191231107865610010 M0008   2019123104  3        30000 SANDWICH    \n",
       "19  191231137864710010 M0001   2019123105  8       192000 SPECIAL_SET \n",
       "20  191231137864110010 M0005   2019123106  6       210000 STEAK       \n",
       "21  191231607864610010 M0005   2019123107  4       140000 STEAK       \n",
       "22  191231607864610010 M0009   2019123107  4        32000 WINE        \n",
       "23  191216678376100100 M0005   2019121603  6       210000 STEAK       \n",
       "24  191216678533100100 M0005   2019121604  4       140000 STEAK       \n",
       "25  191216107839010010 M0001   2019121605  3        72000 SPECIAL_SET \n",
       "26  191216107298910010 M0001   2019121606  2        48000 SPECIAL_SET \n",
       "27  191217378488100100 M0003   2019121701  1        17000 PIZZA       \n",
       "28  191217378513100100 M0007   2019121702  2        30000 SALAD       \n",
       "29  191217137851110010 M0001   2019121704  9       216000 SPECIAL_SET \n",
       "30  191217578481100100 M0005   2019121705  3       105000 STEAK       \n",
       "... ...                ...     ...        ...      ...    ...         \n",
       "362 191208137385810010 M0006   2019120803 1         25000 SALAD_BAR   \n",
       "363 191208578401100100 M0008   2019120806 1         10000 SANDWICH    \n",
       "364 191209674238100100 M0001   2019120901 9        216000 SPECIAL_SET \n",
       "365 191210137850310010 M0002   2019121001 3         36000 PASTA       \n",
       "366 191210578543100100 M0005   2019121002 2         70000 STEAK       \n",
       "367 191210578596100100 M0002   2019121003 1         12000 PASTA       \n",
       "368 191210517425810010 M0005   2019121004 2         70000 STEAK       \n",
       "369 191210517434110010 M0008   2019121005 2         20000 SANDWICH    \n",
       "370 191210107298910010 M0002   2019121006 2         24000 PASTA       \n",
       "371 191210517412210010 M0005   2019121007 4        140000 STEAK       \n",
       "372 191211371966100100 M0001   2019121101 2         48000 SPECIAL_SET \n",
       "373 191211137436110010 M0002   2019121102 2         24000 PASTA       \n",
       "374 191212547862510010 M0001   2019121202 4         96000 SPECIAL_SET \n",
       "375 191212607833610010 M0005   2019121203 4        140000 STEAK       \n",
       "376 191212107393010010 M0004   2019121204 2         50000 SEA_FOOD    \n",
       "377 191213378539100100 M0005   2019121301 2         70000 STEAK       \n",
       "378 191213547302810010 M0002   2019121302 4         48000 PASTA       \n",
       "379 191213547404510010 M0005   2019121303 1         35000 STEAK       \n",
       "380 191213181000524010 M0008   2019121304 1         10000 SANDWICH    \n",
       "381 191214107853910010 M0006   2019121401 2         50000 SALAD_BAR   \n",
       "382 191214673780100100 M0005   2019121402 2         70000 STEAK       \n",
       "383 191214517862910010 M0005   2019121403 2         70000 STEAK       \n",
       "384 191214607846210010 M0006   2019121404 3         75000 SALAD_BAR   \n",
       "385 191214607864310010 M0002   2019121405 3         36000 PASTA       \n",
       "386 191215137850410010 M0003   2019121501 2         34000 PIZZA       \n",
       "387 191215547862510010 M0002   2019121502 3         36000 PASTA       \n",
       "388 191215547862510010 M0009   2019121502 3         24000 WINE        \n",
       "389 191215137422210010 M0008   2019121503 1         10000 SANDWICH    \n",
       "390 191215181000524010 M0001   2019121504 1         24000 SPECIAL_SET \n",
       "391 191216137421910010 M0007   2019121602 4         60000 SALAD       \n",
       "    PRODUCT_DESC    CATEGORY_ID PRICE\n",
       "1   피자            FOOD        17000\n",
       "2   온라인_전용상품 COMBO       24000\n",
       "3   피자            FOOD        17000\n",
       "4   샌드위치        FOOD        10000\n",
       "5   스테이크        FOOD        35000\n",
       "6   스테이크        FOOD        35000\n",
       "7   와인            BEVERAGE     8000\n",
       "8   스테이크        FOOD        35000\n",
       "9   와인            BEVERAGE     8000\n",
       "10  피자            FOOD        17000\n",
       "11  피자            FOOD        17000\n",
       "12  온라인_전용상품 COMBO       24000\n",
       "13  스테이크        FOOD        35000\n",
       "14  스테이크        FOOD        35000\n",
       "15  와인            BEVERAGE     8000\n",
       "16  스테이크        FOOD        35000\n",
       "17  샐러드바        COMBO       25000\n",
       "18  샌드위치        FOOD        10000\n",
       "19  온라인_전용상품 COMBO       24000\n",
       "20  스테이크        FOOD        35000\n",
       "21  스테이크        FOOD        35000\n",
       "22  와인            BEVERAGE     8000\n",
       "23  스테이크        FOOD        35000\n",
       "24  스테이크        FOOD        35000\n",
       "25  온라인_전용상품 COMBO       24000\n",
       "26  온라인_전용상품 COMBO       24000\n",
       "27  피자            FOOD        17000\n",
       "28  샐러드          FOOD        15000\n",
       "29  온라인_전용상품 COMBO       24000\n",
       "30  스테이크        FOOD        35000\n",
       "... ...             ...         ...  \n",
       "362 샐러드바        COMBO       25000\n",
       "363 샌드위치        FOOD        10000\n",
       "364 온라인_전용상품 COMBO       24000\n",
       "365 파스타          FOOD        12000\n",
       "366 스테이크        FOOD        35000\n",
       "367 파스타          FOOD        12000\n",
       "368 스테이크        FOOD        35000\n",
       "369 샌드위치        FOOD        10000\n",
       "370 파스타          FOOD        12000\n",
       "371 스테이크        FOOD        35000\n",
       "372 온라인_전용상품 COMBO       24000\n",
       "373 파스타          FOOD        12000\n",
       "374 온라인_전용상품 COMBO       24000\n",
       "375 스테이크        FOOD        35000\n",
       "376 씨푸드          FOOD        25000\n",
       "377 스테이크        FOOD        35000\n",
       "378 파스타          FOOD        12000\n",
       "379 스테이크        FOOD        35000\n",
       "380 샌드위치        FOOD        10000\n",
       "381 샐러드바        COMBO       25000\n",
       "382 스테이크        FOOD        35000\n",
       "383 스테이크        FOOD        35000\n",
       "384 샐러드바        COMBO       25000\n",
       "385 파스타          FOOD        12000\n",
       "386 피자            FOOD        17000\n",
       "387 파스타          FOOD        12000\n",
       "388 와인            BEVERAGE     8000\n",
       "389 샌드위치        FOOD        10000\n",
       "390 온라인_전용상품 COMBO       24000\n",
       "391 샐러드          FOOD        15000"
      ]
     },
     "metadata": {},
     "output_type": "display_data"
    }
   ],
   "source": [
    "df_boxplot_graph <- inner_join(order_info_r,item_r,by=\"ITEM_ID\")\n",
    "df_boxplot_graph"
   ]
  },
  {
   "cell_type": "code",
   "execution_count": 28,
   "id": "toxic-arrow",
   "metadata": {},
   "outputs": [
    {
     "data": {
      "image/png": "[encoded data removed]",
      "text/plain": [
       "plot without title"
      ]
     },
     "metadata": {},
     "output_type": "display_data"
    }
   ],
   "source": [
    "ggplot(df_boxplot_graph,aes(PRODUCT_NAME,SALES/1000)) +\n",
    "geom_boxplot(width=0.8,outlier.size=2,outlier.colour=\"red\") +\n",
    "labs(title=\"메뉴아이템 상자그림\",x=\"메뉴\",y=\"매출\")"
   ]
  },
  {
   "cell_type": "code",
   "execution_count": null,
   "id": "convenient-german",
   "metadata": {},
   "outputs": [],
   "source": []
  }
 ],
 "metadata": {
  "kernelspec": {
   "display_name": "R",
   "language": "R",
   "name": "ir"
  },
  "language_info": {
   "codemirror_mode": "r",
   "file_extension": ".r",
   "mimetype": "text/x-r-source",
   "name": "R",
   "pygments_lexer": "r",
   "version": "3.6.1"
  }
 },
 "nbformat": 4,
 "nbformat_minor": 5
}
