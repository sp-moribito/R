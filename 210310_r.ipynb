{
  "nbformat": 4,
  "nbformat_minor": 0,
  "metadata": {
    "colab": {
      "name": "210310_r.ipynb",
      "provenance": [],
      "collapsed_sections": [],
      "authorship_tag": "ABX9TyM5RwAICsAHhEmQGgRuQdD0",
      "include_colab_link": true
    },
    "kernelspec": {
      "name": "ir",
      "display_name": "R"
    }
  },
  "cells": [
    {
      "cell_type": "markdown",
      "metadata": {
        "id": "view-in-github",
        "colab_type": "text"
      },
      "source": [
        "<a href=\"https://colab.research.google.com/github/sp-moribito/R/blob/main/210310_r.ipynb\" target=\"_parent\"><img src=\"https://colab.research.google.com/assets/colab-badge.svg\" alt=\"Open In Colab\"/></a>"
      ]
    },
    {
      "cell_type": "code",
      "metadata": {
        "colab": {
          "base_uri": "https://localhost:8080/",
          "height": 113
        },
        "id": "W0wCZJfhLjqt",
        "outputId": "03f1af9d-0ecb-4926-e0fd-82f6654d21c5"
      },
      "source": [
        "x<-c(1,2,3,4,5)\r\n",
        "y<-c(6,7,8,9,10)\r\n",
        "\r\n",
        "rbind(x,y)"
      ],
      "execution_count": null,
      "outputs": [
        {
          "output_type": "display_data",
          "data": {
            "text/plain": [
              "  [,1] [,2] [,3] [,4] [,5]\n",
              "x 1    2    3    4     5  \n",
              "y 6    7    8    9    10  "
            ],
            "text/latex": "A matrix: 2 × 5 of type dbl\n\\begin{tabular}{r|lllll}\n\tx & 1 & 2 & 3 & 4 &  5\\\\\n\ty & 6 & 7 & 8 & 9 & 10\\\\\n\\end{tabular}\n",
            "text/markdown": "\nA matrix: 2 × 5 of type dbl\n\n| x | 1 | 2 | 3 | 4 |  5 |\n| y | 6 | 7 | 8 | 9 | 10 |\n\n",
            "text/html": [
              "<table class=\"dataframe\">\n",
              "<caption>A matrix: 2 × 5 of type dbl</caption>\n",
              "<tbody>\n",
              "\t<tr><th scope=row>x</th><td>1</td><td>2</td><td>3</td><td>4</td><td> 5</td></tr>\n",
              "\t<tr><th scope=row>y</th><td>6</td><td>7</td><td>8</td><td>9</td><td>10</td></tr>\n",
              "</tbody>\n",
              "</table>\n"
            ]
          },
          "metadata": {
            "tags": []
          }
        }
      ]
    },
    {
      "cell_type": "code",
      "metadata": {
        "id": "zOAicKIWMGW2",
        "colab": {
          "base_uri": "https://localhost:8080/",
          "height": 289
        },
        "outputId": "18391d31-b2f7-496a-8c24-bf83526a54b1"
      },
      "source": [
        "cbind(x,y)"
      ],
      "execution_count": 2,
      "outputs": [
        {
          "output_type": "display_data",
          "data": {
            "text/plain": [
              "     x y \n",
              "[1,] 1  6\n",
              "[2,] 2  7\n",
              "[3,] 3  8\n",
              "[4,] 4  9\n",
              "[5,] 5 10"
            ],
            "text/latex": "A matrix: 5 × 2 of type dbl\n\\begin{tabular}{ll}\n x & y\\\\\n\\hline\n\t 1 &  6\\\\\n\t 2 &  7\\\\\n\t 3 &  8\\\\\n\t 4 &  9\\\\\n\t 5 & 10\\\\\n\\end{tabular}\n",
            "text/markdown": "\nA matrix: 5 × 2 of type dbl\n\n| x | y |\n|---|---|\n| 1 |  6 |\n| 2 |  7 |\n| 3 |  8 |\n| 4 |  9 |\n| 5 | 10 |\n\n",
            "text/html": [
              "<table class=\"dataframe\">\n",
              "<caption>A matrix: 5 × 2 of type dbl</caption>\n",
              "<thead>\n",
              "\t<tr><th scope=col>x</th><th scope=col>y</th></tr>\n",
              "</thead>\n",
              "<tbody>\n",
              "\t<tr><td>1</td><td> 6</td></tr>\n",
              "\t<tr><td>2</td><td> 7</td></tr>\n",
              "\t<tr><td>3</td><td> 8</td></tr>\n",
              "\t<tr><td>4</td><td> 9</td></tr>\n",
              "\t<tr><td>5</td><td>10</td></tr>\n",
              "</tbody>\n",
              "</table>\n"
            ]
          },
          "metadata": {
            "tags": []
          }
        }
      ]
    },
    {
      "cell_type": "code",
      "metadata": {
        "colab": {
          "base_uri": "https://localhost:8080/",
          "height": 176
        },
        "id": "3wAgDH3mMXPI",
        "outputId": "fee1dceb-69fa-4e9d-aed6-5d85df66f72b"
      },
      "source": [
        "df<-data.frame(name=c(\"a\",\"b\"),score=c(80,60))\r\n",
        "df"
      ],
      "execution_count": 3,
      "outputs": [
        {
          "output_type": "display_data",
          "data": {
            "text/plain": [
              "  name score\n",
              "1 a    80   \n",
              "2 b    60   "
            ],
            "text/latex": "A data.frame: 2 × 2\n\\begin{tabular}{ll}\n name & score\\\\\n <chr> & <dbl>\\\\\n\\hline\n\t a & 80\\\\\n\t b & 60\\\\\n\\end{tabular}\n",
            "text/markdown": "\nA data.frame: 2 × 2\n\n| name &lt;chr&gt; | score &lt;dbl&gt; |\n|---|---|\n| a | 80 |\n| b | 60 |\n\n",
            "text/html": [
              "<table class=\"dataframe\">\n",
              "<caption>A data.frame: 2 × 2</caption>\n",
              "<thead>\n",
              "\t<tr><th scope=col>name</th><th scope=col>score</th></tr>\n",
              "\t<tr><th scope=col>&lt;chr&gt;</th><th scope=col>&lt;dbl&gt;</th></tr>\n",
              "</thead>\n",
              "<tbody>\n",
              "\t<tr><td>a</td><td>80</td></tr>\n",
              "\t<tr><td>b</td><td>60</td></tr>\n",
              "</tbody>\n",
              "</table>\n"
            ]
          },
          "metadata": {
            "tags": []
          }
        }
      ]
    },
    {
      "cell_type": "code",
      "metadata": {
        "colab": {
          "base_uri": "https://localhost:8080/",
          "height": 159
        },
        "id": "TH35H3uEMdmr",
        "outputId": "55d35684-9a0b-459a-de6d-52135e76e149"
      },
      "source": [
        "cbind(df,rank=c(1,2))"
      ],
      "execution_count": 4,
      "outputs": [
        {
          "output_type": "display_data",
          "data": {
            "text/plain": [
              "  name score rank\n",
              "1 a    80    1   \n",
              "2 b    60    2   "
            ],
            "text/latex": "A data.frame: 2 × 3\n\\begin{tabular}{lll}\n name & score & rank\\\\\n <chr> & <dbl> & <dbl>\\\\\n\\hline\n\t a & 80 & 1\\\\\n\t b & 60 & 2\\\\\n\\end{tabular}\n",
            "text/markdown": "\nA data.frame: 2 × 3\n\n| name &lt;chr&gt; | score &lt;dbl&gt; | rank &lt;dbl&gt; |\n|---|---|---|\n| a | 80 | 1 |\n| b | 60 | 2 |\n\n",
            "text/html": [
              "<table class=\"dataframe\">\n",
              "<caption>A data.frame: 2 × 3</caption>\n",
              "<thead>\n",
              "\t<tr><th scope=col>name</th><th scope=col>score</th><th scope=col>rank</th></tr>\n",
              "\t<tr><th scope=col>&lt;chr&gt;</th><th scope=col>&lt;dbl&gt;</th><th scope=col>&lt;dbl&gt;</th></tr>\n",
              "</thead>\n",
              "<tbody>\n",
              "\t<tr><td>a</td><td>80</td><td>1</td></tr>\n",
              "\t<tr><td>b</td><td>60</td><td>2</td></tr>\n",
              "</tbody>\n",
              "</table>\n"
            ]
          },
          "metadata": {
            "tags": []
          }
        }
      ]
    },
    {
      "cell_type": "code",
      "metadata": {
        "colab": {
          "base_uri": "https://localhost:8080/",
          "height": 1000
        },
        "id": "2e4krtcmMhaZ",
        "outputId": "d2c8990d-ad4a-43c0-c386-5fbda838566a"
      },
      "source": [
        "split(iris,iris$Species)"
      ],
      "execution_count": 5,
      "outputs": [
        {
          "output_type": "display_data",
          "data": {
            "text/plain": [
              "$setosa\n",
              "   Sepal.Length Sepal.Width Petal.Length Petal.Width Species\n",
              "1           5.1         3.5          1.4         0.2  setosa\n",
              "2           4.9         3.0          1.4         0.2  setosa\n",
              "3           4.7         3.2          1.3         0.2  setosa\n",
              "4           4.6         3.1          1.5         0.2  setosa\n",
              "5           5.0         3.6          1.4         0.2  setosa\n",
              "6           5.4         3.9          1.7         0.4  setosa\n",
              "7           4.6         3.4          1.4         0.3  setosa\n",
              "8           5.0         3.4          1.5         0.2  setosa\n",
              "9           4.4         2.9          1.4         0.2  setosa\n",
              "10          4.9         3.1          1.5         0.1  setosa\n",
              "11          5.4         3.7          1.5         0.2  setosa\n",
              "12          4.8         3.4          1.6         0.2  setosa\n",
              "13          4.8         3.0          1.4         0.1  setosa\n",
              "14          4.3         3.0          1.1         0.1  setosa\n",
              "15          5.8         4.0          1.2         0.2  setosa\n",
              "16          5.7         4.4          1.5         0.4  setosa\n",
              "17          5.4         3.9          1.3         0.4  setosa\n",
              "18          5.1         3.5          1.4         0.3  setosa\n",
              "19          5.7         3.8          1.7         0.3  setosa\n",
              "20          5.1         3.8          1.5         0.3  setosa\n",
              "21          5.4         3.4          1.7         0.2  setosa\n",
              "22          5.1         3.7          1.5         0.4  setosa\n",
              "23          4.6         3.6          1.0         0.2  setosa\n",
              "24          5.1         3.3          1.7         0.5  setosa\n",
              "25          4.8         3.4          1.9         0.2  setosa\n",
              "26          5.0         3.0          1.6         0.2  setosa\n",
              "27          5.0         3.4          1.6         0.4  setosa\n",
              "28          5.2         3.5          1.5         0.2  setosa\n",
              "29          5.2         3.4          1.4         0.2  setosa\n",
              "30          4.7         3.2          1.6         0.2  setosa\n",
              "31          4.8         3.1          1.6         0.2  setosa\n",
              "32          5.4         3.4          1.5         0.4  setosa\n",
              "33          5.2         4.1          1.5         0.1  setosa\n",
              "34          5.5         4.2          1.4         0.2  setosa\n",
              "35          4.9         3.1          1.5         0.2  setosa\n",
              "36          5.0         3.2          1.2         0.2  setosa\n",
              "37          5.5         3.5          1.3         0.2  setosa\n",
              "38          4.9         3.6          1.4         0.1  setosa\n",
              "39          4.4         3.0          1.3         0.2  setosa\n",
              "40          5.1         3.4          1.5         0.2  setosa\n",
              "41          5.0         3.5          1.3         0.3  setosa\n",
              "42          4.5         2.3          1.3         0.3  setosa\n",
              "43          4.4         3.2          1.3         0.2  setosa\n",
              "44          5.0         3.5          1.6         0.6  setosa\n",
              "45          5.1         3.8          1.9         0.4  setosa\n",
              "46          4.8         3.0          1.4         0.3  setosa\n",
              "47          5.1         3.8          1.6         0.2  setosa\n",
              "48          4.6         3.2          1.4         0.2  setosa\n",
              "49          5.3         3.7          1.5         0.2  setosa\n",
              "50          5.0         3.3          1.4         0.2  setosa\n",
              "\n",
              "$versicolor\n",
              "    Sepal.Length Sepal.Width Petal.Length Petal.Width    Species\n",
              "51           7.0         3.2          4.7         1.4 versicolor\n",
              "52           6.4         3.2          4.5         1.5 versicolor\n",
              "53           6.9         3.1          4.9         1.5 versicolor\n",
              "54           5.5         2.3          4.0         1.3 versicolor\n",
              "55           6.5         2.8          4.6         1.5 versicolor\n",
              "56           5.7         2.8          4.5         1.3 versicolor\n",
              "57           6.3         3.3          4.7         1.6 versicolor\n",
              "58           4.9         2.4          3.3         1.0 versicolor\n",
              "59           6.6         2.9          4.6         1.3 versicolor\n",
              "60           5.2         2.7          3.9         1.4 versicolor\n",
              "61           5.0         2.0          3.5         1.0 versicolor\n",
              "62           5.9         3.0          4.2         1.5 versicolor\n",
              "63           6.0         2.2          4.0         1.0 versicolor\n",
              "64           6.1         2.9          4.7         1.4 versicolor\n",
              "65           5.6         2.9          3.6         1.3 versicolor\n",
              "66           6.7         3.1          4.4         1.4 versicolor\n",
              "67           5.6         3.0          4.5         1.5 versicolor\n",
              "68           5.8         2.7          4.1         1.0 versicolor\n",
              "69           6.2         2.2          4.5         1.5 versicolor\n",
              "70           5.6         2.5          3.9         1.1 versicolor\n",
              "71           5.9         3.2          4.8         1.8 versicolor\n",
              "72           6.1         2.8          4.0         1.3 versicolor\n",
              "73           6.3         2.5          4.9         1.5 versicolor\n",
              "74           6.1         2.8          4.7         1.2 versicolor\n",
              "75           6.4         2.9          4.3         1.3 versicolor\n",
              "76           6.6         3.0          4.4         1.4 versicolor\n",
              "77           6.8         2.8          4.8         1.4 versicolor\n",
              "78           6.7         3.0          5.0         1.7 versicolor\n",
              "79           6.0         2.9          4.5         1.5 versicolor\n",
              "80           5.7         2.6          3.5         1.0 versicolor\n",
              "81           5.5         2.4          3.8         1.1 versicolor\n",
              "82           5.5         2.4          3.7         1.0 versicolor\n",
              "83           5.8         2.7          3.9         1.2 versicolor\n",
              "84           6.0         2.7          5.1         1.6 versicolor\n",
              "85           5.4         3.0          4.5         1.5 versicolor\n",
              "86           6.0         3.4          4.5         1.6 versicolor\n",
              "87           6.7         3.1          4.7         1.5 versicolor\n",
              "88           6.3         2.3          4.4         1.3 versicolor\n",
              "89           5.6         3.0          4.1         1.3 versicolor\n",
              "90           5.5         2.5          4.0         1.3 versicolor\n",
              "91           5.5         2.6          4.4         1.2 versicolor\n",
              "92           6.1         3.0          4.6         1.4 versicolor\n",
              "93           5.8         2.6          4.0         1.2 versicolor\n",
              "94           5.0         2.3          3.3         1.0 versicolor\n",
              "95           5.6         2.7          4.2         1.3 versicolor\n",
              "96           5.7         3.0          4.2         1.2 versicolor\n",
              "97           5.7         2.9          4.2         1.3 versicolor\n",
              "98           6.2         2.9          4.3         1.3 versicolor\n",
              "99           5.1         2.5          3.0         1.1 versicolor\n",
              "100          5.7         2.8          4.1         1.3 versicolor\n",
              "\n",
              "$virginica\n",
              "    Sepal.Length Sepal.Width Petal.Length Petal.Width   Species\n",
              "101          6.3         3.3          6.0         2.5 virginica\n",
              "102          5.8         2.7          5.1         1.9 virginica\n",
              "103          7.1         3.0          5.9         2.1 virginica\n",
              "104          6.3         2.9          5.6         1.8 virginica\n",
              "105          6.5         3.0          5.8         2.2 virginica\n",
              "106          7.6         3.0          6.6         2.1 virginica\n",
              "107          4.9         2.5          4.5         1.7 virginica\n",
              "108          7.3         2.9          6.3         1.8 virginica\n",
              "109          6.7         2.5          5.8         1.8 virginica\n",
              "110          7.2         3.6          6.1         2.5 virginica\n",
              "111          6.5         3.2          5.1         2.0 virginica\n",
              "112          6.4         2.7          5.3         1.9 virginica\n",
              "113          6.8         3.0          5.5         2.1 virginica\n",
              "114          5.7         2.5          5.0         2.0 virginica\n",
              "115          5.8         2.8          5.1         2.4 virginica\n",
              "116          6.4         3.2          5.3         2.3 virginica\n",
              "117          6.5         3.0          5.5         1.8 virginica\n",
              "118          7.7         3.8          6.7         2.2 virginica\n",
              "119          7.7         2.6          6.9         2.3 virginica\n",
              "120          6.0         2.2          5.0         1.5 virginica\n",
              "121          6.9         3.2          5.7         2.3 virginica\n",
              "122          5.6         2.8          4.9         2.0 virginica\n",
              "123          7.7         2.8          6.7         2.0 virginica\n",
              "124          6.3         2.7          4.9         1.8 virginica\n",
              "125          6.7         3.3          5.7         2.1 virginica\n",
              "126          7.2         3.2          6.0         1.8 virginica\n",
              "127          6.2         2.8          4.8         1.8 virginica\n",
              "128          6.1         3.0          4.9         1.8 virginica\n",
              "129          6.4         2.8          5.6         2.1 virginica\n",
              "130          7.2         3.0          5.8         1.6 virginica\n",
              "131          7.4         2.8          6.1         1.9 virginica\n",
              "132          7.9         3.8          6.4         2.0 virginica\n",
              "133          6.4         2.8          5.6         2.2 virginica\n",
              "134          6.3         2.8          5.1         1.5 virginica\n",
              "135          6.1         2.6          5.6         1.4 virginica\n",
              "136          7.7         3.0          6.1         2.3 virginica\n",
              "137          6.3         3.4          5.6         2.4 virginica\n",
              "138          6.4         3.1          5.5         1.8 virginica\n",
              "139          6.0         3.0          4.8         1.8 virginica\n",
              "140          6.9         3.1          5.4         2.1 virginica\n",
              "141          6.7         3.1          5.6         2.4 virginica\n",
              "142          6.9         3.1          5.1         2.3 virginica\n",
              "143          5.8         2.7          5.1         1.9 virginica\n",
              "144          6.8         3.2          5.9         2.3 virginica\n",
              "145          6.7         3.3          5.7         2.5 virginica\n",
              "146          6.7         3.0          5.2         2.3 virginica\n",
              "147          6.3         2.5          5.0         1.9 virginica\n",
              "148          6.5         3.0          5.2         2.0 virginica\n",
              "149          6.2         3.4          5.4         2.3 virginica\n",
              "150          5.9         3.0          5.1         1.8 virginica\n"
            ],
            "text/latex": "\\begin{description}\n\\item[\\$setosa] A data.frame: 50 × 5\n\\begin{tabular}{r|lllll}\n  & Sepal.Length & Sepal.Width & Petal.Length & Petal.Width & Species\\\\\n  & <dbl> & <dbl> & <dbl> & <dbl> & <fct>\\\\\n\\hline\n\t1 & 5.1 & 3.5 & 1.4 & 0.2 & setosa\\\\\n\t2 & 4.9 & 3.0 & 1.4 & 0.2 & setosa\\\\\n\t3 & 4.7 & 3.2 & 1.3 & 0.2 & setosa\\\\\n\t4 & 4.6 & 3.1 & 1.5 & 0.2 & setosa\\\\\n\t5 & 5.0 & 3.6 & 1.4 & 0.2 & setosa\\\\\n\t6 & 5.4 & 3.9 & 1.7 & 0.4 & setosa\\\\\n\t7 & 4.6 & 3.4 & 1.4 & 0.3 & setosa\\\\\n\t8 & 5.0 & 3.4 & 1.5 & 0.2 & setosa\\\\\n\t9 & 4.4 & 2.9 & 1.4 & 0.2 & setosa\\\\\n\t10 & 4.9 & 3.1 & 1.5 & 0.1 & setosa\\\\\n\t11 & 5.4 & 3.7 & 1.5 & 0.2 & setosa\\\\\n\t12 & 4.8 & 3.4 & 1.6 & 0.2 & setosa\\\\\n\t13 & 4.8 & 3.0 & 1.4 & 0.1 & setosa\\\\\n\t14 & 4.3 & 3.0 & 1.1 & 0.1 & setosa\\\\\n\t15 & 5.8 & 4.0 & 1.2 & 0.2 & setosa\\\\\n\t16 & 5.7 & 4.4 & 1.5 & 0.4 & setosa\\\\\n\t17 & 5.4 & 3.9 & 1.3 & 0.4 & setosa\\\\\n\t18 & 5.1 & 3.5 & 1.4 & 0.3 & setosa\\\\\n\t19 & 5.7 & 3.8 & 1.7 & 0.3 & setosa\\\\\n\t20 & 5.1 & 3.8 & 1.5 & 0.3 & setosa\\\\\n\t21 & 5.4 & 3.4 & 1.7 & 0.2 & setosa\\\\\n\t22 & 5.1 & 3.7 & 1.5 & 0.4 & setosa\\\\\n\t23 & 4.6 & 3.6 & 1.0 & 0.2 & setosa\\\\\n\t24 & 5.1 & 3.3 & 1.7 & 0.5 & setosa\\\\\n\t25 & 4.8 & 3.4 & 1.9 & 0.2 & setosa\\\\\n\t26 & 5.0 & 3.0 & 1.6 & 0.2 & setosa\\\\\n\t27 & 5.0 & 3.4 & 1.6 & 0.4 & setosa\\\\\n\t28 & 5.2 & 3.5 & 1.5 & 0.2 & setosa\\\\\n\t29 & 5.2 & 3.4 & 1.4 & 0.2 & setosa\\\\\n\t30 & 4.7 & 3.2 & 1.6 & 0.2 & setosa\\\\\n\t31 & 4.8 & 3.1 & 1.6 & 0.2 & setosa\\\\\n\t32 & 5.4 & 3.4 & 1.5 & 0.4 & setosa\\\\\n\t33 & 5.2 & 4.1 & 1.5 & 0.1 & setosa\\\\\n\t34 & 5.5 & 4.2 & 1.4 & 0.2 & setosa\\\\\n\t35 & 4.9 & 3.1 & 1.5 & 0.2 & setosa\\\\\n\t36 & 5.0 & 3.2 & 1.2 & 0.2 & setosa\\\\\n\t37 & 5.5 & 3.5 & 1.3 & 0.2 & setosa\\\\\n\t38 & 4.9 & 3.6 & 1.4 & 0.1 & setosa\\\\\n\t39 & 4.4 & 3.0 & 1.3 & 0.2 & setosa\\\\\n\t40 & 5.1 & 3.4 & 1.5 & 0.2 & setosa\\\\\n\t41 & 5.0 & 3.5 & 1.3 & 0.3 & setosa\\\\\n\t42 & 4.5 & 2.3 & 1.3 & 0.3 & setosa\\\\\n\t43 & 4.4 & 3.2 & 1.3 & 0.2 & setosa\\\\\n\t44 & 5.0 & 3.5 & 1.6 & 0.6 & setosa\\\\\n\t45 & 5.1 & 3.8 & 1.9 & 0.4 & setosa\\\\\n\t46 & 4.8 & 3.0 & 1.4 & 0.3 & setosa\\\\\n\t47 & 5.1 & 3.8 & 1.6 & 0.2 & setosa\\\\\n\t48 & 4.6 & 3.2 & 1.4 & 0.2 & setosa\\\\\n\t49 & 5.3 & 3.7 & 1.5 & 0.2 & setosa\\\\\n\t50 & 5.0 & 3.3 & 1.4 & 0.2 & setosa\\\\\n\\end{tabular}\n\n\\item[\\$versicolor] A data.frame: 50 × 5\n\\begin{tabular}{r|lllll}\n  & Sepal.Length & Sepal.Width & Petal.Length & Petal.Width & Species\\\\\n  & <dbl> & <dbl> & <dbl> & <dbl> & <fct>\\\\\n\\hline\n\t51 & 7.0 & 3.2 & 4.7 & 1.4 & versicolor\\\\\n\t52 & 6.4 & 3.2 & 4.5 & 1.5 & versicolor\\\\\n\t53 & 6.9 & 3.1 & 4.9 & 1.5 & versicolor\\\\\n\t54 & 5.5 & 2.3 & 4.0 & 1.3 & versicolor\\\\\n\t55 & 6.5 & 2.8 & 4.6 & 1.5 & versicolor\\\\\n\t56 & 5.7 & 2.8 & 4.5 & 1.3 & versicolor\\\\\n\t57 & 6.3 & 3.3 & 4.7 & 1.6 & versicolor\\\\\n\t58 & 4.9 & 2.4 & 3.3 & 1.0 & versicolor\\\\\n\t59 & 6.6 & 2.9 & 4.6 & 1.3 & versicolor\\\\\n\t60 & 5.2 & 2.7 & 3.9 & 1.4 & versicolor\\\\\n\t61 & 5.0 & 2.0 & 3.5 & 1.0 & versicolor\\\\\n\t62 & 5.9 & 3.0 & 4.2 & 1.5 & versicolor\\\\\n\t63 & 6.0 & 2.2 & 4.0 & 1.0 & versicolor\\\\\n\t64 & 6.1 & 2.9 & 4.7 & 1.4 & versicolor\\\\\n\t65 & 5.6 & 2.9 & 3.6 & 1.3 & versicolor\\\\\n\t66 & 6.7 & 3.1 & 4.4 & 1.4 & versicolor\\\\\n\t67 & 5.6 & 3.0 & 4.5 & 1.5 & versicolor\\\\\n\t68 & 5.8 & 2.7 & 4.1 & 1.0 & versicolor\\\\\n\t69 & 6.2 & 2.2 & 4.5 & 1.5 & versicolor\\\\\n\t70 & 5.6 & 2.5 & 3.9 & 1.1 & versicolor\\\\\n\t71 & 5.9 & 3.2 & 4.8 & 1.8 & versicolor\\\\\n\t72 & 6.1 & 2.8 & 4.0 & 1.3 & versicolor\\\\\n\t73 & 6.3 & 2.5 & 4.9 & 1.5 & versicolor\\\\\n\t74 & 6.1 & 2.8 & 4.7 & 1.2 & versicolor\\\\\n\t75 & 6.4 & 2.9 & 4.3 & 1.3 & versicolor\\\\\n\t76 & 6.6 & 3.0 & 4.4 & 1.4 & versicolor\\\\\n\t77 & 6.8 & 2.8 & 4.8 & 1.4 & versicolor\\\\\n\t78 & 6.7 & 3.0 & 5.0 & 1.7 & versicolor\\\\\n\t79 & 6.0 & 2.9 & 4.5 & 1.5 & versicolor\\\\\n\t80 & 5.7 & 2.6 & 3.5 & 1.0 & versicolor\\\\\n\t81 & 5.5 & 2.4 & 3.8 & 1.1 & versicolor\\\\\n\t82 & 5.5 & 2.4 & 3.7 & 1.0 & versicolor\\\\\n\t83 & 5.8 & 2.7 & 3.9 & 1.2 & versicolor\\\\\n\t84 & 6.0 & 2.7 & 5.1 & 1.6 & versicolor\\\\\n\t85 & 5.4 & 3.0 & 4.5 & 1.5 & versicolor\\\\\n\t86 & 6.0 & 3.4 & 4.5 & 1.6 & versicolor\\\\\n\t87 & 6.7 & 3.1 & 4.7 & 1.5 & versicolor\\\\\n\t88 & 6.3 & 2.3 & 4.4 & 1.3 & versicolor\\\\\n\t89 & 5.6 & 3.0 & 4.1 & 1.3 & versicolor\\\\\n\t90 & 5.5 & 2.5 & 4.0 & 1.3 & versicolor\\\\\n\t91 & 5.5 & 2.6 & 4.4 & 1.2 & versicolor\\\\\n\t92 & 6.1 & 3.0 & 4.6 & 1.4 & versicolor\\\\\n\t93 & 5.8 & 2.6 & 4.0 & 1.2 & versicolor\\\\\n\t94 & 5.0 & 2.3 & 3.3 & 1.0 & versicolor\\\\\n\t95 & 5.6 & 2.7 & 4.2 & 1.3 & versicolor\\\\\n\t96 & 5.7 & 3.0 & 4.2 & 1.2 & versicolor\\\\\n\t97 & 5.7 & 2.9 & 4.2 & 1.3 & versicolor\\\\\n\t98 & 6.2 & 2.9 & 4.3 & 1.3 & versicolor\\\\\n\t99 & 5.1 & 2.5 & 3.0 & 1.1 & versicolor\\\\\n\t100 & 5.7 & 2.8 & 4.1 & 1.3 & versicolor\\\\\n\\end{tabular}\n\n\\item[\\$virginica] A data.frame: 50 × 5\n\\begin{tabular}{r|lllll}\n  & Sepal.Length & Sepal.Width & Petal.Length & Petal.Width & Species\\\\\n  & <dbl> & <dbl> & <dbl> & <dbl> & <fct>\\\\\n\\hline\n\t101 & 6.3 & 3.3 & 6.0 & 2.5 & virginica\\\\\n\t102 & 5.8 & 2.7 & 5.1 & 1.9 & virginica\\\\\n\t103 & 7.1 & 3.0 & 5.9 & 2.1 & virginica\\\\\n\t104 & 6.3 & 2.9 & 5.6 & 1.8 & virginica\\\\\n\t105 & 6.5 & 3.0 & 5.8 & 2.2 & virginica\\\\\n\t106 & 7.6 & 3.0 & 6.6 & 2.1 & virginica\\\\\n\t107 & 4.9 & 2.5 & 4.5 & 1.7 & virginica\\\\\n\t108 & 7.3 & 2.9 & 6.3 & 1.8 & virginica\\\\\n\t109 & 6.7 & 2.5 & 5.8 & 1.8 & virginica\\\\\n\t110 & 7.2 & 3.6 & 6.1 & 2.5 & virginica\\\\\n\t111 & 6.5 & 3.2 & 5.1 & 2.0 & virginica\\\\\n\t112 & 6.4 & 2.7 & 5.3 & 1.9 & virginica\\\\\n\t113 & 6.8 & 3.0 & 5.5 & 2.1 & virginica\\\\\n\t114 & 5.7 & 2.5 & 5.0 & 2.0 & virginica\\\\\n\t115 & 5.8 & 2.8 & 5.1 & 2.4 & virginica\\\\\n\t116 & 6.4 & 3.2 & 5.3 & 2.3 & virginica\\\\\n\t117 & 6.5 & 3.0 & 5.5 & 1.8 & virginica\\\\\n\t118 & 7.7 & 3.8 & 6.7 & 2.2 & virginica\\\\\n\t119 & 7.7 & 2.6 & 6.9 & 2.3 & virginica\\\\\n\t120 & 6.0 & 2.2 & 5.0 & 1.5 & virginica\\\\\n\t121 & 6.9 & 3.2 & 5.7 & 2.3 & virginica\\\\\n\t122 & 5.6 & 2.8 & 4.9 & 2.0 & virginica\\\\\n\t123 & 7.7 & 2.8 & 6.7 & 2.0 & virginica\\\\\n\t124 & 6.3 & 2.7 & 4.9 & 1.8 & virginica\\\\\n\t125 & 6.7 & 3.3 & 5.7 & 2.1 & virginica\\\\\n\t126 & 7.2 & 3.2 & 6.0 & 1.8 & virginica\\\\\n\t127 & 6.2 & 2.8 & 4.8 & 1.8 & virginica\\\\\n\t128 & 6.1 & 3.0 & 4.9 & 1.8 & virginica\\\\\n\t129 & 6.4 & 2.8 & 5.6 & 2.1 & virginica\\\\\n\t130 & 7.2 & 3.0 & 5.8 & 1.6 & virginica\\\\\n\t131 & 7.4 & 2.8 & 6.1 & 1.9 & virginica\\\\\n\t132 & 7.9 & 3.8 & 6.4 & 2.0 & virginica\\\\\n\t133 & 6.4 & 2.8 & 5.6 & 2.2 & virginica\\\\\n\t134 & 6.3 & 2.8 & 5.1 & 1.5 & virginica\\\\\n\t135 & 6.1 & 2.6 & 5.6 & 1.4 & virginica\\\\\n\t136 & 7.7 & 3.0 & 6.1 & 2.3 & virginica\\\\\n\t137 & 6.3 & 3.4 & 5.6 & 2.4 & virginica\\\\\n\t138 & 6.4 & 3.1 & 5.5 & 1.8 & virginica\\\\\n\t139 & 6.0 & 3.0 & 4.8 & 1.8 & virginica\\\\\n\t140 & 6.9 & 3.1 & 5.4 & 2.1 & virginica\\\\\n\t141 & 6.7 & 3.1 & 5.6 & 2.4 & virginica\\\\\n\t142 & 6.9 & 3.1 & 5.1 & 2.3 & virginica\\\\\n\t143 & 5.8 & 2.7 & 5.1 & 1.9 & virginica\\\\\n\t144 & 6.8 & 3.2 & 5.9 & 2.3 & virginica\\\\\n\t145 & 6.7 & 3.3 & 5.7 & 2.5 & virginica\\\\\n\t146 & 6.7 & 3.0 & 5.2 & 2.3 & virginica\\\\\n\t147 & 6.3 & 2.5 & 5.0 & 1.9 & virginica\\\\\n\t148 & 6.5 & 3.0 & 5.2 & 2.0 & virginica\\\\\n\t149 & 6.2 & 3.4 & 5.4 & 2.3 & virginica\\\\\n\t150 & 5.9 & 3.0 & 5.1 & 1.8 & virginica\\\\\n\\end{tabular}\n\n\\end{description}\n",
            "text/markdown": "$setosa\n:   \nA data.frame: 50 × 5\n\n| <!--/--> | Sepal.Length &lt;dbl&gt; | Sepal.Width &lt;dbl&gt; | Petal.Length &lt;dbl&gt; | Petal.Width &lt;dbl&gt; | Species &lt;fct&gt; |\n|---|---|---|---|---|---|\n| 1 | 5.1 | 3.5 | 1.4 | 0.2 | setosa |\n| 2 | 4.9 | 3.0 | 1.4 | 0.2 | setosa |\n| 3 | 4.7 | 3.2 | 1.3 | 0.2 | setosa |\n| 4 | 4.6 | 3.1 | 1.5 | 0.2 | setosa |\n| 5 | 5.0 | 3.6 | 1.4 | 0.2 | setosa |\n| 6 | 5.4 | 3.9 | 1.7 | 0.4 | setosa |\n| 7 | 4.6 | 3.4 | 1.4 | 0.3 | setosa |\n| 8 | 5.0 | 3.4 | 1.5 | 0.2 | setosa |\n| 9 | 4.4 | 2.9 | 1.4 | 0.2 | setosa |\n| 10 | 4.9 | 3.1 | 1.5 | 0.1 | setosa |\n| 11 | 5.4 | 3.7 | 1.5 | 0.2 | setosa |\n| 12 | 4.8 | 3.4 | 1.6 | 0.2 | setosa |\n| 13 | 4.8 | 3.0 | 1.4 | 0.1 | setosa |\n| 14 | 4.3 | 3.0 | 1.1 | 0.1 | setosa |\n| 15 | 5.8 | 4.0 | 1.2 | 0.2 | setosa |\n| 16 | 5.7 | 4.4 | 1.5 | 0.4 | setosa |\n| 17 | 5.4 | 3.9 | 1.3 | 0.4 | setosa |\n| 18 | 5.1 | 3.5 | 1.4 | 0.3 | setosa |\n| 19 | 5.7 | 3.8 | 1.7 | 0.3 | setosa |\n| 20 | 5.1 | 3.8 | 1.5 | 0.3 | setosa |\n| 21 | 5.4 | 3.4 | 1.7 | 0.2 | setosa |\n| 22 | 5.1 | 3.7 | 1.5 | 0.4 | setosa |\n| 23 | 4.6 | 3.6 | 1.0 | 0.2 | setosa |\n| 24 | 5.1 | 3.3 | 1.7 | 0.5 | setosa |\n| 25 | 4.8 | 3.4 | 1.9 | 0.2 | setosa |\n| 26 | 5.0 | 3.0 | 1.6 | 0.2 | setosa |\n| 27 | 5.0 | 3.4 | 1.6 | 0.4 | setosa |\n| 28 | 5.2 | 3.5 | 1.5 | 0.2 | setosa |\n| 29 | 5.2 | 3.4 | 1.4 | 0.2 | setosa |\n| 30 | 4.7 | 3.2 | 1.6 | 0.2 | setosa |\n| 31 | 4.8 | 3.1 | 1.6 | 0.2 | setosa |\n| 32 | 5.4 | 3.4 | 1.5 | 0.4 | setosa |\n| 33 | 5.2 | 4.1 | 1.5 | 0.1 | setosa |\n| 34 | 5.5 | 4.2 | 1.4 | 0.2 | setosa |\n| 35 | 4.9 | 3.1 | 1.5 | 0.2 | setosa |\n| 36 | 5.0 | 3.2 | 1.2 | 0.2 | setosa |\n| 37 | 5.5 | 3.5 | 1.3 | 0.2 | setosa |\n| 38 | 4.9 | 3.6 | 1.4 | 0.1 | setosa |\n| 39 | 4.4 | 3.0 | 1.3 | 0.2 | setosa |\n| 40 | 5.1 | 3.4 | 1.5 | 0.2 | setosa |\n| 41 | 5.0 | 3.5 | 1.3 | 0.3 | setosa |\n| 42 | 4.5 | 2.3 | 1.3 | 0.3 | setosa |\n| 43 | 4.4 | 3.2 | 1.3 | 0.2 | setosa |\n| 44 | 5.0 | 3.5 | 1.6 | 0.6 | setosa |\n| 45 | 5.1 | 3.8 | 1.9 | 0.4 | setosa |\n| 46 | 4.8 | 3.0 | 1.4 | 0.3 | setosa |\n| 47 | 5.1 | 3.8 | 1.6 | 0.2 | setosa |\n| 48 | 4.6 | 3.2 | 1.4 | 0.2 | setosa |\n| 49 | 5.3 | 3.7 | 1.5 | 0.2 | setosa |\n| 50 | 5.0 | 3.3 | 1.4 | 0.2 | setosa |\n\n\n$versicolor\n:   \nA data.frame: 50 × 5\n\n| <!--/--> | Sepal.Length &lt;dbl&gt; | Sepal.Width &lt;dbl&gt; | Petal.Length &lt;dbl&gt; | Petal.Width &lt;dbl&gt; | Species &lt;fct&gt; |\n|---|---|---|---|---|---|\n| 51 | 7.0 | 3.2 | 4.7 | 1.4 | versicolor |\n| 52 | 6.4 | 3.2 | 4.5 | 1.5 | versicolor |\n| 53 | 6.9 | 3.1 | 4.9 | 1.5 | versicolor |\n| 54 | 5.5 | 2.3 | 4.0 | 1.3 | versicolor |\n| 55 | 6.5 | 2.8 | 4.6 | 1.5 | versicolor |\n| 56 | 5.7 | 2.8 | 4.5 | 1.3 | versicolor |\n| 57 | 6.3 | 3.3 | 4.7 | 1.6 | versicolor |\n| 58 | 4.9 | 2.4 | 3.3 | 1.0 | versicolor |\n| 59 | 6.6 | 2.9 | 4.6 | 1.3 | versicolor |\n| 60 | 5.2 | 2.7 | 3.9 | 1.4 | versicolor |\n| 61 | 5.0 | 2.0 | 3.5 | 1.0 | versicolor |\n| 62 | 5.9 | 3.0 | 4.2 | 1.5 | versicolor |\n| 63 | 6.0 | 2.2 | 4.0 | 1.0 | versicolor |\n| 64 | 6.1 | 2.9 | 4.7 | 1.4 | versicolor |\n| 65 | 5.6 | 2.9 | 3.6 | 1.3 | versicolor |\n| 66 | 6.7 | 3.1 | 4.4 | 1.4 | versicolor |\n| 67 | 5.6 | 3.0 | 4.5 | 1.5 | versicolor |\n| 68 | 5.8 | 2.7 | 4.1 | 1.0 | versicolor |\n| 69 | 6.2 | 2.2 | 4.5 | 1.5 | versicolor |\n| 70 | 5.6 | 2.5 | 3.9 | 1.1 | versicolor |\n| 71 | 5.9 | 3.2 | 4.8 | 1.8 | versicolor |\n| 72 | 6.1 | 2.8 | 4.0 | 1.3 | versicolor |\n| 73 | 6.3 | 2.5 | 4.9 | 1.5 | versicolor |\n| 74 | 6.1 | 2.8 | 4.7 | 1.2 | versicolor |\n| 75 | 6.4 | 2.9 | 4.3 | 1.3 | versicolor |\n| 76 | 6.6 | 3.0 | 4.4 | 1.4 | versicolor |\n| 77 | 6.8 | 2.8 | 4.8 | 1.4 | versicolor |\n| 78 | 6.7 | 3.0 | 5.0 | 1.7 | versicolor |\n| 79 | 6.0 | 2.9 | 4.5 | 1.5 | versicolor |\n| 80 | 5.7 | 2.6 | 3.5 | 1.0 | versicolor |\n| 81 | 5.5 | 2.4 | 3.8 | 1.1 | versicolor |\n| 82 | 5.5 | 2.4 | 3.7 | 1.0 | versicolor |\n| 83 | 5.8 | 2.7 | 3.9 | 1.2 | versicolor |\n| 84 | 6.0 | 2.7 | 5.1 | 1.6 | versicolor |\n| 85 | 5.4 | 3.0 | 4.5 | 1.5 | versicolor |\n| 86 | 6.0 | 3.4 | 4.5 | 1.6 | versicolor |\n| 87 | 6.7 | 3.1 | 4.7 | 1.5 | versicolor |\n| 88 | 6.3 | 2.3 | 4.4 | 1.3 | versicolor |\n| 89 | 5.6 | 3.0 | 4.1 | 1.3 | versicolor |\n| 90 | 5.5 | 2.5 | 4.0 | 1.3 | versicolor |\n| 91 | 5.5 | 2.6 | 4.4 | 1.2 | versicolor |\n| 92 | 6.1 | 3.0 | 4.6 | 1.4 | versicolor |\n| 93 | 5.8 | 2.6 | 4.0 | 1.2 | versicolor |\n| 94 | 5.0 | 2.3 | 3.3 | 1.0 | versicolor |\n| 95 | 5.6 | 2.7 | 4.2 | 1.3 | versicolor |\n| 96 | 5.7 | 3.0 | 4.2 | 1.2 | versicolor |\n| 97 | 5.7 | 2.9 | 4.2 | 1.3 | versicolor |\n| 98 | 6.2 | 2.9 | 4.3 | 1.3 | versicolor |\n| 99 | 5.1 | 2.5 | 3.0 | 1.1 | versicolor |\n| 100 | 5.7 | 2.8 | 4.1 | 1.3 | versicolor |\n\n\n$virginica\n:   \nA data.frame: 50 × 5\n\n| <!--/--> | Sepal.Length &lt;dbl&gt; | Sepal.Width &lt;dbl&gt; | Petal.Length &lt;dbl&gt; | Petal.Width &lt;dbl&gt; | Species &lt;fct&gt; |\n|---|---|---|---|---|---|\n| 101 | 6.3 | 3.3 | 6.0 | 2.5 | virginica |\n| 102 | 5.8 | 2.7 | 5.1 | 1.9 | virginica |\n| 103 | 7.1 | 3.0 | 5.9 | 2.1 | virginica |\n| 104 | 6.3 | 2.9 | 5.6 | 1.8 | virginica |\n| 105 | 6.5 | 3.0 | 5.8 | 2.2 | virginica |\n| 106 | 7.6 | 3.0 | 6.6 | 2.1 | virginica |\n| 107 | 4.9 | 2.5 | 4.5 | 1.7 | virginica |\n| 108 | 7.3 | 2.9 | 6.3 | 1.8 | virginica |\n| 109 | 6.7 | 2.5 | 5.8 | 1.8 | virginica |\n| 110 | 7.2 | 3.6 | 6.1 | 2.5 | virginica |\n| 111 | 6.5 | 3.2 | 5.1 | 2.0 | virginica |\n| 112 | 6.4 | 2.7 | 5.3 | 1.9 | virginica |\n| 113 | 6.8 | 3.0 | 5.5 | 2.1 | virginica |\n| 114 | 5.7 | 2.5 | 5.0 | 2.0 | virginica |\n| 115 | 5.8 | 2.8 | 5.1 | 2.4 | virginica |\n| 116 | 6.4 | 3.2 | 5.3 | 2.3 | virginica |\n| 117 | 6.5 | 3.0 | 5.5 | 1.8 | virginica |\n| 118 | 7.7 | 3.8 | 6.7 | 2.2 | virginica |\n| 119 | 7.7 | 2.6 | 6.9 | 2.3 | virginica |\n| 120 | 6.0 | 2.2 | 5.0 | 1.5 | virginica |\n| 121 | 6.9 | 3.2 | 5.7 | 2.3 | virginica |\n| 122 | 5.6 | 2.8 | 4.9 | 2.0 | virginica |\n| 123 | 7.7 | 2.8 | 6.7 | 2.0 | virginica |\n| 124 | 6.3 | 2.7 | 4.9 | 1.8 | virginica |\n| 125 | 6.7 | 3.3 | 5.7 | 2.1 | virginica |\n| 126 | 7.2 | 3.2 | 6.0 | 1.8 | virginica |\n| 127 | 6.2 | 2.8 | 4.8 | 1.8 | virginica |\n| 128 | 6.1 | 3.0 | 4.9 | 1.8 | virginica |\n| 129 | 6.4 | 2.8 | 5.6 | 2.1 | virginica |\n| 130 | 7.2 | 3.0 | 5.8 | 1.6 | virginica |\n| 131 | 7.4 | 2.8 | 6.1 | 1.9 | virginica |\n| 132 | 7.9 | 3.8 | 6.4 | 2.0 | virginica |\n| 133 | 6.4 | 2.8 | 5.6 | 2.2 | virginica |\n| 134 | 6.3 | 2.8 | 5.1 | 1.5 | virginica |\n| 135 | 6.1 | 2.6 | 5.6 | 1.4 | virginica |\n| 136 | 7.7 | 3.0 | 6.1 | 2.3 | virginica |\n| 137 | 6.3 | 3.4 | 5.6 | 2.4 | virginica |\n| 138 | 6.4 | 3.1 | 5.5 | 1.8 | virginica |\n| 139 | 6.0 | 3.0 | 4.8 | 1.8 | virginica |\n| 140 | 6.9 | 3.1 | 5.4 | 2.1 | virginica |\n| 141 | 6.7 | 3.1 | 5.6 | 2.4 | virginica |\n| 142 | 6.9 | 3.1 | 5.1 | 2.3 | virginica |\n| 143 | 5.8 | 2.7 | 5.1 | 1.9 | virginica |\n| 144 | 6.8 | 3.2 | 5.9 | 2.3 | virginica |\n| 145 | 6.7 | 3.3 | 5.7 | 2.5 | virginica |\n| 146 | 6.7 | 3.0 | 5.2 | 2.3 | virginica |\n| 147 | 6.3 | 2.5 | 5.0 | 1.9 | virginica |\n| 148 | 6.5 | 3.0 | 5.2 | 2.0 | virginica |\n| 149 | 6.2 | 3.4 | 5.4 | 2.3 | virginica |\n| 150 | 5.9 | 3.0 | 5.1 | 1.8 | virginica |\n\n\n\n\n",
            "text/html": [
              "<dl>\n",
              "\t<dt>$setosa</dt>\n",
              "\t\t<dd><table class=\"dataframe\">\n",
              "<caption>A data.frame: 50 × 5</caption>\n",
              "<thead>\n",
              "\t<tr><th></th><th scope=col>Sepal.Length</th><th scope=col>Sepal.Width</th><th scope=col>Petal.Length</th><th scope=col>Petal.Width</th><th scope=col>Species</th></tr>\n",
              "\t<tr><th></th><th scope=col>&lt;dbl&gt;</th><th scope=col>&lt;dbl&gt;</th><th scope=col>&lt;dbl&gt;</th><th scope=col>&lt;dbl&gt;</th><th scope=col>&lt;fct&gt;</th></tr>\n",
              "</thead>\n",
              "<tbody>\n",
              "\t<tr><th scope=row>1</th><td>5.1</td><td>3.5</td><td>1.4</td><td>0.2</td><td>setosa</td></tr>\n",
              "\t<tr><th scope=row>2</th><td>4.9</td><td>3.0</td><td>1.4</td><td>0.2</td><td>setosa</td></tr>\n",
              "\t<tr><th scope=row>3</th><td>4.7</td><td>3.2</td><td>1.3</td><td>0.2</td><td>setosa</td></tr>\n",
              "\t<tr><th scope=row>4</th><td>4.6</td><td>3.1</td><td>1.5</td><td>0.2</td><td>setosa</td></tr>\n",
              "\t<tr><th scope=row>5</th><td>5.0</td><td>3.6</td><td>1.4</td><td>0.2</td><td>setosa</td></tr>\n",
              "\t<tr><th scope=row>6</th><td>5.4</td><td>3.9</td><td>1.7</td><td>0.4</td><td>setosa</td></tr>\n",
              "\t<tr><th scope=row>7</th><td>4.6</td><td>3.4</td><td>1.4</td><td>0.3</td><td>setosa</td></tr>\n",
              "\t<tr><th scope=row>8</th><td>5.0</td><td>3.4</td><td>1.5</td><td>0.2</td><td>setosa</td></tr>\n",
              "\t<tr><th scope=row>9</th><td>4.4</td><td>2.9</td><td>1.4</td><td>0.2</td><td>setosa</td></tr>\n",
              "\t<tr><th scope=row>10</th><td>4.9</td><td>3.1</td><td>1.5</td><td>0.1</td><td>setosa</td></tr>\n",
              "\t<tr><th scope=row>11</th><td>5.4</td><td>3.7</td><td>1.5</td><td>0.2</td><td>setosa</td></tr>\n",
              "\t<tr><th scope=row>12</th><td>4.8</td><td>3.4</td><td>1.6</td><td>0.2</td><td>setosa</td></tr>\n",
              "\t<tr><th scope=row>13</th><td>4.8</td><td>3.0</td><td>1.4</td><td>0.1</td><td>setosa</td></tr>\n",
              "\t<tr><th scope=row>14</th><td>4.3</td><td>3.0</td><td>1.1</td><td>0.1</td><td>setosa</td></tr>\n",
              "\t<tr><th scope=row>15</th><td>5.8</td><td>4.0</td><td>1.2</td><td>0.2</td><td>setosa</td></tr>\n",
              "\t<tr><th scope=row>16</th><td>5.7</td><td>4.4</td><td>1.5</td><td>0.4</td><td>setosa</td></tr>\n",
              "\t<tr><th scope=row>17</th><td>5.4</td><td>3.9</td><td>1.3</td><td>0.4</td><td>setosa</td></tr>\n",
              "\t<tr><th scope=row>18</th><td>5.1</td><td>3.5</td><td>1.4</td><td>0.3</td><td>setosa</td></tr>\n",
              "\t<tr><th scope=row>19</th><td>5.7</td><td>3.8</td><td>1.7</td><td>0.3</td><td>setosa</td></tr>\n",
              "\t<tr><th scope=row>20</th><td>5.1</td><td>3.8</td><td>1.5</td><td>0.3</td><td>setosa</td></tr>\n",
              "\t<tr><th scope=row>21</th><td>5.4</td><td>3.4</td><td>1.7</td><td>0.2</td><td>setosa</td></tr>\n",
              "\t<tr><th scope=row>22</th><td>5.1</td><td>3.7</td><td>1.5</td><td>0.4</td><td>setosa</td></tr>\n",
              "\t<tr><th scope=row>23</th><td>4.6</td><td>3.6</td><td>1.0</td><td>0.2</td><td>setosa</td></tr>\n",
              "\t<tr><th scope=row>24</th><td>5.1</td><td>3.3</td><td>1.7</td><td>0.5</td><td>setosa</td></tr>\n",
              "\t<tr><th scope=row>25</th><td>4.8</td><td>3.4</td><td>1.9</td><td>0.2</td><td>setosa</td></tr>\n",
              "\t<tr><th scope=row>26</th><td>5.0</td><td>3.0</td><td>1.6</td><td>0.2</td><td>setosa</td></tr>\n",
              "\t<tr><th scope=row>27</th><td>5.0</td><td>3.4</td><td>1.6</td><td>0.4</td><td>setosa</td></tr>\n",
              "\t<tr><th scope=row>28</th><td>5.2</td><td>3.5</td><td>1.5</td><td>0.2</td><td>setosa</td></tr>\n",
              "\t<tr><th scope=row>29</th><td>5.2</td><td>3.4</td><td>1.4</td><td>0.2</td><td>setosa</td></tr>\n",
              "\t<tr><th scope=row>30</th><td>4.7</td><td>3.2</td><td>1.6</td><td>0.2</td><td>setosa</td></tr>\n",
              "\t<tr><th scope=row>31</th><td>4.8</td><td>3.1</td><td>1.6</td><td>0.2</td><td>setosa</td></tr>\n",
              "\t<tr><th scope=row>32</th><td>5.4</td><td>3.4</td><td>1.5</td><td>0.4</td><td>setosa</td></tr>\n",
              "\t<tr><th scope=row>33</th><td>5.2</td><td>4.1</td><td>1.5</td><td>0.1</td><td>setosa</td></tr>\n",
              "\t<tr><th scope=row>34</th><td>5.5</td><td>4.2</td><td>1.4</td><td>0.2</td><td>setosa</td></tr>\n",
              "\t<tr><th scope=row>35</th><td>4.9</td><td>3.1</td><td>1.5</td><td>0.2</td><td>setosa</td></tr>\n",
              "\t<tr><th scope=row>36</th><td>5.0</td><td>3.2</td><td>1.2</td><td>0.2</td><td>setosa</td></tr>\n",
              "\t<tr><th scope=row>37</th><td>5.5</td><td>3.5</td><td>1.3</td><td>0.2</td><td>setosa</td></tr>\n",
              "\t<tr><th scope=row>38</th><td>4.9</td><td>3.6</td><td>1.4</td><td>0.1</td><td>setosa</td></tr>\n",
              "\t<tr><th scope=row>39</th><td>4.4</td><td>3.0</td><td>1.3</td><td>0.2</td><td>setosa</td></tr>\n",
              "\t<tr><th scope=row>40</th><td>5.1</td><td>3.4</td><td>1.5</td><td>0.2</td><td>setosa</td></tr>\n",
              "\t<tr><th scope=row>41</th><td>5.0</td><td>3.5</td><td>1.3</td><td>0.3</td><td>setosa</td></tr>\n",
              "\t<tr><th scope=row>42</th><td>4.5</td><td>2.3</td><td>1.3</td><td>0.3</td><td>setosa</td></tr>\n",
              "\t<tr><th scope=row>43</th><td>4.4</td><td>3.2</td><td>1.3</td><td>0.2</td><td>setosa</td></tr>\n",
              "\t<tr><th scope=row>44</th><td>5.0</td><td>3.5</td><td>1.6</td><td>0.6</td><td>setosa</td></tr>\n",
              "\t<tr><th scope=row>45</th><td>5.1</td><td>3.8</td><td>1.9</td><td>0.4</td><td>setosa</td></tr>\n",
              "\t<tr><th scope=row>46</th><td>4.8</td><td>3.0</td><td>1.4</td><td>0.3</td><td>setosa</td></tr>\n",
              "\t<tr><th scope=row>47</th><td>5.1</td><td>3.8</td><td>1.6</td><td>0.2</td><td>setosa</td></tr>\n",
              "\t<tr><th scope=row>48</th><td>4.6</td><td>3.2</td><td>1.4</td><td>0.2</td><td>setosa</td></tr>\n",
              "\t<tr><th scope=row>49</th><td>5.3</td><td>3.7</td><td>1.5</td><td>0.2</td><td>setosa</td></tr>\n",
              "\t<tr><th scope=row>50</th><td>5.0</td><td>3.3</td><td>1.4</td><td>0.2</td><td>setosa</td></tr>\n",
              "</tbody>\n",
              "</table>\n",
              "</dd>\n",
              "\t<dt>$versicolor</dt>\n",
              "\t\t<dd><table class=\"dataframe\">\n",
              "<caption>A data.frame: 50 × 5</caption>\n",
              "<thead>\n",
              "\t<tr><th></th><th scope=col>Sepal.Length</th><th scope=col>Sepal.Width</th><th scope=col>Petal.Length</th><th scope=col>Petal.Width</th><th scope=col>Species</th></tr>\n",
              "\t<tr><th></th><th scope=col>&lt;dbl&gt;</th><th scope=col>&lt;dbl&gt;</th><th scope=col>&lt;dbl&gt;</th><th scope=col>&lt;dbl&gt;</th><th scope=col>&lt;fct&gt;</th></tr>\n",
              "</thead>\n",
              "<tbody>\n",
              "\t<tr><th scope=row>51</th><td>7.0</td><td>3.2</td><td>4.7</td><td>1.4</td><td>versicolor</td></tr>\n",
              "\t<tr><th scope=row>52</th><td>6.4</td><td>3.2</td><td>4.5</td><td>1.5</td><td>versicolor</td></tr>\n",
              "\t<tr><th scope=row>53</th><td>6.9</td><td>3.1</td><td>4.9</td><td>1.5</td><td>versicolor</td></tr>\n",
              "\t<tr><th scope=row>54</th><td>5.5</td><td>2.3</td><td>4.0</td><td>1.3</td><td>versicolor</td></tr>\n",
              "\t<tr><th scope=row>55</th><td>6.5</td><td>2.8</td><td>4.6</td><td>1.5</td><td>versicolor</td></tr>\n",
              "\t<tr><th scope=row>56</th><td>5.7</td><td>2.8</td><td>4.5</td><td>1.3</td><td>versicolor</td></tr>\n",
              "\t<tr><th scope=row>57</th><td>6.3</td><td>3.3</td><td>4.7</td><td>1.6</td><td>versicolor</td></tr>\n",
              "\t<tr><th scope=row>58</th><td>4.9</td><td>2.4</td><td>3.3</td><td>1.0</td><td>versicolor</td></tr>\n",
              "\t<tr><th scope=row>59</th><td>6.6</td><td>2.9</td><td>4.6</td><td>1.3</td><td>versicolor</td></tr>\n",
              "\t<tr><th scope=row>60</th><td>5.2</td><td>2.7</td><td>3.9</td><td>1.4</td><td>versicolor</td></tr>\n",
              "\t<tr><th scope=row>61</th><td>5.0</td><td>2.0</td><td>3.5</td><td>1.0</td><td>versicolor</td></tr>\n",
              "\t<tr><th scope=row>62</th><td>5.9</td><td>3.0</td><td>4.2</td><td>1.5</td><td>versicolor</td></tr>\n",
              "\t<tr><th scope=row>63</th><td>6.0</td><td>2.2</td><td>4.0</td><td>1.0</td><td>versicolor</td></tr>\n",
              "\t<tr><th scope=row>64</th><td>6.1</td><td>2.9</td><td>4.7</td><td>1.4</td><td>versicolor</td></tr>\n",
              "\t<tr><th scope=row>65</th><td>5.6</td><td>2.9</td><td>3.6</td><td>1.3</td><td>versicolor</td></tr>\n",
              "\t<tr><th scope=row>66</th><td>6.7</td><td>3.1</td><td>4.4</td><td>1.4</td><td>versicolor</td></tr>\n",
              "\t<tr><th scope=row>67</th><td>5.6</td><td>3.0</td><td>4.5</td><td>1.5</td><td>versicolor</td></tr>\n",
              "\t<tr><th scope=row>68</th><td>5.8</td><td>2.7</td><td>4.1</td><td>1.0</td><td>versicolor</td></tr>\n",
              "\t<tr><th scope=row>69</th><td>6.2</td><td>2.2</td><td>4.5</td><td>1.5</td><td>versicolor</td></tr>\n",
              "\t<tr><th scope=row>70</th><td>5.6</td><td>2.5</td><td>3.9</td><td>1.1</td><td>versicolor</td></tr>\n",
              "\t<tr><th scope=row>71</th><td>5.9</td><td>3.2</td><td>4.8</td><td>1.8</td><td>versicolor</td></tr>\n",
              "\t<tr><th scope=row>72</th><td>6.1</td><td>2.8</td><td>4.0</td><td>1.3</td><td>versicolor</td></tr>\n",
              "\t<tr><th scope=row>73</th><td>6.3</td><td>2.5</td><td>4.9</td><td>1.5</td><td>versicolor</td></tr>\n",
              "\t<tr><th scope=row>74</th><td>6.1</td><td>2.8</td><td>4.7</td><td>1.2</td><td>versicolor</td></tr>\n",
              "\t<tr><th scope=row>75</th><td>6.4</td><td>2.9</td><td>4.3</td><td>1.3</td><td>versicolor</td></tr>\n",
              "\t<tr><th scope=row>76</th><td>6.6</td><td>3.0</td><td>4.4</td><td>1.4</td><td>versicolor</td></tr>\n",
              "\t<tr><th scope=row>77</th><td>6.8</td><td>2.8</td><td>4.8</td><td>1.4</td><td>versicolor</td></tr>\n",
              "\t<tr><th scope=row>78</th><td>6.7</td><td>3.0</td><td>5.0</td><td>1.7</td><td>versicolor</td></tr>\n",
              "\t<tr><th scope=row>79</th><td>6.0</td><td>2.9</td><td>4.5</td><td>1.5</td><td>versicolor</td></tr>\n",
              "\t<tr><th scope=row>80</th><td>5.7</td><td>2.6</td><td>3.5</td><td>1.0</td><td>versicolor</td></tr>\n",
              "\t<tr><th scope=row>81</th><td>5.5</td><td>2.4</td><td>3.8</td><td>1.1</td><td>versicolor</td></tr>\n",
              "\t<tr><th scope=row>82</th><td>5.5</td><td>2.4</td><td>3.7</td><td>1.0</td><td>versicolor</td></tr>\n",
              "\t<tr><th scope=row>83</th><td>5.8</td><td>2.7</td><td>3.9</td><td>1.2</td><td>versicolor</td></tr>\n",
              "\t<tr><th scope=row>84</th><td>6.0</td><td>2.7</td><td>5.1</td><td>1.6</td><td>versicolor</td></tr>\n",
              "\t<tr><th scope=row>85</th><td>5.4</td><td>3.0</td><td>4.5</td><td>1.5</td><td>versicolor</td></tr>\n",
              "\t<tr><th scope=row>86</th><td>6.0</td><td>3.4</td><td>4.5</td><td>1.6</td><td>versicolor</td></tr>\n",
              "\t<tr><th scope=row>87</th><td>6.7</td><td>3.1</td><td>4.7</td><td>1.5</td><td>versicolor</td></tr>\n",
              "\t<tr><th scope=row>88</th><td>6.3</td><td>2.3</td><td>4.4</td><td>1.3</td><td>versicolor</td></tr>\n",
              "\t<tr><th scope=row>89</th><td>5.6</td><td>3.0</td><td>4.1</td><td>1.3</td><td>versicolor</td></tr>\n",
              "\t<tr><th scope=row>90</th><td>5.5</td><td>2.5</td><td>4.0</td><td>1.3</td><td>versicolor</td></tr>\n",
              "\t<tr><th scope=row>91</th><td>5.5</td><td>2.6</td><td>4.4</td><td>1.2</td><td>versicolor</td></tr>\n",
              "\t<tr><th scope=row>92</th><td>6.1</td><td>3.0</td><td>4.6</td><td>1.4</td><td>versicolor</td></tr>\n",
              "\t<tr><th scope=row>93</th><td>5.8</td><td>2.6</td><td>4.0</td><td>1.2</td><td>versicolor</td></tr>\n",
              "\t<tr><th scope=row>94</th><td>5.0</td><td>2.3</td><td>3.3</td><td>1.0</td><td>versicolor</td></tr>\n",
              "\t<tr><th scope=row>95</th><td>5.6</td><td>2.7</td><td>4.2</td><td>1.3</td><td>versicolor</td></tr>\n",
              "\t<tr><th scope=row>96</th><td>5.7</td><td>3.0</td><td>4.2</td><td>1.2</td><td>versicolor</td></tr>\n",
              "\t<tr><th scope=row>97</th><td>5.7</td><td>2.9</td><td>4.2</td><td>1.3</td><td>versicolor</td></tr>\n",
              "\t<tr><th scope=row>98</th><td>6.2</td><td>2.9</td><td>4.3</td><td>1.3</td><td>versicolor</td></tr>\n",
              "\t<tr><th scope=row>99</th><td>5.1</td><td>2.5</td><td>3.0</td><td>1.1</td><td>versicolor</td></tr>\n",
              "\t<tr><th scope=row>100</th><td>5.7</td><td>2.8</td><td>4.1</td><td>1.3</td><td>versicolor</td></tr>\n",
              "</tbody>\n",
              "</table>\n",
              "</dd>\n",
              "\t<dt>$virginica</dt>\n",
              "\t\t<dd><table class=\"dataframe\">\n",
              "<caption>A data.frame: 50 × 5</caption>\n",
              "<thead>\n",
              "\t<tr><th></th><th scope=col>Sepal.Length</th><th scope=col>Sepal.Width</th><th scope=col>Petal.Length</th><th scope=col>Petal.Width</th><th scope=col>Species</th></tr>\n",
              "\t<tr><th></th><th scope=col>&lt;dbl&gt;</th><th scope=col>&lt;dbl&gt;</th><th scope=col>&lt;dbl&gt;</th><th scope=col>&lt;dbl&gt;</th><th scope=col>&lt;fct&gt;</th></tr>\n",
              "</thead>\n",
              "<tbody>\n",
              "\t<tr><th scope=row>101</th><td>6.3</td><td>3.3</td><td>6.0</td><td>2.5</td><td>virginica</td></tr>\n",
              "\t<tr><th scope=row>102</th><td>5.8</td><td>2.7</td><td>5.1</td><td>1.9</td><td>virginica</td></tr>\n",
              "\t<tr><th scope=row>103</th><td>7.1</td><td>3.0</td><td>5.9</td><td>2.1</td><td>virginica</td></tr>\n",
              "\t<tr><th scope=row>104</th><td>6.3</td><td>2.9</td><td>5.6</td><td>1.8</td><td>virginica</td></tr>\n",
              "\t<tr><th scope=row>105</th><td>6.5</td><td>3.0</td><td>5.8</td><td>2.2</td><td>virginica</td></tr>\n",
              "\t<tr><th scope=row>106</th><td>7.6</td><td>3.0</td><td>6.6</td><td>2.1</td><td>virginica</td></tr>\n",
              "\t<tr><th scope=row>107</th><td>4.9</td><td>2.5</td><td>4.5</td><td>1.7</td><td>virginica</td></tr>\n",
              "\t<tr><th scope=row>108</th><td>7.3</td><td>2.9</td><td>6.3</td><td>1.8</td><td>virginica</td></tr>\n",
              "\t<tr><th scope=row>109</th><td>6.7</td><td>2.5</td><td>5.8</td><td>1.8</td><td>virginica</td></tr>\n",
              "\t<tr><th scope=row>110</th><td>7.2</td><td>3.6</td><td>6.1</td><td>2.5</td><td>virginica</td></tr>\n",
              "\t<tr><th scope=row>111</th><td>6.5</td><td>3.2</td><td>5.1</td><td>2.0</td><td>virginica</td></tr>\n",
              "\t<tr><th scope=row>112</th><td>6.4</td><td>2.7</td><td>5.3</td><td>1.9</td><td>virginica</td></tr>\n",
              "\t<tr><th scope=row>113</th><td>6.8</td><td>3.0</td><td>5.5</td><td>2.1</td><td>virginica</td></tr>\n",
              "\t<tr><th scope=row>114</th><td>5.7</td><td>2.5</td><td>5.0</td><td>2.0</td><td>virginica</td></tr>\n",
              "\t<tr><th scope=row>115</th><td>5.8</td><td>2.8</td><td>5.1</td><td>2.4</td><td>virginica</td></tr>\n",
              "\t<tr><th scope=row>116</th><td>6.4</td><td>3.2</td><td>5.3</td><td>2.3</td><td>virginica</td></tr>\n",
              "\t<tr><th scope=row>117</th><td>6.5</td><td>3.0</td><td>5.5</td><td>1.8</td><td>virginica</td></tr>\n",
              "\t<tr><th scope=row>118</th><td>7.7</td><td>3.8</td><td>6.7</td><td>2.2</td><td>virginica</td></tr>\n",
              "\t<tr><th scope=row>119</th><td>7.7</td><td>2.6</td><td>6.9</td><td>2.3</td><td>virginica</td></tr>\n",
              "\t<tr><th scope=row>120</th><td>6.0</td><td>2.2</td><td>5.0</td><td>1.5</td><td>virginica</td></tr>\n",
              "\t<tr><th scope=row>121</th><td>6.9</td><td>3.2</td><td>5.7</td><td>2.3</td><td>virginica</td></tr>\n",
              "\t<tr><th scope=row>122</th><td>5.6</td><td>2.8</td><td>4.9</td><td>2.0</td><td>virginica</td></tr>\n",
              "\t<tr><th scope=row>123</th><td>7.7</td><td>2.8</td><td>6.7</td><td>2.0</td><td>virginica</td></tr>\n",
              "\t<tr><th scope=row>124</th><td>6.3</td><td>2.7</td><td>4.9</td><td>1.8</td><td>virginica</td></tr>\n",
              "\t<tr><th scope=row>125</th><td>6.7</td><td>3.3</td><td>5.7</td><td>2.1</td><td>virginica</td></tr>\n",
              "\t<tr><th scope=row>126</th><td>7.2</td><td>3.2</td><td>6.0</td><td>1.8</td><td>virginica</td></tr>\n",
              "\t<tr><th scope=row>127</th><td>6.2</td><td>2.8</td><td>4.8</td><td>1.8</td><td>virginica</td></tr>\n",
              "\t<tr><th scope=row>128</th><td>6.1</td><td>3.0</td><td>4.9</td><td>1.8</td><td>virginica</td></tr>\n",
              "\t<tr><th scope=row>129</th><td>6.4</td><td>2.8</td><td>5.6</td><td>2.1</td><td>virginica</td></tr>\n",
              "\t<tr><th scope=row>130</th><td>7.2</td><td>3.0</td><td>5.8</td><td>1.6</td><td>virginica</td></tr>\n",
              "\t<tr><th scope=row>131</th><td>7.4</td><td>2.8</td><td>6.1</td><td>1.9</td><td>virginica</td></tr>\n",
              "\t<tr><th scope=row>132</th><td>7.9</td><td>3.8</td><td>6.4</td><td>2.0</td><td>virginica</td></tr>\n",
              "\t<tr><th scope=row>133</th><td>6.4</td><td>2.8</td><td>5.6</td><td>2.2</td><td>virginica</td></tr>\n",
              "\t<tr><th scope=row>134</th><td>6.3</td><td>2.8</td><td>5.1</td><td>1.5</td><td>virginica</td></tr>\n",
              "\t<tr><th scope=row>135</th><td>6.1</td><td>2.6</td><td>5.6</td><td>1.4</td><td>virginica</td></tr>\n",
              "\t<tr><th scope=row>136</th><td>7.7</td><td>3.0</td><td>6.1</td><td>2.3</td><td>virginica</td></tr>\n",
              "\t<tr><th scope=row>137</th><td>6.3</td><td>3.4</td><td>5.6</td><td>2.4</td><td>virginica</td></tr>\n",
              "\t<tr><th scope=row>138</th><td>6.4</td><td>3.1</td><td>5.5</td><td>1.8</td><td>virginica</td></tr>\n",
              "\t<tr><th scope=row>139</th><td>6.0</td><td>3.0</td><td>4.8</td><td>1.8</td><td>virginica</td></tr>\n",
              "\t<tr><th scope=row>140</th><td>6.9</td><td>3.1</td><td>5.4</td><td>2.1</td><td>virginica</td></tr>\n",
              "\t<tr><th scope=row>141</th><td>6.7</td><td>3.1</td><td>5.6</td><td>2.4</td><td>virginica</td></tr>\n",
              "\t<tr><th scope=row>142</th><td>6.9</td><td>3.1</td><td>5.1</td><td>2.3</td><td>virginica</td></tr>\n",
              "\t<tr><th scope=row>143</th><td>5.8</td><td>2.7</td><td>5.1</td><td>1.9</td><td>virginica</td></tr>\n",
              "\t<tr><th scope=row>144</th><td>6.8</td><td>3.2</td><td>5.9</td><td>2.3</td><td>virginica</td></tr>\n",
              "\t<tr><th scope=row>145</th><td>6.7</td><td>3.3</td><td>5.7</td><td>2.5</td><td>virginica</td></tr>\n",
              "\t<tr><th scope=row>146</th><td>6.7</td><td>3.0</td><td>5.2</td><td>2.3</td><td>virginica</td></tr>\n",
              "\t<tr><th scope=row>147</th><td>6.3</td><td>2.5</td><td>5.0</td><td>1.9</td><td>virginica</td></tr>\n",
              "\t<tr><th scope=row>148</th><td>6.5</td><td>3.0</td><td>5.2</td><td>2.0</td><td>virginica</td></tr>\n",
              "\t<tr><th scope=row>149</th><td>6.2</td><td>3.4</td><td>5.4</td><td>2.3</td><td>virginica</td></tr>\n",
              "\t<tr><th scope=row>150</th><td>5.9</td><td>3.0</td><td>5.1</td><td>1.8</td><td>virginica</td></tr>\n",
              "</tbody>\n",
              "</table>\n",
              "</dd>\n",
              "</dl>\n"
            ]
          },
          "metadata": {
            "tags": []
          }
        }
      ]
    },
    {
      "cell_type": "code",
      "metadata": {
        "colab": {
          "base_uri": "https://localhost:8080/",
          "height": 500
        },
        "id": "aZgJGyY6MsTH",
        "outputId": "fcd69d3b-5ddd-47ed-9266-e2d380b30e2a"
      },
      "source": [
        "subset(iris,Sepal.Length>=7)"
      ],
      "execution_count": 6,
      "outputs": [
        {
          "output_type": "display_data",
          "data": {
            "text/plain": [
              "    Sepal.Length Sepal.Width Petal.Length Petal.Width Species   \n",
              "51  7.0          3.2         4.7          1.4         versicolor\n",
              "103 7.1          3.0         5.9          2.1         virginica \n",
              "106 7.6          3.0         6.6          2.1         virginica \n",
              "108 7.3          2.9         6.3          1.8         virginica \n",
              "110 7.2          3.6         6.1          2.5         virginica \n",
              "118 7.7          3.8         6.7          2.2         virginica \n",
              "119 7.7          2.6         6.9          2.3         virginica \n",
              "123 7.7          2.8         6.7          2.0         virginica \n",
              "126 7.2          3.2         6.0          1.8         virginica \n",
              "130 7.2          3.0         5.8          1.6         virginica \n",
              "131 7.4          2.8         6.1          1.9         virginica \n",
              "132 7.9          3.8         6.4          2.0         virginica \n",
              "136 7.7          3.0         6.1          2.3         virginica "
            ],
            "text/latex": "A data.frame: 13 × 5\n\\begin{tabular}{r|lllll}\n  & Sepal.Length & Sepal.Width & Petal.Length & Petal.Width & Species\\\\\n  & <dbl> & <dbl> & <dbl> & <dbl> & <fct>\\\\\n\\hline\n\t51 & 7.0 & 3.2 & 4.7 & 1.4 & versicolor\\\\\n\t103 & 7.1 & 3.0 & 5.9 & 2.1 & virginica \\\\\n\t106 & 7.6 & 3.0 & 6.6 & 2.1 & virginica \\\\\n\t108 & 7.3 & 2.9 & 6.3 & 1.8 & virginica \\\\\n\t110 & 7.2 & 3.6 & 6.1 & 2.5 & virginica \\\\\n\t118 & 7.7 & 3.8 & 6.7 & 2.2 & virginica \\\\\n\t119 & 7.7 & 2.6 & 6.9 & 2.3 & virginica \\\\\n\t123 & 7.7 & 2.8 & 6.7 & 2.0 & virginica \\\\\n\t126 & 7.2 & 3.2 & 6.0 & 1.8 & virginica \\\\\n\t130 & 7.2 & 3.0 & 5.8 & 1.6 & virginica \\\\\n\t131 & 7.4 & 2.8 & 6.1 & 1.9 & virginica \\\\\n\t132 & 7.9 & 3.8 & 6.4 & 2.0 & virginica \\\\\n\t136 & 7.7 & 3.0 & 6.1 & 2.3 & virginica \\\\\n\\end{tabular}\n",
            "text/markdown": "\nA data.frame: 13 × 5\n\n| <!--/--> | Sepal.Length &lt;dbl&gt; | Sepal.Width &lt;dbl&gt; | Petal.Length &lt;dbl&gt; | Petal.Width &lt;dbl&gt; | Species &lt;fct&gt; |\n|---|---|---|---|---|---|\n| 51 | 7.0 | 3.2 | 4.7 | 1.4 | versicolor |\n| 103 | 7.1 | 3.0 | 5.9 | 2.1 | virginica  |\n| 106 | 7.6 | 3.0 | 6.6 | 2.1 | virginica  |\n| 108 | 7.3 | 2.9 | 6.3 | 1.8 | virginica  |\n| 110 | 7.2 | 3.6 | 6.1 | 2.5 | virginica  |\n| 118 | 7.7 | 3.8 | 6.7 | 2.2 | virginica  |\n| 119 | 7.7 | 2.6 | 6.9 | 2.3 | virginica  |\n| 123 | 7.7 | 2.8 | 6.7 | 2.0 | virginica  |\n| 126 | 7.2 | 3.2 | 6.0 | 1.8 | virginica  |\n| 130 | 7.2 | 3.0 | 5.8 | 1.6 | virginica  |\n| 131 | 7.4 | 2.8 | 6.1 | 1.9 | virginica  |\n| 132 | 7.9 | 3.8 | 6.4 | 2.0 | virginica  |\n| 136 | 7.7 | 3.0 | 6.1 | 2.3 | virginica  |\n\n",
            "text/html": [
              "<table class=\"dataframe\">\n",
              "<caption>A data.frame: 13 × 5</caption>\n",
              "<thead>\n",
              "\t<tr><th></th><th scope=col>Sepal.Length</th><th scope=col>Sepal.Width</th><th scope=col>Petal.Length</th><th scope=col>Petal.Width</th><th scope=col>Species</th></tr>\n",
              "\t<tr><th></th><th scope=col>&lt;dbl&gt;</th><th scope=col>&lt;dbl&gt;</th><th scope=col>&lt;dbl&gt;</th><th scope=col>&lt;dbl&gt;</th><th scope=col>&lt;fct&gt;</th></tr>\n",
              "</thead>\n",
              "<tbody>\n",
              "\t<tr><th scope=row>51</th><td>7.0</td><td>3.2</td><td>4.7</td><td>1.4</td><td>versicolor</td></tr>\n",
              "\t<tr><th scope=row>103</th><td>7.1</td><td>3.0</td><td>5.9</td><td>2.1</td><td>virginica </td></tr>\n",
              "\t<tr><th scope=row>106</th><td>7.6</td><td>3.0</td><td>6.6</td><td>2.1</td><td>virginica </td></tr>\n",
              "\t<tr><th scope=row>108</th><td>7.3</td><td>2.9</td><td>6.3</td><td>1.8</td><td>virginica </td></tr>\n",
              "\t<tr><th scope=row>110</th><td>7.2</td><td>3.6</td><td>6.1</td><td>2.5</td><td>virginica </td></tr>\n",
              "\t<tr><th scope=row>118</th><td>7.7</td><td>3.8</td><td>6.7</td><td>2.2</td><td>virginica </td></tr>\n",
              "\t<tr><th scope=row>119</th><td>7.7</td><td>2.6</td><td>6.9</td><td>2.3</td><td>virginica </td></tr>\n",
              "\t<tr><th scope=row>123</th><td>7.7</td><td>2.8</td><td>6.7</td><td>2.0</td><td>virginica </td></tr>\n",
              "\t<tr><th scope=row>126</th><td>7.2</td><td>3.2</td><td>6.0</td><td>1.8</td><td>virginica </td></tr>\n",
              "\t<tr><th scope=row>130</th><td>7.2</td><td>3.0</td><td>5.8</td><td>1.6</td><td>virginica </td></tr>\n",
              "\t<tr><th scope=row>131</th><td>7.4</td><td>2.8</td><td>6.1</td><td>1.9</td><td>virginica </td></tr>\n",
              "\t<tr><th scope=row>132</th><td>7.9</td><td>3.8</td><td>6.4</td><td>2.0</td><td>virginica </td></tr>\n",
              "\t<tr><th scope=row>136</th><td>7.7</td><td>3.0</td><td>6.1</td><td>2.3</td><td>virginica </td></tr>\n",
              "</tbody>\n",
              "</table>\n"
            ]
          },
          "metadata": {
            "tags": []
          }
        }
      ]
    },
    {
      "cell_type": "code",
      "metadata": {
        "colab": {
          "base_uri": "https://localhost:8080/",
          "height": 500
        },
        "id": "lIrYFrXEM1v4",
        "outputId": "68aca438-a67f-4b12-8d7f-bca80a553075"
      },
      "source": [
        "subset(iris,Sepal.Length>=7,select = c(\"Sepal.Length\",\"Species\"))"
      ],
      "execution_count": 7,
      "outputs": [
        {
          "output_type": "display_data",
          "data": {
            "text/plain": [
              "    Sepal.Length Species   \n",
              "51  7.0          versicolor\n",
              "103 7.1          virginica \n",
              "106 7.6          virginica \n",
              "108 7.3          virginica \n",
              "110 7.2          virginica \n",
              "118 7.7          virginica \n",
              "119 7.7          virginica \n",
              "123 7.7          virginica \n",
              "126 7.2          virginica \n",
              "130 7.2          virginica \n",
              "131 7.4          virginica \n",
              "132 7.9          virginica \n",
              "136 7.7          virginica "
            ],
            "text/latex": "A data.frame: 13 × 2\n\\begin{tabular}{r|ll}\n  & Sepal.Length & Species\\\\\n  & <dbl> & <fct>\\\\\n\\hline\n\t51 & 7.0 & versicolor\\\\\n\t103 & 7.1 & virginica \\\\\n\t106 & 7.6 & virginica \\\\\n\t108 & 7.3 & virginica \\\\\n\t110 & 7.2 & virginica \\\\\n\t118 & 7.7 & virginica \\\\\n\t119 & 7.7 & virginica \\\\\n\t123 & 7.7 & virginica \\\\\n\t126 & 7.2 & virginica \\\\\n\t130 & 7.2 & virginica \\\\\n\t131 & 7.4 & virginica \\\\\n\t132 & 7.9 & virginica \\\\\n\t136 & 7.7 & virginica \\\\\n\\end{tabular}\n",
            "text/markdown": "\nA data.frame: 13 × 2\n\n| <!--/--> | Sepal.Length &lt;dbl&gt; | Species &lt;fct&gt; |\n|---|---|---|\n| 51 | 7.0 | versicolor |\n| 103 | 7.1 | virginica  |\n| 106 | 7.6 | virginica  |\n| 108 | 7.3 | virginica  |\n| 110 | 7.2 | virginica  |\n| 118 | 7.7 | virginica  |\n| 119 | 7.7 | virginica  |\n| 123 | 7.7 | virginica  |\n| 126 | 7.2 | virginica  |\n| 130 | 7.2 | virginica  |\n| 131 | 7.4 | virginica  |\n| 132 | 7.9 | virginica  |\n| 136 | 7.7 | virginica  |\n\n",
            "text/html": [
              "<table class=\"dataframe\">\n",
              "<caption>A data.frame: 13 × 2</caption>\n",
              "<thead>\n",
              "\t<tr><th></th><th scope=col>Sepal.Length</th><th scope=col>Species</th></tr>\n",
              "\t<tr><th></th><th scope=col>&lt;dbl&gt;</th><th scope=col>&lt;fct&gt;</th></tr>\n",
              "</thead>\n",
              "<tbody>\n",
              "\t<tr><th scope=row>51</th><td>7.0</td><td>versicolor</td></tr>\n",
              "\t<tr><th scope=row>103</th><td>7.1</td><td>virginica </td></tr>\n",
              "\t<tr><th scope=row>106</th><td>7.6</td><td>virginica </td></tr>\n",
              "\t<tr><th scope=row>108</th><td>7.3</td><td>virginica </td></tr>\n",
              "\t<tr><th scope=row>110</th><td>7.2</td><td>virginica </td></tr>\n",
              "\t<tr><th scope=row>118</th><td>7.7</td><td>virginica </td></tr>\n",
              "\t<tr><th scope=row>119</th><td>7.7</td><td>virginica </td></tr>\n",
              "\t<tr><th scope=row>123</th><td>7.7</td><td>virginica </td></tr>\n",
              "\t<tr><th scope=row>126</th><td>7.2</td><td>virginica </td></tr>\n",
              "\t<tr><th scope=row>130</th><td>7.2</td><td>virginica </td></tr>\n",
              "\t<tr><th scope=row>131</th><td>7.4</td><td>virginica </td></tr>\n",
              "\t<tr><th scope=row>132</th><td>7.9</td><td>virginica </td></tr>\n",
              "\t<tr><th scope=row>136</th><td>7.7</td><td>virginica </td></tr>\n",
              "</tbody>\n",
              "</table>\n"
            ]
          },
          "metadata": {
            "tags": []
          }
        }
      ]
    },
    {
      "cell_type": "code",
      "metadata": {
        "colab": {
          "base_uri": "https://localhost:8080/",
          "height": 119
        },
        "id": "P3M5SNWQNAAn",
        "outputId": "4fbc2037-9b2c-4ec4-ab53-4b846441c3c5"
      },
      "source": [
        "substr(iris$Species,1,3)"
      ],
      "execution_count": 8,
      "outputs": [
        {
          "output_type": "display_data",
          "data": {
            "text/plain": [
              "  [1] \"set\" \"set\" \"set\" \"set\" \"set\" \"set\" \"set\" \"set\" \"set\" \"set\" \"set\" \"set\"\n",
              " [13] \"set\" \"set\" \"set\" \"set\" \"set\" \"set\" \"set\" \"set\" \"set\" \"set\" \"set\" \"set\"\n",
              " [25] \"set\" \"set\" \"set\" \"set\" \"set\" \"set\" \"set\" \"set\" \"set\" \"set\" \"set\" \"set\"\n",
              " [37] \"set\" \"set\" \"set\" \"set\" \"set\" \"set\" \"set\" \"set\" \"set\" \"set\" \"set\" \"set\"\n",
              " [49] \"set\" \"set\" \"ver\" \"ver\" \"ver\" \"ver\" \"ver\" \"ver\" \"ver\" \"ver\" \"ver\" \"ver\"\n",
              " [61] \"ver\" \"ver\" \"ver\" \"ver\" \"ver\" \"ver\" \"ver\" \"ver\" \"ver\" \"ver\" \"ver\" \"ver\"\n",
              " [73] \"ver\" \"ver\" \"ver\" \"ver\" \"ver\" \"ver\" \"ver\" \"ver\" \"ver\" \"ver\" \"ver\" \"ver\"\n",
              " [85] \"ver\" \"ver\" \"ver\" \"ver\" \"ver\" \"ver\" \"ver\" \"ver\" \"ver\" \"ver\" \"ver\" \"ver\"\n",
              " [97] \"ver\" \"ver\" \"ver\" \"ver\" \"vir\" \"vir\" \"vir\" \"vir\" \"vir\" \"vir\" \"vir\" \"vir\"\n",
              "[109] \"vir\" \"vir\" \"vir\" \"vir\" \"vir\" \"vir\" \"vir\" \"vir\" \"vir\" \"vir\" \"vir\" \"vir\"\n",
              "[121] \"vir\" \"vir\" \"vir\" \"vir\" \"vir\" \"vir\" \"vir\" \"vir\" \"vir\" \"vir\" \"vir\" \"vir\"\n",
              "[133] \"vir\" \"vir\" \"vir\" \"vir\" \"vir\" \"vir\" \"vir\" \"vir\" \"vir\" \"vir\" \"vir\" \"vir\"\n",
              "[145] \"vir\" \"vir\" \"vir\" \"vir\" \"vir\" \"vir\""
            ],
            "text/latex": "\\begin{enumerate*}\n\\item 'set'\n\\item 'set'\n\\item 'set'\n\\item 'set'\n\\item 'set'\n\\item 'set'\n\\item 'set'\n\\item 'set'\n\\item 'set'\n\\item 'set'\n\\item 'set'\n\\item 'set'\n\\item 'set'\n\\item 'set'\n\\item 'set'\n\\item 'set'\n\\item 'set'\n\\item 'set'\n\\item 'set'\n\\item 'set'\n\\item 'set'\n\\item 'set'\n\\item 'set'\n\\item 'set'\n\\item 'set'\n\\item 'set'\n\\item 'set'\n\\item 'set'\n\\item 'set'\n\\item 'set'\n\\item 'set'\n\\item 'set'\n\\item 'set'\n\\item 'set'\n\\item 'set'\n\\item 'set'\n\\item 'set'\n\\item 'set'\n\\item 'set'\n\\item 'set'\n\\item 'set'\n\\item 'set'\n\\item 'set'\n\\item 'set'\n\\item 'set'\n\\item 'set'\n\\item 'set'\n\\item 'set'\n\\item 'set'\n\\item 'set'\n\\item 'ver'\n\\item 'ver'\n\\item 'ver'\n\\item 'ver'\n\\item 'ver'\n\\item 'ver'\n\\item 'ver'\n\\item 'ver'\n\\item 'ver'\n\\item 'ver'\n\\item 'ver'\n\\item 'ver'\n\\item 'ver'\n\\item 'ver'\n\\item 'ver'\n\\item 'ver'\n\\item 'ver'\n\\item 'ver'\n\\item 'ver'\n\\item 'ver'\n\\item 'ver'\n\\item 'ver'\n\\item 'ver'\n\\item 'ver'\n\\item 'ver'\n\\item 'ver'\n\\item 'ver'\n\\item 'ver'\n\\item 'ver'\n\\item 'ver'\n\\item 'ver'\n\\item 'ver'\n\\item 'ver'\n\\item 'ver'\n\\item 'ver'\n\\item 'ver'\n\\item 'ver'\n\\item 'ver'\n\\item 'ver'\n\\item 'ver'\n\\item 'ver'\n\\item 'ver'\n\\item 'ver'\n\\item 'ver'\n\\item 'ver'\n\\item 'ver'\n\\item 'ver'\n\\item 'ver'\n\\item 'ver'\n\\item 'ver'\n\\item 'vir'\n\\item 'vir'\n\\item 'vir'\n\\item 'vir'\n\\item 'vir'\n\\item 'vir'\n\\item 'vir'\n\\item 'vir'\n\\item 'vir'\n\\item 'vir'\n\\item 'vir'\n\\item 'vir'\n\\item 'vir'\n\\item 'vir'\n\\item 'vir'\n\\item 'vir'\n\\item 'vir'\n\\item 'vir'\n\\item 'vir'\n\\item 'vir'\n\\item 'vir'\n\\item 'vir'\n\\item 'vir'\n\\item 'vir'\n\\item 'vir'\n\\item 'vir'\n\\item 'vir'\n\\item 'vir'\n\\item 'vir'\n\\item 'vir'\n\\item 'vir'\n\\item 'vir'\n\\item 'vir'\n\\item 'vir'\n\\item 'vir'\n\\item 'vir'\n\\item 'vir'\n\\item 'vir'\n\\item 'vir'\n\\item 'vir'\n\\item 'vir'\n\\item 'vir'\n\\item 'vir'\n\\item 'vir'\n\\item 'vir'\n\\item 'vir'\n\\item 'vir'\n\\item 'vir'\n\\item 'vir'\n\\item 'vir'\n\\end{enumerate*}\n",
            "text/markdown": "1. 'set'\n2. 'set'\n3. 'set'\n4. 'set'\n5. 'set'\n6. 'set'\n7. 'set'\n8. 'set'\n9. 'set'\n10. 'set'\n11. 'set'\n12. 'set'\n13. 'set'\n14. 'set'\n15. 'set'\n16. 'set'\n17. 'set'\n18. 'set'\n19. 'set'\n20. 'set'\n21. 'set'\n22. 'set'\n23. 'set'\n24. 'set'\n25. 'set'\n26. 'set'\n27. 'set'\n28. 'set'\n29. 'set'\n30. 'set'\n31. 'set'\n32. 'set'\n33. 'set'\n34. 'set'\n35. 'set'\n36. 'set'\n37. 'set'\n38. 'set'\n39. 'set'\n40. 'set'\n41. 'set'\n42. 'set'\n43. 'set'\n44. 'set'\n45. 'set'\n46. 'set'\n47. 'set'\n48. 'set'\n49. 'set'\n50. 'set'\n51. 'ver'\n52. 'ver'\n53. 'ver'\n54. 'ver'\n55. 'ver'\n56. 'ver'\n57. 'ver'\n58. 'ver'\n59. 'ver'\n60. 'ver'\n61. 'ver'\n62. 'ver'\n63. 'ver'\n64. 'ver'\n65. 'ver'\n66. 'ver'\n67. 'ver'\n68. 'ver'\n69. 'ver'\n70. 'ver'\n71. 'ver'\n72. 'ver'\n73. 'ver'\n74. 'ver'\n75. 'ver'\n76. 'ver'\n77. 'ver'\n78. 'ver'\n79. 'ver'\n80. 'ver'\n81. 'ver'\n82. 'ver'\n83. 'ver'\n84. 'ver'\n85. 'ver'\n86. 'ver'\n87. 'ver'\n88. 'ver'\n89. 'ver'\n90. 'ver'\n91. 'ver'\n92. 'ver'\n93. 'ver'\n94. 'ver'\n95. 'ver'\n96. 'ver'\n97. 'ver'\n98. 'ver'\n99. 'ver'\n100. 'ver'\n101. 'vir'\n102. 'vir'\n103. 'vir'\n104. 'vir'\n105. 'vir'\n106. 'vir'\n107. 'vir'\n108. 'vir'\n109. 'vir'\n110. 'vir'\n111. 'vir'\n112. 'vir'\n113. 'vir'\n114. 'vir'\n115. 'vir'\n116. 'vir'\n117. 'vir'\n118. 'vir'\n119. 'vir'\n120. 'vir'\n121. 'vir'\n122. 'vir'\n123. 'vir'\n124. 'vir'\n125. 'vir'\n126. 'vir'\n127. 'vir'\n128. 'vir'\n129. 'vir'\n130. 'vir'\n131. 'vir'\n132. 'vir'\n133. 'vir'\n134. 'vir'\n135. 'vir'\n136. 'vir'\n137. 'vir'\n138. 'vir'\n139. 'vir'\n140. 'vir'\n141. 'vir'\n142. 'vir'\n143. 'vir'\n144. 'vir'\n145. 'vir'\n146. 'vir'\n147. 'vir'\n148. 'vir'\n149. 'vir'\n150. 'vir'\n\n\n",
            "text/html": [
              "<style>\n",
              ".list-inline {list-style: none; margin:0; padding: 0}\n",
              ".list-inline>li {display: inline-block}\n",
              ".list-inline>li:not(:last-child)::after {content: \"\\00b7\"; padding: 0 .5ex}\n",
              "</style>\n",
              "<ol class=list-inline><li>'set'</li><li>'set'</li><li>'set'</li><li>'set'</li><li>'set'</li><li>'set'</li><li>'set'</li><li>'set'</li><li>'set'</li><li>'set'</li><li>'set'</li><li>'set'</li><li>'set'</li><li>'set'</li><li>'set'</li><li>'set'</li><li>'set'</li><li>'set'</li><li>'set'</li><li>'set'</li><li>'set'</li><li>'set'</li><li>'set'</li><li>'set'</li><li>'set'</li><li>'set'</li><li>'set'</li><li>'set'</li><li>'set'</li><li>'set'</li><li>'set'</li><li>'set'</li><li>'set'</li><li>'set'</li><li>'set'</li><li>'set'</li><li>'set'</li><li>'set'</li><li>'set'</li><li>'set'</li><li>'set'</li><li>'set'</li><li>'set'</li><li>'set'</li><li>'set'</li><li>'set'</li><li>'set'</li><li>'set'</li><li>'set'</li><li>'set'</li><li>'ver'</li><li>'ver'</li><li>'ver'</li><li>'ver'</li><li>'ver'</li><li>'ver'</li><li>'ver'</li><li>'ver'</li><li>'ver'</li><li>'ver'</li><li>'ver'</li><li>'ver'</li><li>'ver'</li><li>'ver'</li><li>'ver'</li><li>'ver'</li><li>'ver'</li><li>'ver'</li><li>'ver'</li><li>'ver'</li><li>'ver'</li><li>'ver'</li><li>'ver'</li><li>'ver'</li><li>'ver'</li><li>'ver'</li><li>'ver'</li><li>'ver'</li><li>'ver'</li><li>'ver'</li><li>'ver'</li><li>'ver'</li><li>'ver'</li><li>'ver'</li><li>'ver'</li><li>'ver'</li><li>'ver'</li><li>'ver'</li><li>'ver'</li><li>'ver'</li><li>'ver'</li><li>'ver'</li><li>'ver'</li><li>'ver'</li><li>'ver'</li><li>'ver'</li><li>'ver'</li><li>'ver'</li><li>'ver'</li><li>'ver'</li><li>'vir'</li><li>'vir'</li><li>'vir'</li><li>'vir'</li><li>'vir'</li><li>'vir'</li><li>'vir'</li><li>'vir'</li><li>'vir'</li><li>'vir'</li><li>'vir'</li><li>'vir'</li><li>'vir'</li><li>'vir'</li><li>'vir'</li><li>'vir'</li><li>'vir'</li><li>'vir'</li><li>'vir'</li><li>'vir'</li><li>'vir'</li><li>'vir'</li><li>'vir'</li><li>'vir'</li><li>'vir'</li><li>'vir'</li><li>'vir'</li><li>'vir'</li><li>'vir'</li><li>'vir'</li><li>'vir'</li><li>'vir'</li><li>'vir'</li><li>'vir'</li><li>'vir'</li><li>'vir'</li><li>'vir'</li><li>'vir'</li><li>'vir'</li><li>'vir'</li><li>'vir'</li><li>'vir'</li><li>'vir'</li><li>'vir'</li><li>'vir'</li><li>'vir'</li><li>'vir'</li><li>'vir'</li><li>'vir'</li><li>'vir'</li></ol>\n"
            ]
          },
          "metadata": {
            "tags": []
          }
        }
      ]
    },
    {
      "cell_type": "code",
      "metadata": {
        "colab": {
          "base_uri": "https://localhost:8080/",
          "height": 190
        },
        "id": "RRu3szZjNHLX",
        "outputId": "023e1be4-acb4-4fb7-9155-da815af4fcdb"
      },
      "source": [
        "x<-data.frame(name=c(\"a\",\"b\",\"c\"),height=c(170,180,160))\r\n",
        "\r\n",
        "y<-data.frame(name=c(\"c\",\"b\",\"a\"),weight=c(50,70,60))\r\n",
        "merge(x,y) # y의 name 부분의 순서가 다름에도 제대로 합쳐진다."
      ],
      "execution_count": 9,
      "outputs": [
        {
          "output_type": "display_data",
          "data": {
            "text/plain": [
              "  name height weight\n",
              "1 a    170    60    \n",
              "2 b    180    70    \n",
              "3 c    160    50    "
            ],
            "text/latex": "A data.frame: 3 × 3\n\\begin{tabular}{lll}\n name & height & weight\\\\\n <chr> & <dbl> & <dbl>\\\\\n\\hline\n\t a & 170 & 60\\\\\n\t b & 180 & 70\\\\\n\t c & 160 & 50\\\\\n\\end{tabular}\n",
            "text/markdown": "\nA data.frame: 3 × 3\n\n| name &lt;chr&gt; | height &lt;dbl&gt; | weight &lt;dbl&gt; |\n|---|---|---|\n| a | 170 | 60 |\n| b | 180 | 70 |\n| c | 160 | 50 |\n\n",
            "text/html": [
              "<table class=\"dataframe\">\n",
              "<caption>A data.frame: 3 × 3</caption>\n",
              "<thead>\n",
              "\t<tr><th scope=col>name</th><th scope=col>height</th><th scope=col>weight</th></tr>\n",
              "\t<tr><th scope=col>&lt;chr&gt;</th><th scope=col>&lt;dbl&gt;</th><th scope=col>&lt;dbl&gt;</th></tr>\n",
              "</thead>\n",
              "<tbody>\n",
              "\t<tr><td>a</td><td>170</td><td>60</td></tr>\n",
              "\t<tr><td>b</td><td>180</td><td>70</td></tr>\n",
              "\t<tr><td>c</td><td>160</td><td>50</td></tr>\n",
              "</tbody>\n",
              "</table>\n"
            ]
          },
          "metadata": {
            "tags": []
          }
        }
      ]
    },
    {
      "cell_type": "code",
      "metadata": {
        "colab": {
          "base_uri": "https://localhost:8080/",
          "height": 190
        },
        "id": "wNe0vy0ANWV4",
        "outputId": "b9aebb07-bd8a-4998-db7c-2bd26e138afd"
      },
      "source": [
        "cbind(x,y)"
      ],
      "execution_count": 10,
      "outputs": [
        {
          "output_type": "display_data",
          "data": {
            "text/plain": [
              "  name height name weight\n",
              "1 a    170    c    50    \n",
              "2 b    180    b    70    \n",
              "3 c    160    a    60    "
            ],
            "text/latex": "A data.frame: 3 × 4\n\\begin{tabular}{llll}\n name & height & name & weight\\\\\n <chr> & <dbl> & <chr> & <dbl>\\\\\n\\hline\n\t a & 170 & c & 50\\\\\n\t b & 180 & b & 70\\\\\n\t c & 160 & a & 60\\\\\n\\end{tabular}\n",
            "text/markdown": "\nA data.frame: 3 × 4\n\n| name &lt;chr&gt; | height &lt;dbl&gt; | name &lt;chr&gt; | weight &lt;dbl&gt; |\n|---|---|---|---|\n| a | 170 | c | 50 |\n| b | 180 | b | 70 |\n| c | 160 | a | 60 |\n\n",
            "text/html": [
              "<table class=\"dataframe\">\n",
              "<caption>A data.frame: 3 × 4</caption>\n",
              "<thead>\n",
              "\t<tr><th scope=col>name</th><th scope=col>height</th><th scope=col>name</th><th scope=col>weight</th></tr>\n",
              "\t<tr><th scope=col>&lt;chr&gt;</th><th scope=col>&lt;dbl&gt;</th><th scope=col>&lt;chr&gt;</th><th scope=col>&lt;dbl&gt;</th></tr>\n",
              "</thead>\n",
              "<tbody>\n",
              "\t<tr><td>a</td><td>170</td><td>c</td><td>50</td></tr>\n",
              "\t<tr><td>b</td><td>180</td><td>b</td><td>70</td></tr>\n",
              "\t<tr><td>c</td><td>160</td><td>a</td><td>60</td></tr>\n",
              "</tbody>\n",
              "</table>\n"
            ]
          },
          "metadata": {
            "tags": []
          }
        }
      ]
    },
    {
      "cell_type": "code",
      "metadata": {
        "colab": {
          "base_uri": "https://localhost:8080/",
          "height": 34
        },
        "id": "J7iC0fEBNgnG",
        "outputId": "3a78e6cc-d096-47b4-ce12-1466a6ca5b57"
      },
      "source": [
        "x<-c(20,10,30,50,40)\r\n",
        "sort(x,decreasing=FALSE)"
      ],
      "execution_count": 11,
      "outputs": [
        {
          "output_type": "display_data",
          "data": {
            "text/plain": [
              "[1] 10 20 30 40 50"
            ],
            "text/latex": "\\begin{enumerate*}\n\\item 10\n\\item 20\n\\item 30\n\\item 40\n\\item 50\n\\end{enumerate*}\n",
            "text/markdown": "1. 10\n2. 20\n3. 30\n4. 40\n5. 50\n\n\n",
            "text/html": [
              "<style>\n",
              ".list-inline {list-style: none; margin:0; padding: 0}\n",
              ".list-inline>li {display: inline-block}\n",
              ".list-inline>li:not(:last-child)::after {content: \"\\00b7\"; padding: 0 .5ex}\n",
              "</style>\n",
              "<ol class=list-inline><li>10</li><li>20</li><li>30</li><li>40</li><li>50</li></ol>\n"
            ]
          },
          "metadata": {
            "tags": []
          }
        }
      ]
    },
    {
      "cell_type": "code",
      "metadata": {
        "colab": {
          "base_uri": "https://localhost:8080/",
          "height": 34
        },
        "id": "T8sxJ1j6NnUd",
        "outputId": "35a38b14-3fa8-42a7-a45a-6b7716aa1a50"
      },
      "source": [
        "sort(x,decreasing = TRUE)"
      ],
      "execution_count": 12,
      "outputs": [
        {
          "output_type": "display_data",
          "data": {
            "text/plain": [
              "[1] 50 40 30 20 10"
            ],
            "text/latex": "\\begin{enumerate*}\n\\item 50\n\\item 40\n\\item 30\n\\item 20\n\\item 10\n\\end{enumerate*}\n",
            "text/markdown": "1. 50\n2. 40\n3. 30\n4. 20\n5. 10\n\n\n",
            "text/html": [
              "<style>\n",
              ".list-inline {list-style: none; margin:0; padding: 0}\n",
              ".list-inline>li {display: inline-block}\n",
              ".list-inline>li:not(:last-child)::after {content: \"\\00b7\"; padding: 0 .5ex}\n",
              "</style>\n",
              "<ol class=list-inline><li>50</li><li>40</li><li>30</li><li>20</li><li>10</li></ol>\n"
            ]
          },
          "metadata": {
            "tags": []
          }
        }
      ]
    },
    {
      "cell_type": "code",
      "metadata": {
        "colab": {
          "base_uri": "https://localhost:8080/",
          "height": 34
        },
        "id": "cfYvBUOqNqW7",
        "outputId": "e9b6f7af-5761-4d73-df86-091596269844"
      },
      "source": [
        "order(x,decreasing = FALSE)"
      ],
      "execution_count": 13,
      "outputs": [
        {
          "output_type": "display_data",
          "data": {
            "text/plain": [
              "[1] 2 1 3 5 4"
            ],
            "text/latex": "\\begin{enumerate*}\n\\item 2\n\\item 1\n\\item 3\n\\item 5\n\\item 4\n\\end{enumerate*}\n",
            "text/markdown": "1. 2\n2. 1\n3. 3\n4. 5\n5. 4\n\n\n",
            "text/html": [
              "<style>\n",
              ".list-inline {list-style: none; margin:0; padding: 0}\n",
              ".list-inline>li {display: inline-block}\n",
              ".list-inline>li:not(:last-child)::after {content: \"\\00b7\"; padding: 0 .5ex}\n",
              "</style>\n",
              "<ol class=list-inline><li>2</li><li>1</li><li>3</li><li>5</li><li>4</li></ol>\n"
            ]
          },
          "metadata": {
            "tags": []
          }
        }
      ]
    },
    {
      "cell_type": "code",
      "metadata": {
        "colab": {
          "base_uri": "https://localhost:8080/",
          "height": 34
        },
        "id": "8-CzvdA2NuX_",
        "outputId": "cfbc1d1c-388d-4862-fce7-e3f3eb735afb"
      },
      "source": [
        "order(x,decreasing = TRUE)"
      ],
      "execution_count": 14,
      "outputs": [
        {
          "output_type": "display_data",
          "data": {
            "text/plain": [
              "[1] 4 5 3 1 2"
            ],
            "text/latex": "\\begin{enumerate*}\n\\item 4\n\\item 5\n\\item 3\n\\item 1\n\\item 2\n\\end{enumerate*}\n",
            "text/markdown": "1. 4\n2. 5\n3. 3\n4. 1\n5. 2\n\n\n",
            "text/html": [
              "<style>\n",
              ".list-inline {list-style: none; margin:0; padding: 0}\n",
              ".list-inline>li {display: inline-block}\n",
              ".list-inline>li:not(:last-child)::after {content: \"\\00b7\"; padding: 0 .5ex}\n",
              "</style>\n",
              "<ol class=list-inline><li>4</li><li>5</li><li>3</li><li>1</li><li>2</li></ol>\n"
            ]
          },
          "metadata": {
            "tags": []
          }
        }
      ]
    },
    {
      "cell_type": "code",
      "metadata": {
        "colab": {
          "base_uri": "https://localhost:8080/",
          "height": 1000
        },
        "id": "tkYfWaDLNwyh",
        "outputId": "17606613-4bac-4283-afcc-6dfb1d22a007"
      },
      "source": [
        "iris[order(iris$Sepal.Length),]"
      ],
      "execution_count": 15,
      "outputs": [
        {
          "output_type": "display_data",
          "data": {
            "text/plain": [
              "    Sepal.Length Sepal.Width Petal.Length Petal.Width Species   \n",
              "14  4.3          3.0         1.1          0.1         setosa    \n",
              "9   4.4          2.9         1.4          0.2         setosa    \n",
              "39  4.4          3.0         1.3          0.2         setosa    \n",
              "43  4.4          3.2         1.3          0.2         setosa    \n",
              "42  4.5          2.3         1.3          0.3         setosa    \n",
              "4   4.6          3.1         1.5          0.2         setosa    \n",
              "7   4.6          3.4         1.4          0.3         setosa    \n",
              "23  4.6          3.6         1.0          0.2         setosa    \n",
              "48  4.6          3.2         1.4          0.2         setosa    \n",
              "3   4.7          3.2         1.3          0.2         setosa    \n",
              "30  4.7          3.2         1.6          0.2         setosa    \n",
              "12  4.8          3.4         1.6          0.2         setosa    \n",
              "13  4.8          3.0         1.4          0.1         setosa    \n",
              "25  4.8          3.4         1.9          0.2         setosa    \n",
              "31  4.8          3.1         1.6          0.2         setosa    \n",
              "46  4.8          3.0         1.4          0.3         setosa    \n",
              "2   4.9          3.0         1.4          0.2         setosa    \n",
              "10  4.9          3.1         1.5          0.1         setosa    \n",
              "35  4.9          3.1         1.5          0.2         setosa    \n",
              "38  4.9          3.6         1.4          0.1         setosa    \n",
              "58  4.9          2.4         3.3          1.0         versicolor\n",
              "107 4.9          2.5         4.5          1.7         virginica \n",
              "5   5.0          3.6         1.4          0.2         setosa    \n",
              "8   5.0          3.4         1.5          0.2         setosa    \n",
              "26  5.0          3.0         1.6          0.2         setosa    \n",
              "27  5.0          3.4         1.6          0.4         setosa    \n",
              "36  5.0          3.2         1.2          0.2         setosa    \n",
              "41  5.0          3.5         1.3          0.3         setosa    \n",
              "44  5.0          3.5         1.6          0.6         setosa    \n",
              "50  5.0          3.3         1.4          0.2         setosa    \n",
              "⋮   ⋮            ⋮           ⋮            ⋮           ⋮         \n",
              "59  6.6          2.9         4.6          1.3         versicolor\n",
              "76  6.6          3.0         4.4          1.4         versicolor\n",
              "66  6.7          3.1         4.4          1.4         versicolor\n",
              "78  6.7          3.0         5.0          1.7         versicolor\n",
              "87  6.7          3.1         4.7          1.5         versicolor\n",
              "109 6.7          2.5         5.8          1.8         virginica \n",
              "125 6.7          3.3         5.7          2.1         virginica \n",
              "141 6.7          3.1         5.6          2.4         virginica \n",
              "145 6.7          3.3         5.7          2.5         virginica \n",
              "146 6.7          3.0         5.2          2.3         virginica \n",
              "77  6.8          2.8         4.8          1.4         versicolor\n",
              "113 6.8          3.0         5.5          2.1         virginica \n",
              "144 6.8          3.2         5.9          2.3         virginica \n",
              "53  6.9          3.1         4.9          1.5         versicolor\n",
              "121 6.9          3.2         5.7          2.3         virginica \n",
              "140 6.9          3.1         5.4          2.1         virginica \n",
              "142 6.9          3.1         5.1          2.3         virginica \n",
              "51  7.0          3.2         4.7          1.4         versicolor\n",
              "103 7.1          3.0         5.9          2.1         virginica \n",
              "110 7.2          3.6         6.1          2.5         virginica \n",
              "126 7.2          3.2         6.0          1.8         virginica \n",
              "130 7.2          3.0         5.8          1.6         virginica \n",
              "108 7.3          2.9         6.3          1.8         virginica \n",
              "131 7.4          2.8         6.1          1.9         virginica \n",
              "106 7.6          3.0         6.6          2.1         virginica \n",
              "118 7.7          3.8         6.7          2.2         virginica \n",
              "119 7.7          2.6         6.9          2.3         virginica \n",
              "123 7.7          2.8         6.7          2.0         virginica \n",
              "136 7.7          3.0         6.1          2.3         virginica \n",
              "132 7.9          3.8         6.4          2.0         virginica "
            ],
            "text/latex": "A data.frame: 150 × 5\n\\begin{tabular}{r|lllll}\n  & Sepal.Length & Sepal.Width & Petal.Length & Petal.Width & Species\\\\\n  & <dbl> & <dbl> & <dbl> & <dbl> & <fct>\\\\\n\\hline\n\t14 & 4.3 & 3.0 & 1.1 & 0.1 & setosa    \\\\\n\t9 & 4.4 & 2.9 & 1.4 & 0.2 & setosa    \\\\\n\t39 & 4.4 & 3.0 & 1.3 & 0.2 & setosa    \\\\\n\t43 & 4.4 & 3.2 & 1.3 & 0.2 & setosa    \\\\\n\t42 & 4.5 & 2.3 & 1.3 & 0.3 & setosa    \\\\\n\t4 & 4.6 & 3.1 & 1.5 & 0.2 & setosa    \\\\\n\t7 & 4.6 & 3.4 & 1.4 & 0.3 & setosa    \\\\\n\t23 & 4.6 & 3.6 & 1.0 & 0.2 & setosa    \\\\\n\t48 & 4.6 & 3.2 & 1.4 & 0.2 & setosa    \\\\\n\t3 & 4.7 & 3.2 & 1.3 & 0.2 & setosa    \\\\\n\t30 & 4.7 & 3.2 & 1.6 & 0.2 & setosa    \\\\\n\t12 & 4.8 & 3.4 & 1.6 & 0.2 & setosa    \\\\\n\t13 & 4.8 & 3.0 & 1.4 & 0.1 & setosa    \\\\\n\t25 & 4.8 & 3.4 & 1.9 & 0.2 & setosa    \\\\\n\t31 & 4.8 & 3.1 & 1.6 & 0.2 & setosa    \\\\\n\t46 & 4.8 & 3.0 & 1.4 & 0.3 & setosa    \\\\\n\t2 & 4.9 & 3.0 & 1.4 & 0.2 & setosa    \\\\\n\t10 & 4.9 & 3.1 & 1.5 & 0.1 & setosa    \\\\\n\t35 & 4.9 & 3.1 & 1.5 & 0.2 & setosa    \\\\\n\t38 & 4.9 & 3.6 & 1.4 & 0.1 & setosa    \\\\\n\t58 & 4.9 & 2.4 & 3.3 & 1.0 & versicolor\\\\\n\t107 & 4.9 & 2.5 & 4.5 & 1.7 & virginica \\\\\n\t5 & 5.0 & 3.6 & 1.4 & 0.2 & setosa    \\\\\n\t8 & 5.0 & 3.4 & 1.5 & 0.2 & setosa    \\\\\n\t26 & 5.0 & 3.0 & 1.6 & 0.2 & setosa    \\\\\n\t27 & 5.0 & 3.4 & 1.6 & 0.4 & setosa    \\\\\n\t36 & 5.0 & 3.2 & 1.2 & 0.2 & setosa    \\\\\n\t41 & 5.0 & 3.5 & 1.3 & 0.3 & setosa    \\\\\n\t44 & 5.0 & 3.5 & 1.6 & 0.6 & setosa    \\\\\n\t50 & 5.0 & 3.3 & 1.4 & 0.2 & setosa    \\\\\n\t⋮ & ⋮ & ⋮ & ⋮ & ⋮ & ⋮\\\\\n\t59 & 6.6 & 2.9 & 4.6 & 1.3 & versicolor\\\\\n\t76 & 6.6 & 3.0 & 4.4 & 1.4 & versicolor\\\\\n\t66 & 6.7 & 3.1 & 4.4 & 1.4 & versicolor\\\\\n\t78 & 6.7 & 3.0 & 5.0 & 1.7 & versicolor\\\\\n\t87 & 6.7 & 3.1 & 4.7 & 1.5 & versicolor\\\\\n\t109 & 6.7 & 2.5 & 5.8 & 1.8 & virginica \\\\\n\t125 & 6.7 & 3.3 & 5.7 & 2.1 & virginica \\\\\n\t141 & 6.7 & 3.1 & 5.6 & 2.4 & virginica \\\\\n\t145 & 6.7 & 3.3 & 5.7 & 2.5 & virginica \\\\\n\t146 & 6.7 & 3.0 & 5.2 & 2.3 & virginica \\\\\n\t77 & 6.8 & 2.8 & 4.8 & 1.4 & versicolor\\\\\n\t113 & 6.8 & 3.0 & 5.5 & 2.1 & virginica \\\\\n\t144 & 6.8 & 3.2 & 5.9 & 2.3 & virginica \\\\\n\t53 & 6.9 & 3.1 & 4.9 & 1.5 & versicolor\\\\\n\t121 & 6.9 & 3.2 & 5.7 & 2.3 & virginica \\\\\n\t140 & 6.9 & 3.1 & 5.4 & 2.1 & virginica \\\\\n\t142 & 6.9 & 3.1 & 5.1 & 2.3 & virginica \\\\\n\t51 & 7.0 & 3.2 & 4.7 & 1.4 & versicolor\\\\\n\t103 & 7.1 & 3.0 & 5.9 & 2.1 & virginica \\\\\n\t110 & 7.2 & 3.6 & 6.1 & 2.5 & virginica \\\\\n\t126 & 7.2 & 3.2 & 6.0 & 1.8 & virginica \\\\\n\t130 & 7.2 & 3.0 & 5.8 & 1.6 & virginica \\\\\n\t108 & 7.3 & 2.9 & 6.3 & 1.8 & virginica \\\\\n\t131 & 7.4 & 2.8 & 6.1 & 1.9 & virginica \\\\\n\t106 & 7.6 & 3.0 & 6.6 & 2.1 & virginica \\\\\n\t118 & 7.7 & 3.8 & 6.7 & 2.2 & virginica \\\\\n\t119 & 7.7 & 2.6 & 6.9 & 2.3 & virginica \\\\\n\t123 & 7.7 & 2.8 & 6.7 & 2.0 & virginica \\\\\n\t136 & 7.7 & 3.0 & 6.1 & 2.3 & virginica \\\\\n\t132 & 7.9 & 3.8 & 6.4 & 2.0 & virginica \\\\\n\\end{tabular}\n",
            "text/markdown": "\nA data.frame: 150 × 5\n\n| <!--/--> | Sepal.Length &lt;dbl&gt; | Sepal.Width &lt;dbl&gt; | Petal.Length &lt;dbl&gt; | Petal.Width &lt;dbl&gt; | Species &lt;fct&gt; |\n|---|---|---|---|---|---|\n| 14 | 4.3 | 3.0 | 1.1 | 0.1 | setosa     |\n| 9 | 4.4 | 2.9 | 1.4 | 0.2 | setosa     |\n| 39 | 4.4 | 3.0 | 1.3 | 0.2 | setosa     |\n| 43 | 4.4 | 3.2 | 1.3 | 0.2 | setosa     |\n| 42 | 4.5 | 2.3 | 1.3 | 0.3 | setosa     |\n| 4 | 4.6 | 3.1 | 1.5 | 0.2 | setosa     |\n| 7 | 4.6 | 3.4 | 1.4 | 0.3 | setosa     |\n| 23 | 4.6 | 3.6 | 1.0 | 0.2 | setosa     |\n| 48 | 4.6 | 3.2 | 1.4 | 0.2 | setosa     |\n| 3 | 4.7 | 3.2 | 1.3 | 0.2 | setosa     |\n| 30 | 4.7 | 3.2 | 1.6 | 0.2 | setosa     |\n| 12 | 4.8 | 3.4 | 1.6 | 0.2 | setosa     |\n| 13 | 4.8 | 3.0 | 1.4 | 0.1 | setosa     |\n| 25 | 4.8 | 3.4 | 1.9 | 0.2 | setosa     |\n| 31 | 4.8 | 3.1 | 1.6 | 0.2 | setosa     |\n| 46 | 4.8 | 3.0 | 1.4 | 0.3 | setosa     |\n| 2 | 4.9 | 3.0 | 1.4 | 0.2 | setosa     |\n| 10 | 4.9 | 3.1 | 1.5 | 0.1 | setosa     |\n| 35 | 4.9 | 3.1 | 1.5 | 0.2 | setosa     |\n| 38 | 4.9 | 3.6 | 1.4 | 0.1 | setosa     |\n| 58 | 4.9 | 2.4 | 3.3 | 1.0 | versicolor |\n| 107 | 4.9 | 2.5 | 4.5 | 1.7 | virginica  |\n| 5 | 5.0 | 3.6 | 1.4 | 0.2 | setosa     |\n| 8 | 5.0 | 3.4 | 1.5 | 0.2 | setosa     |\n| 26 | 5.0 | 3.0 | 1.6 | 0.2 | setosa     |\n| 27 | 5.0 | 3.4 | 1.6 | 0.4 | setosa     |\n| 36 | 5.0 | 3.2 | 1.2 | 0.2 | setosa     |\n| 41 | 5.0 | 3.5 | 1.3 | 0.3 | setosa     |\n| 44 | 5.0 | 3.5 | 1.6 | 0.6 | setosa     |\n| 50 | 5.0 | 3.3 | 1.4 | 0.2 | setosa     |\n| ⋮ | ⋮ | ⋮ | ⋮ | ⋮ | ⋮ |\n| 59 | 6.6 | 2.9 | 4.6 | 1.3 | versicolor |\n| 76 | 6.6 | 3.0 | 4.4 | 1.4 | versicolor |\n| 66 | 6.7 | 3.1 | 4.4 | 1.4 | versicolor |\n| 78 | 6.7 | 3.0 | 5.0 | 1.7 | versicolor |\n| 87 | 6.7 | 3.1 | 4.7 | 1.5 | versicolor |\n| 109 | 6.7 | 2.5 | 5.8 | 1.8 | virginica  |\n| 125 | 6.7 | 3.3 | 5.7 | 2.1 | virginica  |\n| 141 | 6.7 | 3.1 | 5.6 | 2.4 | virginica  |\n| 145 | 6.7 | 3.3 | 5.7 | 2.5 | virginica  |\n| 146 | 6.7 | 3.0 | 5.2 | 2.3 | virginica  |\n| 77 | 6.8 | 2.8 | 4.8 | 1.4 | versicolor |\n| 113 | 6.8 | 3.0 | 5.5 | 2.1 | virginica  |\n| 144 | 6.8 | 3.2 | 5.9 | 2.3 | virginica  |\n| 53 | 6.9 | 3.1 | 4.9 | 1.5 | versicolor |\n| 121 | 6.9 | 3.2 | 5.7 | 2.3 | virginica  |\n| 140 | 6.9 | 3.1 | 5.4 | 2.1 | virginica  |\n| 142 | 6.9 | 3.1 | 5.1 | 2.3 | virginica  |\n| 51 | 7.0 | 3.2 | 4.7 | 1.4 | versicolor |\n| 103 | 7.1 | 3.0 | 5.9 | 2.1 | virginica  |\n| 110 | 7.2 | 3.6 | 6.1 | 2.5 | virginica  |\n| 126 | 7.2 | 3.2 | 6.0 | 1.8 | virginica  |\n| 130 | 7.2 | 3.0 | 5.8 | 1.6 | virginica  |\n| 108 | 7.3 | 2.9 | 6.3 | 1.8 | virginica  |\n| 131 | 7.4 | 2.8 | 6.1 | 1.9 | virginica  |\n| 106 | 7.6 | 3.0 | 6.6 | 2.1 | virginica  |\n| 118 | 7.7 | 3.8 | 6.7 | 2.2 | virginica  |\n| 119 | 7.7 | 2.6 | 6.9 | 2.3 | virginica  |\n| 123 | 7.7 | 2.8 | 6.7 | 2.0 | virginica  |\n| 136 | 7.7 | 3.0 | 6.1 | 2.3 | virginica  |\n| 132 | 7.9 | 3.8 | 6.4 | 2.0 | virginica  |\n\n",
            "text/html": [
              "<table class=\"dataframe\">\n",
              "<caption>A data.frame: 150 × 5</caption>\n",
              "<thead>\n",
              "\t<tr><th></th><th scope=col>Sepal.Length</th><th scope=col>Sepal.Width</th><th scope=col>Petal.Length</th><th scope=col>Petal.Width</th><th scope=col>Species</th></tr>\n",
              "\t<tr><th></th><th scope=col>&lt;dbl&gt;</th><th scope=col>&lt;dbl&gt;</th><th scope=col>&lt;dbl&gt;</th><th scope=col>&lt;dbl&gt;</th><th scope=col>&lt;fct&gt;</th></tr>\n",
              "</thead>\n",
              "<tbody>\n",
              "\t<tr><th scope=row>14</th><td>4.3</td><td>3.0</td><td>1.1</td><td>0.1</td><td>setosa    </td></tr>\n",
              "\t<tr><th scope=row>9</th><td>4.4</td><td>2.9</td><td>1.4</td><td>0.2</td><td>setosa    </td></tr>\n",
              "\t<tr><th scope=row>39</th><td>4.4</td><td>3.0</td><td>1.3</td><td>0.2</td><td>setosa    </td></tr>\n",
              "\t<tr><th scope=row>43</th><td>4.4</td><td>3.2</td><td>1.3</td><td>0.2</td><td>setosa    </td></tr>\n",
              "\t<tr><th scope=row>42</th><td>4.5</td><td>2.3</td><td>1.3</td><td>0.3</td><td>setosa    </td></tr>\n",
              "\t<tr><th scope=row>4</th><td>4.6</td><td>3.1</td><td>1.5</td><td>0.2</td><td>setosa    </td></tr>\n",
              "\t<tr><th scope=row>7</th><td>4.6</td><td>3.4</td><td>1.4</td><td>0.3</td><td>setosa    </td></tr>\n",
              "\t<tr><th scope=row>23</th><td>4.6</td><td>3.6</td><td>1.0</td><td>0.2</td><td>setosa    </td></tr>\n",
              "\t<tr><th scope=row>48</th><td>4.6</td><td>3.2</td><td>1.4</td><td>0.2</td><td>setosa    </td></tr>\n",
              "\t<tr><th scope=row>3</th><td>4.7</td><td>3.2</td><td>1.3</td><td>0.2</td><td>setosa    </td></tr>\n",
              "\t<tr><th scope=row>30</th><td>4.7</td><td>3.2</td><td>1.6</td><td>0.2</td><td>setosa    </td></tr>\n",
              "\t<tr><th scope=row>12</th><td>4.8</td><td>3.4</td><td>1.6</td><td>0.2</td><td>setosa    </td></tr>\n",
              "\t<tr><th scope=row>13</th><td>4.8</td><td>3.0</td><td>1.4</td><td>0.1</td><td>setosa    </td></tr>\n",
              "\t<tr><th scope=row>25</th><td>4.8</td><td>3.4</td><td>1.9</td><td>0.2</td><td>setosa    </td></tr>\n",
              "\t<tr><th scope=row>31</th><td>4.8</td><td>3.1</td><td>1.6</td><td>0.2</td><td>setosa    </td></tr>\n",
              "\t<tr><th scope=row>46</th><td>4.8</td><td>3.0</td><td>1.4</td><td>0.3</td><td>setosa    </td></tr>\n",
              "\t<tr><th scope=row>2</th><td>4.9</td><td>3.0</td><td>1.4</td><td>0.2</td><td>setosa    </td></tr>\n",
              "\t<tr><th scope=row>10</th><td>4.9</td><td>3.1</td><td>1.5</td><td>0.1</td><td>setosa    </td></tr>\n",
              "\t<tr><th scope=row>35</th><td>4.9</td><td>3.1</td><td>1.5</td><td>0.2</td><td>setosa    </td></tr>\n",
              "\t<tr><th scope=row>38</th><td>4.9</td><td>3.6</td><td>1.4</td><td>0.1</td><td>setosa    </td></tr>\n",
              "\t<tr><th scope=row>58</th><td>4.9</td><td>2.4</td><td>3.3</td><td>1.0</td><td>versicolor</td></tr>\n",
              "\t<tr><th scope=row>107</th><td>4.9</td><td>2.5</td><td>4.5</td><td>1.7</td><td>virginica </td></tr>\n",
              "\t<tr><th scope=row>5</th><td>5.0</td><td>3.6</td><td>1.4</td><td>0.2</td><td>setosa    </td></tr>\n",
              "\t<tr><th scope=row>8</th><td>5.0</td><td>3.4</td><td>1.5</td><td>0.2</td><td>setosa    </td></tr>\n",
              "\t<tr><th scope=row>26</th><td>5.0</td><td>3.0</td><td>1.6</td><td>0.2</td><td>setosa    </td></tr>\n",
              "\t<tr><th scope=row>27</th><td>5.0</td><td>3.4</td><td>1.6</td><td>0.4</td><td>setosa    </td></tr>\n",
              "\t<tr><th scope=row>36</th><td>5.0</td><td>3.2</td><td>1.2</td><td>0.2</td><td>setosa    </td></tr>\n",
              "\t<tr><th scope=row>41</th><td>5.0</td><td>3.5</td><td>1.3</td><td>0.3</td><td>setosa    </td></tr>\n",
              "\t<tr><th scope=row>44</th><td>5.0</td><td>3.5</td><td>1.6</td><td>0.6</td><td>setosa    </td></tr>\n",
              "\t<tr><th scope=row>50</th><td>5.0</td><td>3.3</td><td>1.4</td><td>0.2</td><td>setosa    </td></tr>\n",
              "\t<tr><th scope=row>⋮</th><td>⋮</td><td>⋮</td><td>⋮</td><td>⋮</td><td>⋮</td></tr>\n",
              "\t<tr><th scope=row>59</th><td>6.6</td><td>2.9</td><td>4.6</td><td>1.3</td><td>versicolor</td></tr>\n",
              "\t<tr><th scope=row>76</th><td>6.6</td><td>3.0</td><td>4.4</td><td>1.4</td><td>versicolor</td></tr>\n",
              "\t<tr><th scope=row>66</th><td>6.7</td><td>3.1</td><td>4.4</td><td>1.4</td><td>versicolor</td></tr>\n",
              "\t<tr><th scope=row>78</th><td>6.7</td><td>3.0</td><td>5.0</td><td>1.7</td><td>versicolor</td></tr>\n",
              "\t<tr><th scope=row>87</th><td>6.7</td><td>3.1</td><td>4.7</td><td>1.5</td><td>versicolor</td></tr>\n",
              "\t<tr><th scope=row>109</th><td>6.7</td><td>2.5</td><td>5.8</td><td>1.8</td><td>virginica </td></tr>\n",
              "\t<tr><th scope=row>125</th><td>6.7</td><td>3.3</td><td>5.7</td><td>2.1</td><td>virginica </td></tr>\n",
              "\t<tr><th scope=row>141</th><td>6.7</td><td>3.1</td><td>5.6</td><td>2.4</td><td>virginica </td></tr>\n",
              "\t<tr><th scope=row>145</th><td>6.7</td><td>3.3</td><td>5.7</td><td>2.5</td><td>virginica </td></tr>\n",
              "\t<tr><th scope=row>146</th><td>6.7</td><td>3.0</td><td>5.2</td><td>2.3</td><td>virginica </td></tr>\n",
              "\t<tr><th scope=row>77</th><td>6.8</td><td>2.8</td><td>4.8</td><td>1.4</td><td>versicolor</td></tr>\n",
              "\t<tr><th scope=row>113</th><td>6.8</td><td>3.0</td><td>5.5</td><td>2.1</td><td>virginica </td></tr>\n",
              "\t<tr><th scope=row>144</th><td>6.8</td><td>3.2</td><td>5.9</td><td>2.3</td><td>virginica </td></tr>\n",
              "\t<tr><th scope=row>53</th><td>6.9</td><td>3.1</td><td>4.9</td><td>1.5</td><td>versicolor</td></tr>\n",
              "\t<tr><th scope=row>121</th><td>6.9</td><td>3.2</td><td>5.7</td><td>2.3</td><td>virginica </td></tr>\n",
              "\t<tr><th scope=row>140</th><td>6.9</td><td>3.1</td><td>5.4</td><td>2.1</td><td>virginica </td></tr>\n",
              "\t<tr><th scope=row>142</th><td>6.9</td><td>3.1</td><td>5.1</td><td>2.3</td><td>virginica </td></tr>\n",
              "\t<tr><th scope=row>51</th><td>7.0</td><td>3.2</td><td>4.7</td><td>1.4</td><td>versicolor</td></tr>\n",
              "\t<tr><th scope=row>103</th><td>7.1</td><td>3.0</td><td>5.9</td><td>2.1</td><td>virginica </td></tr>\n",
              "\t<tr><th scope=row>110</th><td>7.2</td><td>3.6</td><td>6.1</td><td>2.5</td><td>virginica </td></tr>\n",
              "\t<tr><th scope=row>126</th><td>7.2</td><td>3.2</td><td>6.0</td><td>1.8</td><td>virginica </td></tr>\n",
              "\t<tr><th scope=row>130</th><td>7.2</td><td>3.0</td><td>5.8</td><td>1.6</td><td>virginica </td></tr>\n",
              "\t<tr><th scope=row>108</th><td>7.3</td><td>2.9</td><td>6.3</td><td>1.8</td><td>virginica </td></tr>\n",
              "\t<tr><th scope=row>131</th><td>7.4</td><td>2.8</td><td>6.1</td><td>1.9</td><td>virginica </td></tr>\n",
              "\t<tr><th scope=row>106</th><td>7.6</td><td>3.0</td><td>6.6</td><td>2.1</td><td>virginica </td></tr>\n",
              "\t<tr><th scope=row>118</th><td>7.7</td><td>3.8</td><td>6.7</td><td>2.2</td><td>virginica </td></tr>\n",
              "\t<tr><th scope=row>119</th><td>7.7</td><td>2.6</td><td>6.9</td><td>2.3</td><td>virginica </td></tr>\n",
              "\t<tr><th scope=row>123</th><td>7.7</td><td>2.8</td><td>6.7</td><td>2.0</td><td>virginica </td></tr>\n",
              "\t<tr><th scope=row>136</th><td>7.7</td><td>3.0</td><td>6.1</td><td>2.3</td><td>virginica </td></tr>\n",
              "\t<tr><th scope=row>132</th><td>7.9</td><td>3.8</td><td>6.4</td><td>2.0</td><td>virginica </td></tr>\n",
              "</tbody>\n",
              "</table>\n"
            ]
          },
          "metadata": {
            "tags": []
          }
        }
      ]
    },
    {
      "cell_type": "code",
      "metadata": {
        "colab": {
          "base_uri": "https://localhost:8080/",
          "height": 34
        },
        "id": "dtqVzV0mN2ua",
        "outputId": "63a4d7b4-df05-483f-aab0-6eb5d8fa2f05"
      },
      "source": [
        "x<-c(1,1,2,2,3,3)\r\n",
        "unique(x)"
      ],
      "execution_count": 16,
      "outputs": [
        {
          "output_type": "display_data",
          "data": {
            "text/plain": [
              "[1] 1 2 3"
            ],
            "text/latex": "\\begin{enumerate*}\n\\item 1\n\\item 2\n\\item 3\n\\end{enumerate*}\n",
            "text/markdown": "1. 1\n2. 2\n3. 3\n\n\n",
            "text/html": [
              "<style>\n",
              ".list-inline {list-style: none; margin:0; padding: 0}\n",
              ".list-inline>li {display: inline-block}\n",
              ".list-inline>li:not(:last-child)::after {content: \"\\00b7\"; padding: 0 .5ex}\n",
              "</style>\n",
              "<ol class=list-inline><li>1</li><li>2</li><li>3</li></ol>\n"
            ]
          },
          "metadata": {
            "tags": []
          }
        }
      ]
    },
    {
      "cell_type": "code",
      "metadata": {
        "id": "esq45_0WN9hr"
      },
      "source": [
        "x<-1\r\n",
        "y<-2\r\n",
        "rm(x,y)"
      ],
      "execution_count": 17,
      "outputs": []
    },
    {
      "cell_type": "code",
      "metadata": {
        "colab": {
          "base_uri": "https://localhost:8080/",
          "height": 190
        },
        "id": "gOIXKcycOBQf",
        "outputId": "3745ce4c-9381-4c16-d4ab-7d42d301d77c"
      },
      "source": [
        "aggregate(Petal.Length~Species,iris,mean)"
      ],
      "execution_count": 18,
      "outputs": [
        {
          "output_type": "display_data",
          "data": {
            "text/plain": [
              "  Species    Petal.Length\n",
              "1 setosa     1.462       \n",
              "2 versicolor 4.260       \n",
              "3 virginica  5.552       "
            ],
            "text/latex": "A data.frame: 3 × 2\n\\begin{tabular}{ll}\n Species & Petal.Length\\\\\n <fct> & <dbl>\\\\\n\\hline\n\t setosa     & 1.462\\\\\n\t versicolor & 4.260\\\\\n\t virginica  & 5.552\\\\\n\\end{tabular}\n",
            "text/markdown": "\nA data.frame: 3 × 2\n\n| Species &lt;fct&gt; | Petal.Length &lt;dbl&gt; |\n|---|---|\n| setosa     | 1.462 |\n| versicolor | 4.260 |\n| virginica  | 5.552 |\n\n",
            "text/html": [
              "<table class=\"dataframe\">\n",
              "<caption>A data.frame: 3 × 2</caption>\n",
              "<thead>\n",
              "\t<tr><th scope=col>Species</th><th scope=col>Petal.Length</th></tr>\n",
              "\t<tr><th scope=col>&lt;fct&gt;</th><th scope=col>&lt;dbl&gt;</th></tr>\n",
              "</thead>\n",
              "<tbody>\n",
              "\t<tr><td>setosa    </td><td>1.462</td></tr>\n",
              "\t<tr><td>versicolor</td><td>4.260</td></tr>\n",
              "\t<tr><td>virginica </td><td>5.552</td></tr>\n",
              "</tbody>\n",
              "</table>\n"
            ]
          },
          "metadata": {
            "tags": []
          }
        }
      ]
    },
    {
      "cell_type": "code",
      "metadata": {
        "colab": {
          "base_uri": "https://localhost:8080/",
          "height": 190
        },
        "id": "cTFkGSHIOJ-S",
        "outputId": "bc055b64-3e93-4e7f-a2ed-93d5d87b4414"
      },
      "source": [
        "aggregate(cbind(Petal.Length,Sepal.Length)~Species,iris,mean)"
      ],
      "execution_count": 20,
      "outputs": [
        {
          "output_type": "display_data",
          "data": {
            "text/plain": [
              "  Species    Petal.Length Sepal.Length\n",
              "1 setosa     1.462        5.006       \n",
              "2 versicolor 4.260        5.936       \n",
              "3 virginica  5.552        6.588       "
            ],
            "text/latex": "A data.frame: 3 × 3\n\\begin{tabular}{lll}\n Species & Petal.Length & Sepal.Length\\\\\n <fct> & <dbl> & <dbl>\\\\\n\\hline\n\t setosa     & 1.462 & 5.006\\\\\n\t versicolor & 4.260 & 5.936\\\\\n\t virginica  & 5.552 & 6.588\\\\\n\\end{tabular}\n",
            "text/markdown": "\nA data.frame: 3 × 3\n\n| Species &lt;fct&gt; | Petal.Length &lt;dbl&gt; | Sepal.Length &lt;dbl&gt; |\n|---|---|---|\n| setosa     | 1.462 | 5.006 |\n| versicolor | 4.260 | 5.936 |\n| virginica  | 5.552 | 6.588 |\n\n",
            "text/html": [
              "<table class=\"dataframe\">\n",
              "<caption>A data.frame: 3 × 3</caption>\n",
              "<thead>\n",
              "\t<tr><th scope=col>Species</th><th scope=col>Petal.Length</th><th scope=col>Sepal.Length</th></tr>\n",
              "\t<tr><th scope=col>&lt;fct&gt;</th><th scope=col>&lt;dbl&gt;</th><th scope=col>&lt;dbl&gt;</th></tr>\n",
              "</thead>\n",
              "<tbody>\n",
              "\t<tr><td>setosa    </td><td>1.462</td><td>5.006</td></tr>\n",
              "\t<tr><td>versicolor</td><td>4.260</td><td>5.936</td></tr>\n",
              "\t<tr><td>virginica </td><td>5.552</td><td>6.588</td></tr>\n",
              "</tbody>\n",
              "</table>\n"
            ]
          },
          "metadata": {
            "tags": []
          }
        }
      ]
    },
    {
      "cell_type": "code",
      "metadata": {
        "id": "UKNCLk28OSjA"
      },
      "source": [
        ""
      ],
      "execution_count": null,
      "outputs": []
    }
  ]
}