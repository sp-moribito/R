{
 "cells": [
  {
   "cell_type": "code",
   "execution_count": 1,
   "metadata": {},
   "outputs": [
    {
     "data": {
      "text/html": [
       "<table>\n",
       "<thead><tr><th scope=col>RESERV_NO</th><th scope=col>RESERV_DATE</th><th scope=col>RESERV_TIME</th><th scope=col>CUSTOMER_ID</th><th scope=col>BRANCH</th><th scope=col>VISITOR_CNT</th><th scope=col>CANCEL</th></tr></thead>\n",
       "<tbody>\n",
       "\t<tr><td>2019082701</td><td>20190827  </td><td>1800      </td><td>W1340914  </td><td>마포      </td><td>2         </td><td>N         </td></tr>\n",
       "\t<tr><td>2019082602</td><td>20190826  </td><td>1200      </td><td>W341658   </td><td>동작      </td><td>5         </td><td>N         </td></tr>\n",
       "\t<tr><td>2019082601</td><td>20190826  </td><td>1800      </td><td>W1328993  </td><td>강북      </td><td>4         </td><td>N         </td></tr>\n",
       "\t<tr><td>2019082501</td><td>20190825  </td><td>1800      </td><td>W1340463  </td><td>용산      </td><td>2         </td><td>N         </td></tr>\n",
       "\t<tr><td>2019082401</td><td>20190824  </td><td>1200      </td><td>W1344912  </td><td>강동      </td><td>3         </td><td>N         </td></tr>\n",
       "\t<tr><td>2019082301</td><td>20190823  </td><td>1800      </td><td>W1344753  </td><td>영등포    </td><td>2         </td><td>N         </td></tr>\n",
       "</tbody>\n",
       "</table>\n"
      ],
      "text/latex": [
       "\\begin{tabular}{r|lllllll}\n",
       " RESERV\\_NO & RESERV\\_DATE & RESERV\\_TIME & CUSTOMER\\_ID & BRANCH & VISITOR\\_CNT & CANCEL\\\\\n",
       "\\hline\n",
       "\t 2019082701 & 20190827   & 1800       & W1340914   & 마포       & 2          & N         \\\\\n",
       "\t 2019082602 & 20190826   & 1200       & W341658    & 동작       & 5          & N         \\\\\n",
       "\t 2019082601 & 20190826   & 1800       & W1328993   & 강북       & 4          & N         \\\\\n",
       "\t 2019082501 & 20190825   & 1800       & W1340463   & 용산       & 2          & N         \\\\\n",
       "\t 2019082401 & 20190824   & 1200       & W1344912   & 강동       & 3          & N         \\\\\n",
       "\t 2019082301 & 20190823   & 1800       & W1344753   & 영등포     & 2          & N         \\\\\n",
       "\\end{tabular}\n"
      ],
      "text/markdown": [
       "\n",
       "| RESERV_NO | RESERV_DATE | RESERV_TIME | CUSTOMER_ID | BRANCH | VISITOR_CNT | CANCEL |\n",
       "|---|---|---|---|---|---|---|\n",
       "| 2019082701 | 20190827   | 1800       | W1340914   | 마포       | 2          | N          |\n",
       "| 2019082602 | 20190826   | 1200       | W341658    | 동작       | 5          | N          |\n",
       "| 2019082601 | 20190826   | 1800       | W1328993   | 강북       | 4          | N          |\n",
       "| 2019082501 | 20190825   | 1800       | W1340463   | 용산       | 2          | N          |\n",
       "| 2019082401 | 20190824   | 1200       | W1344912   | 강동       | 3          | N          |\n",
       "| 2019082301 | 20190823   | 1800       | W1344753   | 영등포     | 2          | N          |\n",
       "\n"
      ],
      "text/plain": [
       "  RESERV_NO  RESERV_DATE RESERV_TIME CUSTOMER_ID BRANCH VISITOR_CNT CANCEL\n",
       "1 2019082701 20190827    1800        W1340914    마포   2           N     \n",
       "2 2019082602 20190826    1200        W341658     동작   5           N     \n",
       "3 2019082601 20190826    1800        W1328993    강북   4           N     \n",
       "4 2019082501 20190825    1800        W1340463    용산   2           N     \n",
       "5 2019082401 20190824    1200        W1344912    강동   3           N     \n",
       "6 2019082301 20190823    1800        W1344753    영등포 2           N     "
      ]
     },
     "metadata": {},
     "output_type": "display_data"
    }
   ],
   "source": [
    "x <- read.csv(\"reservation_r_csv.csv\")\n",
    "head(x)"
   ]
  },
  {
   "cell_type": "code",
   "execution_count": 2,
   "metadata": {},
   "outputs": [
    {
     "data": {
      "text/plain": [
       "[1] '3.6.1'"
      ]
     },
     "metadata": {},
     "output_type": "display_data"
    }
   ],
   "source": [
    "package_version(R.version)"
   ]
  },
  {
   "cell_type": "code",
   "execution_count": 3,
   "metadata": {},
   "outputs": [
    {
     "data": {
      "text/html": [
       "<table>\n",
       "<thead><tr><th scope=col>RESERV_NO</th><th scope=col>RESERV_DATE</th><th scope=col>RESERV_TIME</th><th scope=col>CUSTOMER_ID</th><th scope=col>BRANCH</th><th scope=col>VISITOR_CNT</th><th scope=col>CANCEL</th></tr></thead>\n",
       "<tbody>\n",
       "\t<tr><td>2019082701</td><td>20190827  </td><td>1800      </td><td>W1340914  </td><td>마포      </td><td>2         </td><td>N         </td></tr>\n",
       "\t<tr><td>2019082602</td><td>20190826  </td><td>1200      </td><td>W341658   </td><td>동작      </td><td>5         </td><td>N         </td></tr>\n",
       "\t<tr><td>2019082601</td><td>20190826  </td><td>1800      </td><td>W1328993  </td><td>강북      </td><td>4         </td><td>N         </td></tr>\n",
       "\t<tr><td>2019082501</td><td>20190825  </td><td>1800      </td><td>W1340463  </td><td>용산      </td><td>2         </td><td>N         </td></tr>\n",
       "\t<tr><td>2019082401</td><td>20190824  </td><td>1200      </td><td>W1344912  </td><td>강동      </td><td>3         </td><td>N         </td></tr>\n",
       "\t<tr><td>2019082301</td><td>20190823  </td><td>1800      </td><td>W1344753  </td><td>영등포    </td><td>2         </td><td>N         </td></tr>\n",
       "</tbody>\n",
       "</table>\n"
      ],
      "text/latex": [
       "\\begin{tabular}{r|lllllll}\n",
       " RESERV\\_NO & RESERV\\_DATE & RESERV\\_TIME & CUSTOMER\\_ID & BRANCH & VISITOR\\_CNT & CANCEL\\\\\n",
       "\\hline\n",
       "\t 2019082701 & 20190827   & 1800       & W1340914   & 마포       & 2          & N         \\\\\n",
       "\t 2019082602 & 20190826   & 1200       & W341658    & 동작       & 5          & N         \\\\\n",
       "\t 2019082601 & 20190826   & 1800       & W1328993   & 강북       & 4          & N         \\\\\n",
       "\t 2019082501 & 20190825   & 1800       & W1340463   & 용산       & 2          & N         \\\\\n",
       "\t 2019082401 & 20190824   & 1200       & W1344912   & 강동       & 3          & N         \\\\\n",
       "\t 2019082301 & 20190823   & 1800       & W1344753   & 영등포     & 2          & N         \\\\\n",
       "\\end{tabular}\n"
      ],
      "text/markdown": [
       "\n",
       "| RESERV_NO | RESERV_DATE | RESERV_TIME | CUSTOMER_ID | BRANCH | VISITOR_CNT | CANCEL |\n",
       "|---|---|---|---|---|---|---|\n",
       "| 2019082701 | 20190827   | 1800       | W1340914   | 마포       | 2          | N          |\n",
       "| 2019082602 | 20190826   | 1200       | W341658    | 동작       | 5          | N          |\n",
       "| 2019082601 | 20190826   | 1800       | W1328993   | 강북       | 4          | N          |\n",
       "| 2019082501 | 20190825   | 1800       | W1340463   | 용산       | 2          | N          |\n",
       "| 2019082401 | 20190824   | 1200       | W1344912   | 강동       | 3          | N          |\n",
       "| 2019082301 | 20190823   | 1800       | W1344753   | 영등포     | 2          | N          |\n",
       "\n"
      ],
      "text/plain": [
       "  RESERV_NO  RESERV_DATE RESERV_TIME CUSTOMER_ID BRANCH VISITOR_CNT CANCEL\n",
       "1 2019082701 20190827    1800        W1340914    마포   2           N     \n",
       "2 2019082602 20190826    1200        W341658     동작   5           N     \n",
       "3 2019082601 20190826    1800        W1328993    강북   4           N     \n",
       "4 2019082501 20190825    1800        W1340463    용산   2           N     \n",
       "5 2019082401 20190824    1200        W1344912    강동   3           N     \n",
       "6 2019082301 20190823    1800        W1344753    영등포 2           N     "
      ]
     },
     "metadata": {},
     "output_type": "display_data"
    }
   ],
   "source": [
    "x <- read.csv(\"r_practice/reservation_r_csv.csv\")\n",
    "head(x)"
   ]
  },
  {
   "cell_type": "code",
   "execution_count": 4,
   "metadata": {},
   "outputs": [
    {
     "name": "stdout",
     "output_type": "stream",
     "text": [
      "package 'readxl' successfully unpacked and MD5 sums checked\n",
      "\n",
      "The downloaded binary packages are in\n",
      "\tC:\\Users\\Moribito\\AppData\\Local\\Temp\\RtmpoTiK8o\\downloaded_packages\n"
     ]
    }
   ],
   "source": [
    "install.packages(\"readxl\")"
   ]
  },
  {
   "cell_type": "code",
   "execution_count": 6,
   "metadata": {},
   "outputs": [
    {
     "name": "stderr",
     "output_type": "stream",
     "text": [
      "Warning message:\n",
      "\"package 'readxl' was built under R version 3.6.3\""
     ]
    },
    {
     "data": {
      "text/html": [
       "<table>\n",
       "<thead><tr><th scope=col>RESERV_NO</th><th scope=col>RESERV_DATE</th><th scope=col>RESERV_TIME</th><th scope=col>CUSTOMER_ID</th><th scope=col>BRANCH</th><th scope=col>VISITOR_CNT</th><th scope=col>CANCEL</th></tr></thead>\n",
       "<tbody>\n",
       "\t<tr><td>2019082701</td><td>20190827  </td><td>1800      </td><td>W1340914  </td><td>마포      </td><td>2         </td><td>N         </td></tr>\n",
       "\t<tr><td>2019082602</td><td>20190826  </td><td>1200      </td><td>W341658   </td><td>동작      </td><td>5         </td><td>N         </td></tr>\n",
       "\t<tr><td>2019082601</td><td>20190826  </td><td>1800      </td><td>W1328993  </td><td>강북      </td><td>4         </td><td>N         </td></tr>\n",
       "\t<tr><td>2019082501</td><td>20190825  </td><td>1800      </td><td>W1340463  </td><td>용산      </td><td>2         </td><td>N         </td></tr>\n",
       "\t<tr><td>2019082401</td><td>20190824  </td><td>1200      </td><td>W1344912  </td><td>강동      </td><td>3         </td><td>N         </td></tr>\n",
       "\t<tr><td>2019082301</td><td>20190823  </td><td>1800      </td><td>W1344753  </td><td>영등포    </td><td>2         </td><td>N         </td></tr>\n",
       "</tbody>\n",
       "</table>\n"
      ],
      "text/latex": [
       "\\begin{tabular}{r|lllllll}\n",
       " RESERV\\_NO & RESERV\\_DATE & RESERV\\_TIME & CUSTOMER\\_ID & BRANCH & VISITOR\\_CNT & CANCEL\\\\\n",
       "\\hline\n",
       "\t 2019082701 & 20190827   & 1800       & W1340914   & 마포       & 2          & N         \\\\\n",
       "\t 2019082602 & 20190826   & 1200       & W341658    & 동작       & 5          & N         \\\\\n",
       "\t 2019082601 & 20190826   & 1800       & W1328993   & 강북       & 4          & N         \\\\\n",
       "\t 2019082501 & 20190825   & 1800       & W1340463   & 용산       & 2          & N         \\\\\n",
       "\t 2019082401 & 20190824   & 1200       & W1344912   & 강동       & 3          & N         \\\\\n",
       "\t 2019082301 & 20190823   & 1800       & W1344753   & 영등포     & 2          & N         \\\\\n",
       "\\end{tabular}\n"
      ],
      "text/markdown": [
       "\n",
       "| RESERV_NO | RESERV_DATE | RESERV_TIME | CUSTOMER_ID | BRANCH | VISITOR_CNT | CANCEL |\n",
       "|---|---|---|---|---|---|---|\n",
       "| 2019082701 | 20190827   | 1800       | W1340914   | 마포       | 2          | N          |\n",
       "| 2019082602 | 20190826   | 1200       | W341658    | 동작       | 5          | N          |\n",
       "| 2019082601 | 20190826   | 1800       | W1328993   | 강북       | 4          | N          |\n",
       "| 2019082501 | 20190825   | 1800       | W1340463   | 용산       | 2          | N          |\n",
       "| 2019082401 | 20190824   | 1200       | W1344912   | 강동       | 3          | N          |\n",
       "| 2019082301 | 20190823   | 1800       | W1344753   | 영등포     | 2          | N          |\n",
       "\n"
      ],
      "text/plain": [
       "  RESERV_NO  RESERV_DATE RESERV_TIME CUSTOMER_ID BRANCH VISITOR_CNT CANCEL\n",
       "1 2019082701 20190827    1800        W1340914    마포   2           N     \n",
       "2 2019082602 20190826    1200        W341658     동작   5           N     \n",
       "3 2019082601 20190826    1800        W1328993    강북   4           N     \n",
       "4 2019082501 20190825    1800        W1340463    용산   2           N     \n",
       "5 2019082401 20190824    1200        W1344912    강동   3           N     \n",
       "6 2019082301 20190823    1800        W1344753    영등포 2           N     "
      ]
     },
     "metadata": {},
     "output_type": "display_data"
    }
   ],
   "source": [
    "library(readxl)\n",
    "y <- read_excel(\"r_practice/reservation_r_excel.xlsx\")\n",
    "head(y)"
   ]
  },
  {
   "cell_type": "code",
   "execution_count": 8,
   "metadata": {},
   "outputs": [],
   "source": [
    "write.csv(x,\"csv_output.csv\")"
   ]
  },
  {
   "cell_type": "code",
   "execution_count": 9,
   "metadata": {},
   "outputs": [
    {
     "name": "stdout",
     "output_type": "stream",
     "text": [
      "package 'writexl' successfully unpacked and MD5 sums checked\n",
      "\n",
      "The downloaded binary packages are in\n",
      "\tC:\\Users\\Moribito\\AppData\\Local\\Temp\\RtmpoTiK8o\\downloaded_packages\n"
     ]
    }
   ],
   "source": [
    "install.packages(\"writexl\")"
   ]
  },
  {
   "cell_type": "code",
   "execution_count": 10,
   "metadata": {},
   "outputs": [
    {
     "name": "stderr",
     "output_type": "stream",
     "text": [
      "Warning message:\n",
      "\"package 'writexl' was built under R version 3.6.3\""
     ]
    }
   ],
   "source": [
    "library(writexl)\n",
    "write_xlsx(y,\"excel_output.xlsx\")"
   ]
  },
  {
   "cell_type": "code",
   "execution_count": 12,
   "metadata": {},
   "outputs": [
    {
     "data": {
      "text/html": [
       "1"
      ],
      "text/latex": [
       "1"
      ],
      "text/markdown": [
       "1"
      ],
      "text/plain": [
       "[1] 1"
      ]
     },
     "metadata": {},
     "output_type": "display_data"
    },
    {
     "data": {
      "text/html": [
       "2"
      ],
      "text/latex": [
       "2"
      ],
      "text/markdown": [
       "2"
      ],
      "text/plain": [
       "[1] 2"
      ]
     },
     "metadata": {},
     "output_type": "display_data"
    },
    {
     "data": {
      "text/html": [
       "3"
      ],
      "text/latex": [
       "3"
      ],
      "text/markdown": [
       "3"
      ],
      "text/plain": [
       "[1] 3"
      ]
     },
     "metadata": {},
     "output_type": "display_data"
    }
   ],
   "source": [
    "sink(\"output.txt\")\n",
    "x <- 1\n",
    "y <- 2\n",
    "x\n",
    "y\n",
    "x+y\n",
    "\n",
    "sink()"
   ]
  },
  {
   "cell_type": "code",
   "execution_count": 13,
   "metadata": {},
   "outputs": [],
   "source": [
    "x <- c(1,2,3)\n",
    "y <- c(4,5,6)\n",
    "save(x,y,file=\"save.Rdata\")"
   ]
  },
  {
   "cell_type": "code",
   "execution_count": 14,
   "metadata": {},
   "outputs": [],
   "source": [
    "rm=(list=ls())"
   ]
  },
  {
   "cell_type": "code",
   "execution_count": 15,
   "metadata": {},
   "outputs": [],
   "source": [
    "load(\"save.Rdata\")"
   ]
  },
  {
   "cell_type": "code",
   "execution_count": 16,
   "metadata": {},
   "outputs": [],
   "source": [
    "x <- c(1,2,3)\n",
    "y <- c(4,5,6)\n",
    "z <- c(7,8,9)\n",
    "save(list=ls(),file=\"save2.Rdata\")"
   ]
  },
  {
   "cell_type": "code",
   "execution_count": 19,
   "metadata": {},
   "outputs": [],
   "source": [
    "connect <- file(\"result.txt\",\"w\")\n",
    "x <-iris$Sepal.Length\n",
    "cat(summary(x),file=connect)\n",
    "close(connect)"
   ]
  },
  {
   "cell_type": "code",
   "execution_count": 20,
   "metadata": {},
   "outputs": [
    {
     "data": {
      "text/plain": [
       "   Min. 1st Qu.  Median    Mean 3rd Qu.    Max. \n",
       "  4.300   5.100   5.800   5.843   6.400   7.900 "
      ]
     },
     "metadata": {},
     "output_type": "display_data"
    }
   ],
   "source": [
    "summary(x)"
   ]
  },
  {
   "cell_type": "code",
   "execution_count": 21,
   "metadata": {},
   "outputs": [
    {
     "data": {
      "text/html": [
       "<table>\n",
       "<thead><tr><th scope=col>Sepal.Length</th><th scope=col>Sepal.Width</th><th scope=col>Petal.Length</th><th scope=col>Petal.Width</th><th scope=col>Species</th></tr></thead>\n",
       "<tbody>\n",
       "\t<tr><td>5.1   </td><td>3.5   </td><td>1.4   </td><td>0.2   </td><td>setosa</td></tr>\n",
       "\t<tr><td>4.9   </td><td>3.0   </td><td>1.4   </td><td>0.2   </td><td>setosa</td></tr>\n",
       "\t<tr><td>4.7   </td><td>3.2   </td><td>1.3   </td><td>0.2   </td><td>setosa</td></tr>\n",
       "\t<tr><td>4.6   </td><td>3.1   </td><td>1.5   </td><td>0.2   </td><td>setosa</td></tr>\n",
       "\t<tr><td>5.0   </td><td>3.6   </td><td>1.4   </td><td>0.2   </td><td>setosa</td></tr>\n",
       "\t<tr><td>5.4   </td><td>3.9   </td><td>1.7   </td><td>0.4   </td><td>setosa</td></tr>\n",
       "</tbody>\n",
       "</table>\n"
      ],
      "text/latex": [
       "\\begin{tabular}{r|lllll}\n",
       " Sepal.Length & Sepal.Width & Petal.Length & Petal.Width & Species\\\\\n",
       "\\hline\n",
       "\t 5.1    & 3.5    & 1.4    & 0.2    & setosa\\\\\n",
       "\t 4.9    & 3.0    & 1.4    & 0.2    & setosa\\\\\n",
       "\t 4.7    & 3.2    & 1.3    & 0.2    & setosa\\\\\n",
       "\t 4.6    & 3.1    & 1.5    & 0.2    & setosa\\\\\n",
       "\t 5.0    & 3.6    & 1.4    & 0.2    & setosa\\\\\n",
       "\t 5.4    & 3.9    & 1.7    & 0.4    & setosa\\\\\n",
       "\\end{tabular}\n"
      ],
      "text/markdown": [
       "\n",
       "| Sepal.Length | Sepal.Width | Petal.Length | Petal.Width | Species |\n",
       "|---|---|---|---|---|\n",
       "| 5.1    | 3.5    | 1.4    | 0.2    | setosa |\n",
       "| 4.9    | 3.0    | 1.4    | 0.2    | setosa |\n",
       "| 4.7    | 3.2    | 1.3    | 0.2    | setosa |\n",
       "| 4.6    | 3.1    | 1.5    | 0.2    | setosa |\n",
       "| 5.0    | 3.6    | 1.4    | 0.2    | setosa |\n",
       "| 5.4    | 3.9    | 1.7    | 0.4    | setosa |\n",
       "\n"
      ],
      "text/plain": [
       "  Sepal.Length Sepal.Width Petal.Length Petal.Width Species\n",
       "1 5.1          3.5         1.4          0.2         setosa \n",
       "2 4.9          3.0         1.4          0.2         setosa \n",
       "3 4.7          3.2         1.3          0.2         setosa \n",
       "4 4.6          3.1         1.5          0.2         setosa \n",
       "5 5.0          3.6         1.4          0.2         setosa \n",
       "6 5.4          3.9         1.7          0.4         setosa "
      ]
     },
     "metadata": {},
     "output_type": "display_data"
    }
   ],
   "source": [
    "head(iris)"
   ]
  },
  {
   "cell_type": "code",
   "execution_count": 22,
   "metadata": {},
   "outputs": [
    {
     "data": {
      "text/plain": [
       "  Sepal.Length    Sepal.Width     Petal.Length    Petal.Width   \n",
       " Min.   :4.300   Min.   :2.000   Min.   :1.000   Min.   :0.100  \n",
       " 1st Qu.:5.100   1st Qu.:2.800   1st Qu.:1.600   1st Qu.:0.300  \n",
       " Median :5.800   Median :3.000   Median :4.350   Median :1.300  \n",
       " Mean   :5.843   Mean   :3.057   Mean   :3.758   Mean   :1.199  \n",
       " 3rd Qu.:6.400   3rd Qu.:3.300   3rd Qu.:5.100   3rd Qu.:1.800  \n",
       " Max.   :7.900   Max.   :4.400   Max.   :6.900   Max.   :2.500  \n",
       "       Species  \n",
       " setosa    :50  \n",
       " versicolor:50  \n",
       " virginica :50  \n",
       "                \n",
       "                \n",
       "                "
      ]
     },
     "metadata": {},
     "output_type": "display_data"
    }
   ],
   "source": [
    "summary(iris)"
   ]
  },
  {
   "cell_type": "code",
   "execution_count": 24,
   "metadata": {},
   "outputs": [
    {
     "data": {
      "text/plain": [
       "   RESERV_NO          RESERV_DATE        RESERV_TIME     CUSTOMER_ID \n",
       " Min.   :2.019e+09   Min.   :20190603   Min.   :1200   W1338910:  9  \n",
       " 1st Qu.:2.019e+09   1st Qu.:20190912   1st Qu.:1200   W341634 :  9  \n",
       " Median :2.019e+09   Median :20191113   Median :1800   W1337923:  8  \n",
       " Mean   :2.019e+09   Mean   :20191043   Mean   :1553   W1342347:  8  \n",
       " 3rd Qu.:2.019e+09   3rd Qu.:20191213   3rd Qu.:1800   W1336410:  7  \n",
       " Max.   :2.019e+09   Max.   :20191231   Max.   :1800   W1340914:  7  \n",
       "                                                       (Other) :348  \n",
       "     BRANCH     VISITOR_CNT     CANCEL \n",
       " 강남   : 49   Min.   : 1.000   N:337  \n",
       " 강서   : 22   1st Qu.: 2.000   Y: 59  \n",
       " 마포   : 22   Median : 3.000          \n",
       " 서초   : 22   Mean   : 3.641          \n",
       " 동작   : 21   3rd Qu.: 4.000          \n",
       " 동대문 : 20   Max.   :23.000          \n",
       " (Other):240                           "
      ]
     },
     "metadata": {},
     "output_type": "display_data"
    }
   ],
   "source": [
    "x <- read.csv(\"r_practice/reservation_r_csv.csv\")\n",
    "summary(x)"
   ]
  },
  {
   "cell_type": "code",
   "execution_count": 25,
   "metadata": {},
   "outputs": [],
   "source": [
    "library(help=datasets)"
   ]
  },
  {
   "cell_type": "code",
   "execution_count": 27,
   "metadata": {},
   "outputs": [
    {
     "data": {
      "text/html": [
       "<table>\n",
       "<thead><tr><th scope=col>Sepal.Length</th><th scope=col>Sepal.Width</th><th scope=col>Petal.Length</th><th scope=col>Petal.Width</th><th scope=col>Species</th></tr></thead>\n",
       "<tbody>\n",
       "\t<tr><td>5.1   </td><td>3.5   </td><td>1.4   </td><td>0.2   </td><td>setosa</td></tr>\n",
       "\t<tr><td>4.9   </td><td>3.0   </td><td>1.4   </td><td>0.2   </td><td>setosa</td></tr>\n",
       "\t<tr><td>4.7   </td><td>3.2   </td><td>1.3   </td><td>0.2   </td><td>setosa</td></tr>\n",
       "\t<tr><td>4.6   </td><td>3.1   </td><td>1.5   </td><td>0.2   </td><td>setosa</td></tr>\n",
       "\t<tr><td>5.0   </td><td>3.6   </td><td>1.4   </td><td>0.2   </td><td>setosa</td></tr>\n",
       "\t<tr><td>5.4   </td><td>3.9   </td><td>1.7   </td><td>0.4   </td><td>setosa</td></tr>\n",
       "\t<tr><td>4.6   </td><td>3.4   </td><td>1.4   </td><td>0.3   </td><td>setosa</td></tr>\n",
       "\t<tr><td>5.0   </td><td>3.4   </td><td>1.5   </td><td>0.2   </td><td>setosa</td></tr>\n",
       "\t<tr><td>4.4   </td><td>2.9   </td><td>1.4   </td><td>0.2   </td><td>setosa</td></tr>\n",
       "\t<tr><td>4.9   </td><td>3.1   </td><td>1.5   </td><td>0.1   </td><td>setosa</td></tr>\n",
       "</tbody>\n",
       "</table>\n"
      ],
      "text/latex": [
       "\\begin{tabular}{r|lllll}\n",
       " Sepal.Length & Sepal.Width & Petal.Length & Petal.Width & Species\\\\\n",
       "\\hline\n",
       "\t 5.1    & 3.5    & 1.4    & 0.2    & setosa\\\\\n",
       "\t 4.9    & 3.0    & 1.4    & 0.2    & setosa\\\\\n",
       "\t 4.7    & 3.2    & 1.3    & 0.2    & setosa\\\\\n",
       "\t 4.6    & 3.1    & 1.5    & 0.2    & setosa\\\\\n",
       "\t 5.0    & 3.6    & 1.4    & 0.2    & setosa\\\\\n",
       "\t 5.4    & 3.9    & 1.7    & 0.4    & setosa\\\\\n",
       "\t 4.6    & 3.4    & 1.4    & 0.3    & setosa\\\\\n",
       "\t 5.0    & 3.4    & 1.5    & 0.2    & setosa\\\\\n",
       "\t 4.4    & 2.9    & 1.4    & 0.2    & setosa\\\\\n",
       "\t 4.9    & 3.1    & 1.5    & 0.1    & setosa\\\\\n",
       "\\end{tabular}\n"
      ],
      "text/markdown": [
       "\n",
       "| Sepal.Length | Sepal.Width | Petal.Length | Petal.Width | Species |\n",
       "|---|---|---|---|---|\n",
       "| 5.1    | 3.5    | 1.4    | 0.2    | setosa |\n",
       "| 4.9    | 3.0    | 1.4    | 0.2    | setosa |\n",
       "| 4.7    | 3.2    | 1.3    | 0.2    | setosa |\n",
       "| 4.6    | 3.1    | 1.5    | 0.2    | setosa |\n",
       "| 5.0    | 3.6    | 1.4    | 0.2    | setosa |\n",
       "| 5.4    | 3.9    | 1.7    | 0.4    | setosa |\n",
       "| 4.6    | 3.4    | 1.4    | 0.3    | setosa |\n",
       "| 5.0    | 3.4    | 1.5    | 0.2    | setosa |\n",
       "| 4.4    | 2.9    | 1.4    | 0.2    | setosa |\n",
       "| 4.9    | 3.1    | 1.5    | 0.1    | setosa |\n",
       "\n"
      ],
      "text/plain": [
       "   Sepal.Length Sepal.Width Petal.Length Petal.Width Species\n",
       "1  5.1          3.5         1.4          0.2         setosa \n",
       "2  4.9          3.0         1.4          0.2         setosa \n",
       "3  4.7          3.2         1.3          0.2         setosa \n",
       "4  4.6          3.1         1.5          0.2         setosa \n",
       "5  5.0          3.6         1.4          0.2         setosa \n",
       "6  5.4          3.9         1.7          0.4         setosa \n",
       "7  4.6          3.4         1.4          0.3         setosa \n",
       "8  5.0          3.4         1.5          0.2         setosa \n",
       "9  4.4          2.9         1.4          0.2         setosa \n",
       "10 4.9          3.1         1.5          0.1         setosa "
      ]
     },
     "metadata": {},
     "output_type": "display_data"
    }
   ],
   "source": [
    "head(iris,10)"
   ]
  },
  {
   "cell_type": "code",
   "execution_count": 28,
   "metadata": {},
   "outputs": [
    {
     "data": {
      "text/html": [
       "<table>\n",
       "<thead><tr><th></th><th scope=col>Sepal.Length</th><th scope=col>Sepal.Width</th><th scope=col>Petal.Length</th><th scope=col>Petal.Width</th><th scope=col>Species</th></tr></thead>\n",
       "<tbody>\n",
       "\t<tr><th scope=row>145</th><td>6.7      </td><td>3.3      </td><td>5.7      </td><td>2.5      </td><td>virginica</td></tr>\n",
       "\t<tr><th scope=row>146</th><td>6.7      </td><td>3.0      </td><td>5.2      </td><td>2.3      </td><td>virginica</td></tr>\n",
       "\t<tr><th scope=row>147</th><td>6.3      </td><td>2.5      </td><td>5.0      </td><td>1.9      </td><td>virginica</td></tr>\n",
       "\t<tr><th scope=row>148</th><td>6.5      </td><td>3.0      </td><td>5.2      </td><td>2.0      </td><td>virginica</td></tr>\n",
       "\t<tr><th scope=row>149</th><td>6.2      </td><td>3.4      </td><td>5.4      </td><td>2.3      </td><td>virginica</td></tr>\n",
       "\t<tr><th scope=row>150</th><td>5.9      </td><td>3.0      </td><td>5.1      </td><td>1.8      </td><td>virginica</td></tr>\n",
       "</tbody>\n",
       "</table>\n"
      ],
      "text/latex": [
       "\\begin{tabular}{r|lllll}\n",
       "  & Sepal.Length & Sepal.Width & Petal.Length & Petal.Width & Species\\\\\n",
       "\\hline\n",
       "\t145 & 6.7       & 3.3       & 5.7       & 2.5       & virginica\\\\\n",
       "\t146 & 6.7       & 3.0       & 5.2       & 2.3       & virginica\\\\\n",
       "\t147 & 6.3       & 2.5       & 5.0       & 1.9       & virginica\\\\\n",
       "\t148 & 6.5       & 3.0       & 5.2       & 2.0       & virginica\\\\\n",
       "\t149 & 6.2       & 3.4       & 5.4       & 2.3       & virginica\\\\\n",
       "\t150 & 5.9       & 3.0       & 5.1       & 1.8       & virginica\\\\\n",
       "\\end{tabular}\n"
      ],
      "text/markdown": [
       "\n",
       "| <!--/--> | Sepal.Length | Sepal.Width | Petal.Length | Petal.Width | Species |\n",
       "|---|---|---|---|---|---|\n",
       "| 145 | 6.7       | 3.3       | 5.7       | 2.5       | virginica |\n",
       "| 146 | 6.7       | 3.0       | 5.2       | 2.3       | virginica |\n",
       "| 147 | 6.3       | 2.5       | 5.0       | 1.9       | virginica |\n",
       "| 148 | 6.5       | 3.0       | 5.2       | 2.0       | virginica |\n",
       "| 149 | 6.2       | 3.4       | 5.4       | 2.3       | virginica |\n",
       "| 150 | 5.9       | 3.0       | 5.1       | 1.8       | virginica |\n",
       "\n"
      ],
      "text/plain": [
       "    Sepal.Length Sepal.Width Petal.Length Petal.Width Species  \n",
       "145 6.7          3.3         5.7          2.5         virginica\n",
       "146 6.7          3.0         5.2          2.3         virginica\n",
       "147 6.3          2.5         5.0          1.9         virginica\n",
       "148 6.5          3.0         5.2          2.0         virginica\n",
       "149 6.2          3.4         5.4          2.3         virginica\n",
       "150 5.9          3.0         5.1          1.8         virginica"
      ]
     },
     "metadata": {},
     "output_type": "display_data"
    }
   ],
   "source": [
    "tail(iris)"
   ]
  },
  {
   "cell_type": "code",
   "execution_count": 29,
   "metadata": {},
   "outputs": [
    {
     "data": {
      "text/plain": [
       "  Sepal.Length    Sepal.Width     Petal.Length    Petal.Width   \n",
       " Min.   :4.300   Min.   :2.000   Min.   :1.000   Min.   :0.100  \n",
       " 1st Qu.:5.100   1st Qu.:2.800   1st Qu.:1.600   1st Qu.:0.300  \n",
       " Median :5.800   Median :3.000   Median :4.350   Median :1.300  \n",
       " Mean   :5.843   Mean   :3.057   Mean   :3.758   Mean   :1.199  \n",
       " 3rd Qu.:6.400   3rd Qu.:3.300   3rd Qu.:5.100   3rd Qu.:1.800  \n",
       " Max.   :7.900   Max.   :4.400   Max.   :6.900   Max.   :2.500  \n",
       "       Species  \n",
       " setosa    :50  \n",
       " versicolor:50  \n",
       " virginica :50  \n",
       "                \n",
       "                \n",
       "                "
      ]
     },
     "metadata": {},
     "output_type": "display_data"
    }
   ],
   "source": [
    "summary(iris)"
   ]
  },
  {
   "cell_type": "code",
   "execution_count": 30,
   "metadata": {},
   "outputs": [
    {
     "data": {
      "text/plain": [
       "   Min. 1st Qu.  Median    Mean 3rd Qu.    Max. \n",
       "  4.300   5.100   5.800   5.843   6.400   7.900 "
      ]
     },
     "metadata": {},
     "output_type": "display_data"
    }
   ],
   "source": [
    "summary(iris$Sepal.Length)"
   ]
  },
  {
   "cell_type": "code",
   "execution_count": 31,
   "metadata": {},
   "outputs": [
    {
     "name": "stdout",
     "output_type": "stream",
     "text": [
      "'data.frame':\t150 obs. of  5 variables:\n",
      " $ Sepal.Length: num  5.1 4.9 4.7 4.6 5 5.4 4.6 5 4.4 4.9 ...\n",
      " $ Sepal.Width : num  3.5 3 3.2 3.1 3.6 3.9 3.4 3.4 2.9 3.1 ...\n",
      " $ Petal.Length: num  1.4 1.4 1.3 1.5 1.4 1.7 1.4 1.5 1.4 1.5 ...\n",
      " $ Petal.Width : num  0.2 0.2 0.2 0.2 0.2 0.4 0.3 0.2 0.2 0.1 ...\n",
      " $ Species     : Factor w/ 3 levels \"setosa\",\"versicolor\",..: 1 1 1 1 1 1 1 1 1 1 ...\n"
     ]
    }
   ],
   "source": [
    "str(iris)"
   ]
  },
  {
   "cell_type": "code",
   "execution_count": 32,
   "metadata": {},
   "outputs": [
    {
     "data": {
      "text/html": [
       "<ol class=list-inline>\n",
       "\t<li>150</li>\n",
       "\t<li>5</li>\n",
       "</ol>\n"
      ],
      "text/latex": [
       "\\begin{enumerate*}\n",
       "\\item 150\n",
       "\\item 5\n",
       "\\end{enumerate*}\n"
      ],
      "text/markdown": [
       "1. 150\n",
       "2. 5\n",
       "\n",
       "\n"
      ],
      "text/plain": [
       "[1] 150   5"
      ]
     },
     "metadata": {},
     "output_type": "display_data"
    }
   ],
   "source": [
    "dim(iris)"
   ]
  },
  {
   "cell_type": "code",
   "execution_count": 33,
   "metadata": {},
   "outputs": [
    {
     "data": {
      "text/html": [
       "150"
      ],
      "text/latex": [
       "150"
      ],
      "text/markdown": [
       "150"
      ],
      "text/plain": [
       "[1] 150"
      ]
     },
     "metadata": {},
     "output_type": "display_data"
    }
   ],
   "source": [
    "nrow(iris)"
   ]
  },
  {
   "cell_type": "code",
   "execution_count": 34,
   "metadata": {},
   "outputs": [
    {
     "data": {
      "text/html": [
       "5"
      ],
      "text/latex": [
       "5"
      ],
      "text/markdown": [
       "5"
      ],
      "text/plain": [
       "[1] 5"
      ]
     },
     "metadata": {},
     "output_type": "display_data"
    }
   ],
   "source": [
    "ncol(iris)"
   ]
  },
  {
   "cell_type": "code",
   "execution_count": 35,
   "metadata": {},
   "outputs": [
    {
     "data": {
      "text/html": [
       "<ol class=list-inline>\n",
       "\t<li>'connect'</li>\n",
       "\t<li>'list'</li>\n",
       "\t<li>'rm'</li>\n",
       "\t<li>'x'</li>\n",
       "\t<li>'y'</li>\n",
       "\t<li>'z'</li>\n",
       "</ol>\n"
      ],
      "text/latex": [
       "\\begin{enumerate*}\n",
       "\\item 'connect'\n",
       "\\item 'list'\n",
       "\\item 'rm'\n",
       "\\item 'x'\n",
       "\\item 'y'\n",
       "\\item 'z'\n",
       "\\end{enumerate*}\n"
      ],
      "text/markdown": [
       "1. 'connect'\n",
       "2. 'list'\n",
       "3. 'rm'\n",
       "4. 'x'\n",
       "5. 'y'\n",
       "6. 'z'\n",
       "\n",
       "\n"
      ],
      "text/plain": [
       "[1] \"connect\" \"list\"    \"rm\"      \"x\"       \"y\"       \"z\"      "
      ]
     },
     "metadata": {},
     "output_type": "display_data"
    }
   ],
   "source": [
    "ls()"
   ]
  },
  {
   "cell_type": "code",
   "execution_count": 36,
   "metadata": {},
   "outputs": [],
   "source": [
    "rm(list=ls())"
   ]
  },
  {
   "cell_type": "code",
   "execution_count": 37,
   "metadata": {},
   "outputs": [
    {
     "data": {
      "text/html": [],
      "text/latex": [],
      "text/markdown": [],
      "text/plain": [
       "character(0)"
      ]
     },
     "metadata": {},
     "output_type": "display_data"
    }
   ],
   "source": [
    "ls()"
   ]
  },
  {
   "cell_type": "code",
   "execution_count": 38,
   "metadata": {},
   "outputs": [
    {
     "data": {
      "text/plain": [
       "96 bytes"
      ]
     },
     "metadata": {},
     "output_type": "display_data"
    }
   ],
   "source": [
    "x <- c(1,2,3,4,5)\n",
    "object.size(x)"
   ]
  },
  {
   "cell_type": "code",
   "execution_count": 39,
   "metadata": {},
   "outputs": [
    {
     "data": {
      "text/html": [
       "FALSE"
      ],
      "text/latex": [
       "FALSE"
      ],
      "text/markdown": [
       "FALSE"
      ],
      "text/plain": [
       "[1] FALSE"
      ]
     },
     "metadata": {},
     "output_type": "display_data"
    }
   ],
   "source": [
    "is.factor(iris)"
   ]
  },
  {
   "cell_type": "code",
   "execution_count": 40,
   "metadata": {},
   "outputs": [
    {
     "data": {
      "text/html": [
       "TRUE"
      ],
      "text/latex": [
       "TRUE"
      ],
      "text/markdown": [
       "TRUE"
      ],
      "text/plain": [
       "[1] TRUE"
      ]
     },
     "metadata": {},
     "output_type": "display_data"
    }
   ],
   "source": [
    "is.data.frame(iris)"
   ]
  },
  {
   "cell_type": "code",
   "execution_count": 41,
   "metadata": {},
   "outputs": [
    {
     "ename": "ERROR",
     "evalue": "Error in head(AirPassenagers): 객체 'AirPassenagers'를 찾을 수 없습니다\n",
     "output_type": "error",
     "traceback": [
      "Error in head(AirPassenagers): 객체 'AirPassenagers'를 찾을 수 없습니다\nTraceback:\n",
      "1. head(AirPassenagers)"
     ]
    }
   ],
   "source": [
    "head(AirPassenagers)"
   ]
  },
  {
   "cell_type": "code",
   "execution_count": 42,
   "metadata": {},
   "outputs": [
    {
     "data": {
      "text/html": [
       "<table>\n",
       "<thead><tr><th scope=col>Tree</th><th scope=col>age</th><th scope=col>circumference</th></tr></thead>\n",
       "<tbody>\n",
       "\t<tr><td>1   </td><td> 118</td><td> 30 </td></tr>\n",
       "\t<tr><td>1   </td><td> 484</td><td> 58 </td></tr>\n",
       "\t<tr><td>1   </td><td> 664</td><td> 87 </td></tr>\n",
       "\t<tr><td>1   </td><td>1004</td><td>115 </td></tr>\n",
       "\t<tr><td>1   </td><td>1231</td><td>120 </td></tr>\n",
       "\t<tr><td>1   </td><td>1372</td><td>142 </td></tr>\n",
       "</tbody>\n",
       "</table>\n"
      ],
      "text/latex": [
       "\\begin{tabular}{r|lll}\n",
       " Tree & age & circumference\\\\\n",
       "\\hline\n",
       "\t 1    &  118 &  30 \\\\\n",
       "\t 1    &  484 &  58 \\\\\n",
       "\t 1    &  664 &  87 \\\\\n",
       "\t 1    & 1004 & 115 \\\\\n",
       "\t 1    & 1231 & 120 \\\\\n",
       "\t 1    & 1372 & 142 \\\\\n",
       "\\end{tabular}\n"
      ],
      "text/markdown": [
       "\n",
       "| Tree | age | circumference |\n",
       "|---|---|---|\n",
       "| 1    |  118 |  30  |\n",
       "| 1    |  484 |  58  |\n",
       "| 1    |  664 |  87  |\n",
       "| 1    | 1004 | 115  |\n",
       "| 1    | 1231 | 120  |\n",
       "| 1    | 1372 | 142  |\n",
       "\n"
      ],
      "text/plain": [
       "  Tree age  circumference\n",
       "1 1     118  30          \n",
       "2 1     484  58          \n",
       "3 1     664  87          \n",
       "4 1    1004 115          \n",
       "5 1    1231 120          \n",
       "6 1    1372 142          "
      ]
     },
     "metadata": {},
     "output_type": "display_data"
    }
   ],
   "source": [
    "head(Orange)"
   ]
  },
  {
   "cell_type": "code",
   "execution_count": 43,
   "metadata": {},
   "outputs": [
    {
     "data": {
      "text/html": [
       "<table>\n",
       "<thead><tr><th scope=col>Tree</th><th scope=col>age</th><th scope=col>circumference</th></tr></thead>\n",
       "<tbody>\n",
       "\t<tr><td>1   </td><td> 118</td><td> 30 </td></tr>\n",
       "\t<tr><td>1   </td><td> 484</td><td> 58 </td></tr>\n",
       "\t<tr><td>1   </td><td> 664</td><td> 87 </td></tr>\n",
       "\t<tr><td>1   </td><td>1004</td><td>115 </td></tr>\n",
       "\t<tr><td>1   </td><td>1231</td><td>120 </td></tr>\n",
       "\t<tr><td>1   </td><td>1372</td><td>142 </td></tr>\n",
       "</tbody>\n",
       "</table>\n"
      ],
      "text/latex": [
       "\\begin{tabular}{r|lll}\n",
       " Tree & age & circumference\\\\\n",
       "\\hline\n",
       "\t 1    &  118 &  30 \\\\\n",
       "\t 1    &  484 &  58 \\\\\n",
       "\t 1    &  664 &  87 \\\\\n",
       "\t 1    & 1004 & 115 \\\\\n",
       "\t 1    & 1231 & 120 \\\\\n",
       "\t 1    & 1372 & 142 \\\\\n",
       "\\end{tabular}\n"
      ],
      "text/markdown": [
       "\n",
       "| Tree | age | circumference |\n",
       "|---|---|---|\n",
       "| 1    |  118 |  30  |\n",
       "| 1    |  484 |  58  |\n",
       "| 1    |  664 |  87  |\n",
       "| 1    | 1004 | 115  |\n",
       "| 1    | 1231 | 120  |\n",
       "| 1    | 1372 | 142  |\n",
       "\n"
      ],
      "text/plain": [
       "  Tree age  circumference\n",
       "1 1     118  30          \n",
       "2 1     484  58          \n",
       "3 1     664  87          \n",
       "4 1    1004 115          \n",
       "5 1    1231 120          \n",
       "6 1    1372 142          "
      ]
     },
     "metadata": {},
     "output_type": "display_data"
    }
   ],
   "source": [
    "# 위는 iris로 돌았으니까 이번에는 Orange로 돌아보자\n",
    "head(Orange)"
   ]
  },
  {
   "cell_type": "code",
   "execution_count": 44,
   "metadata": {},
   "outputs": [
    {
     "data": {
      "text/html": [
       "<table>\n",
       "<thead><tr><th></th><th scope=col>Tree</th><th scope=col>age</th><th scope=col>circumference</th></tr></thead>\n",
       "<tbody>\n",
       "\t<tr><th scope=row>30</th><td>5   </td><td> 484</td><td> 49 </td></tr>\n",
       "\t<tr><th scope=row>31</th><td>5   </td><td> 664</td><td> 81 </td></tr>\n",
       "\t<tr><th scope=row>32</th><td>5   </td><td>1004</td><td>125 </td></tr>\n",
       "\t<tr><th scope=row>33</th><td>5   </td><td>1231</td><td>142 </td></tr>\n",
       "\t<tr><th scope=row>34</th><td>5   </td><td>1372</td><td>174 </td></tr>\n",
       "\t<tr><th scope=row>35</th><td>5   </td><td>1582</td><td>177 </td></tr>\n",
       "</tbody>\n",
       "</table>\n"
      ],
      "text/latex": [
       "\\begin{tabular}{r|lll}\n",
       "  & Tree & age & circumference\\\\\n",
       "\\hline\n",
       "\t30 & 5    &  484 &  49 \\\\\n",
       "\t31 & 5    &  664 &  81 \\\\\n",
       "\t32 & 5    & 1004 & 125 \\\\\n",
       "\t33 & 5    & 1231 & 142 \\\\\n",
       "\t34 & 5    & 1372 & 174 \\\\\n",
       "\t35 & 5    & 1582 & 177 \\\\\n",
       "\\end{tabular}\n"
      ],
      "text/markdown": [
       "\n",
       "| <!--/--> | Tree | age | circumference |\n",
       "|---|---|---|---|\n",
       "| 30 | 5    |  484 |  49  |\n",
       "| 31 | 5    |  664 |  81  |\n",
       "| 32 | 5    | 1004 | 125  |\n",
       "| 33 | 5    | 1231 | 142  |\n",
       "| 34 | 5    | 1372 | 174  |\n",
       "| 35 | 5    | 1582 | 177  |\n",
       "\n"
      ],
      "text/plain": [
       "   Tree age  circumference\n",
       "30 5     484  49          \n",
       "31 5     664  81          \n",
       "32 5    1004 125          \n",
       "33 5    1231 142          \n",
       "34 5    1372 174          \n",
       "35 5    1582 177          "
      ]
     },
     "metadata": {},
     "output_type": "display_data"
    }
   ],
   "source": [
    "tail(Orange)"
   ]
  },
  {
   "cell_type": "code",
   "execution_count": 45,
   "metadata": {},
   "outputs": [
    {
     "data": {
      "text/plain": [
       " Tree       age         circumference  \n",
       " 3:7   Min.   : 118.0   Min.   : 30.0  \n",
       " 1:7   1st Qu.: 484.0   1st Qu.: 65.5  \n",
       " 5:7   Median :1004.0   Median :115.0  \n",
       " 2:7   Mean   : 922.1   Mean   :115.9  \n",
       " 4:7   3rd Qu.:1372.0   3rd Qu.:161.5  \n",
       "       Max.   :1582.0   Max.   :214.0  "
      ]
     },
     "metadata": {},
     "output_type": "display_data"
    }
   ],
   "source": [
    "summary(Orange)"
   ]
  },
  {
   "cell_type": "code",
   "execution_count": 46,
   "metadata": {},
   "outputs": [
    {
     "data": {
      "text/plain": [
       "   Min. 1st Qu.  Median    Mean 3rd Qu.    Max. \n",
       "  118.0   484.0  1004.0   922.1  1372.0  1582.0 "
      ]
     },
     "metadata": {},
     "output_type": "display_data"
    }
   ],
   "source": [
    "summary(Orange$age)"
   ]
  },
  {
   "cell_type": "code",
   "execution_count": 47,
   "metadata": {},
   "outputs": [
    {
     "name": "stdout",
     "output_type": "stream",
     "text": [
      "Classes 'nfnGroupedData', 'nfGroupedData', 'groupedData' and 'data.frame':\t35 obs. of  3 variables:\n",
      " $ Tree         : Ord.factor w/ 5 levels \"3\"<\"1\"<\"5\"<\"2\"<..: 2 2 2 2 2 2 2 4 4 4 ...\n",
      " $ age          : num  118 484 664 1004 1231 ...\n",
      " $ circumference: num  30 58 87 115 120 142 145 33 69 111 ...\n",
      " - attr(*, \"formula\")=Class 'formula'  language circumference ~ age | Tree\n",
      "  .. ..- attr(*, \".Environment\")=<environment: R_EmptyEnv> \n",
      " - attr(*, \"labels\")=List of 2\n",
      "  ..$ x: chr \"Time since December 31, 1968\"\n",
      "  ..$ y: chr \"Trunk circumference\"\n",
      " - attr(*, \"units\")=List of 2\n",
      "  ..$ x: chr \"(days)\"\n",
      "  ..$ y: chr \"(mm)\"\n"
     ]
    }
   ],
   "source": [
    "str(Orange)"
   ]
  },
  {
   "cell_type": "code",
   "execution_count": 48,
   "metadata": {},
   "outputs": [
    {
     "ename": "ERROR",
     "evalue": "Error in View(Orange): 'View()' not yet supported in the Jupyter R kernel\n",
     "output_type": "error",
     "traceback": [
      "Error in View(Orange): 'View()' not yet supported in the Jupyter R kernel\nTraceback:\n",
      "1. View(Orange)",
      "2. stop(sQuote(\"View()\"), \" not yet supported in the Jupyter R kernel\")"
     ]
    }
   ],
   "source": [
    "View(Orange)"
   ]
  },
  {
   "cell_type": "code",
   "execution_count": 49,
   "metadata": {},
   "outputs": [
    {
     "data": {
      "text/html": [
       "<ol class=list-inline>\n",
       "\t<li>35</li>\n",
       "\t<li>3</li>\n",
       "</ol>\n"
      ],
      "text/latex": [
       "\\begin{enumerate*}\n",
       "\\item 35\n",
       "\\item 3\n",
       "\\end{enumerate*}\n"
      ],
      "text/markdown": [
       "1. 35\n",
       "2. 3\n",
       "\n",
       "\n"
      ],
      "text/plain": [
       "[1] 35  3"
      ]
     },
     "metadata": {},
     "output_type": "display_data"
    }
   ],
   "source": [
    "dim(Orange) # 차원 카운트 : Orange는 35행 3열"
   ]
  },
  {
   "cell_type": "code",
   "execution_count": 50,
   "metadata": {},
   "outputs": [
    {
     "data": {
      "text/html": [
       "35"
      ],
      "text/latex": [
       "35"
      ],
      "text/markdown": [
       "35"
      ],
      "text/plain": [
       "[1] 35"
      ]
     },
     "metadata": {},
     "output_type": "display_data"
    }
   ],
   "source": [
    "nrow(Orange)"
   ]
  },
  {
   "cell_type": "code",
   "execution_count": 51,
   "metadata": {},
   "outputs": [
    {
     "data": {
      "text/html": [
       "3"
      ],
      "text/latex": [
       "3"
      ],
      "text/markdown": [
       "3"
      ],
      "text/plain": [
       "[1] 3"
      ]
     },
     "metadata": {},
     "output_type": "display_data"
    }
   ],
   "source": [
    "ncol(Orange)"
   ]
  },
  {
   "cell_type": "code",
   "execution_count": 52,
   "metadata": {},
   "outputs": [
    {
     "data": {
      "text/html": [
       "3"
      ],
      "text/latex": [
       "3"
      ],
      "text/markdown": [
       "3"
      ],
      "text/plain": [
       "[1] 3"
      ]
     },
     "metadata": {},
     "output_type": "display_data"
    }
   ],
   "source": [
    "length(Orange) # 데이터 프레임의 데이터셋 길이 = 열 길이"
   ]
  },
  {
   "cell_type": "code",
   "execution_count": 53,
   "metadata": {},
   "outputs": [
    {
     "data": {
      "text/html": [
       "'x'"
      ],
      "text/latex": [
       "'x'"
      ],
      "text/markdown": [
       "'x'"
      ],
      "text/plain": [
       "[1] \"x\""
      ]
     },
     "metadata": {},
     "output_type": "display_data"
    }
   ],
   "source": [
    "ls()"
   ]
  },
  {
   "cell_type": "code",
   "execution_count": 54,
   "metadata": {},
   "outputs": [
    {
     "data": {
      "text/plain": [
       "5232 bytes"
      ]
     },
     "metadata": {},
     "output_type": "display_data"
    }
   ],
   "source": [
    "object.size(Orange)"
   ]
  },
  {
   "cell_type": "code",
   "execution_count": null,
   "metadata": {},
   "outputs": [],
   "source": [
    "# 위치값"
   ]
  }
 ],
 "metadata": {
  "kernelspec": {
   "display_name": "R",
   "language": "R",
   "name": "ir"
  },
  "language_info": {
   "codemirror_mode": "r",
   "file_extension": ".r",
   "mimetype": "text/x-r-source",
   "name": "R",
   "pygments_lexer": "r",
   "version": "3.6.1"
  }
 },
 "nbformat": 4,
 "nbformat_minor": 4
}
